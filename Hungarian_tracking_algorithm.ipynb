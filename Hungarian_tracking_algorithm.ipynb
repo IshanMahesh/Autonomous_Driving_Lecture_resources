{
  "nbformat": 4,
  "nbformat_minor": 0,
  "metadata": {
    "colab": {
      "name": "Hungarian_tracking_algorithm.ipynb",
      "provenance": [],
      "authorship_tag": "ABX9TyMu/6eBxXt6WDpo0M0kQffj",
      "include_colab_link": true
    },
    "kernelspec": {
      "name": "python3",
      "display_name": "Python 3"
    },
    "language_info": {
      "name": "python"
    }
  },
  "cells": [
    {
      "cell_type": "markdown",
      "metadata": {
        "id": "view-in-github",
        "colab_type": "text"
      },
      "source": [
        "<a href=\"https://colab.research.google.com/github/Mayakshanesht/Autonomous_Driving_Lecture_resources/blob/Perception/Hungarian_tracking_algorithm.ipynb\" target=\"_parent\"><img src=\"https://colab.research.google.com/assets/colab-badge.svg\" alt=\"Open In Colab\"/></a>"
      ]
    },
    {
      "cell_type": "code",
      "metadata": {
        "colab": {
          "base_uri": "https://localhost:8080/"
        },
        "id": "9L0ydw9KVSgt",
        "outputId": "a179e6ac-d33e-4c4c-b915-5b6a72fc0c7f"
      },
      "source": [
        "import random\n",
        "from scipy.optimize import linear_sum_assignment\n",
        "import numpy as np\n",
        "\n",
        "# Detections at time 0\n",
        "A = [100, 120, 130, 330]\n",
        "B = [300, 350, 400, 400]\n",
        "C = [ 577, 138, 709, 244]\n",
        "\n",
        "# Detections at time 1\n",
        "D = [50, 400, 100, 550] # Should no frame\n",
        "E = [99, 120, 132, 333] # Should match frame A\n",
        "F = [302, 352, 406, 400] # Shold match frame B\n",
        "\n",
        "old = [A,B,C]\n",
        "new = [D,E,F]\n",
        "print(old)\n",
        "print(new)"
      ],
      "execution_count": 3,
      "outputs": [
        {
          "output_type": "stream",
          "text": [
            "[[100, 120, 130, 330], [300, 350, 400, 400], [577, 138, 709, 244]]\n",
            "[[50, 400, 100, 550], [99, 120, 132, 333], [302, 352, 406, 400]]\n"
          ],
          "name": "stdout"
        }
      ]
    },
    {
      "cell_type": "code",
      "metadata": {
        "id": "ShJzNG7zVmiX"
      },
      "source": [
        "### HELPER IOU FUNCTION\n",
        "def box_iou(box1, box2):\n",
        "\txA = max(box1[0], box2[0])\n",
        "\tyA = max(box1[1], box2[1])\n",
        "\txB = min(box1[2], box2[2])\n",
        "\tyB = min(box1[3], box2[3])\n",
        "\tinter_area = max(0, xB - xA + 1) * max(0, yB - yA + 1) #abs((xi2 - xi1)*(yi2 - yi1))\n",
        "\t# Calculate the Union area by using Formula: Union(A,B) = A + B - Inter(A,B)\n",
        "\tbox1_area = (box1[2] - box1[0] + 1) * (box1[3] - box1[1] + 1) #abs((box1[3] - box1[1])*(box1[2]- box1[0]))\n",
        "\tbox2_area = (box2[2] - box2[0] + 1) * (box2[3] - box2[1] + 1) #abs((box2[3] - box2[1])*(box2[2]- box2[0]))\n",
        "\tunion_area = (box1_area + box2_area) - inter_area\n",
        "\t# compute the IoU\n",
        "\tiou = inter_area/float(union_area)\n",
        "\treturn iou"
      ],
      "execution_count": 4,
      "outputs": []
    },
    {
      "cell_type": "code",
      "metadata": {
        "colab": {
          "base_uri": "https://localhost:8080/"
        },
        "id": "44kTALCkVnsD",
        "outputId": "48fbf09b-0993-4d10-a763-c14494e529c8"
      },
      "source": [
        "# Go through old boxes and new boxes and compute an IOU to store in a matrix\n",
        "\n",
        "#TODO\n",
        "iou_matrix = np.zeros((len(old),len(new)),dtype=np.float32)\n",
        "\n",
        "for i,old_box in enumerate(old):\n",
        "\tfor j,new_box in enumerate(new):\n",
        "\t\tiou_matrix[i][j] = box_iou(old_box, new_box)\n",
        "\n",
        "print(iou_matrix)"
      ],
      "execution_count": 5,
      "outputs": [
        {
          "output_type": "stream",
          "text": [
            "[[0.         0.89898294 0.        ]\n",
            " [0.         0.         0.8909091 ]\n",
            " [0.         0.         0.        ]]\n"
          ],
          "name": "stdout"
        }
      ]
    },
    {
      "cell_type": "code",
      "metadata": {
        "colab": {
          "base_uri": "https://localhost:8080/"
        },
        "id": "zkJDGTg1g-HA",
        "outputId": "4309a5f8-369a-494b-acbe-9e66bc14b0f4"
      },
      "source": [
        "# Go through the IOU matrix and replace positive values with 1\n",
        "# Always take the maximum value (if there are two positive values)\n",
        "# TODO\n",
        "for idx, iou in enumerate(iou_matrix):\n",
        "\tiou_matrix[idx] = [1 if (x==max(iou) and max(iou)>0) else 0 for x in iou]\n",
        "\n",
        "print(\"Match Matrix\")\n",
        "print(iou_matrix)"
      ],
      "execution_count": 6,
      "outputs": [
        {
          "output_type": "stream",
          "text": [
            "Match Matrix\n",
            "[[0. 1. 0.]\n",
            " [0. 0. 1.]\n",
            " [0. 0. 0.]]\n"
          ],
          "name": "stdout"
        }
      ]
    },
    {
      "cell_type": "code",
      "metadata": {
        "colab": {
          "base_uri": "https://localhost:8080/"
        },
        "id": "jEE52-V8hAyW",
        "outputId": "5966b61c-9ce4-418d-a104-d053ca40a439"
      },
      "source": [
        "# Call the Linear Assignment Method (Hungarian Algorithm)\n",
        "hungarian_row, hungarian_col = linear_sum_assignment(-iou_matrix)\n",
        "print(\"Hungarian Matrix\")\n",
        "print(hungarian_row)\n",
        "print(hungarian_col)"
      ],
      "execution_count": 7,
      "outputs": [
        {
          "output_type": "stream",
          "text": [
            "Hungarian Matrix\n",
            "[0 1 2]\n",
            "[1 2 0]\n"
          ],
          "name": "stdout"
        }
      ]
    },
    {
      "cell_type": "code",
      "metadata": {
        "id": "xJZT5kvchCy-"
      },
      "source": [
        "# Declate a list for matches, unmatched detections, and unmatched trackings\n",
        "matches = []\n",
        "unmatched_trackers, unmatched_detections = [], []"
      ],
      "execution_count": 8,
      "outputs": []
    },
    {
      "cell_type": "code",
      "metadata": {
        "colab": {
          "base_uri": "https://localhost:8080/"
        },
        "id": "vob-fNm4hE2m",
        "outputId": "39f6c15d-ae3d-49d5-b7c3-2f2fea1949d8"
      },
      "source": [
        "# Just a reshape of the hungarian matrix to have it properly\n",
        "hungarian = np.array(list(zip(hungarian_row, hungarian_col)))\n",
        "print(hungarian)"
      ],
      "execution_count": 9,
      "outputs": [
        {
          "output_type": "stream",
          "text": [
            "[[0 1]\n",
            " [1 2]\n",
            " [2 0]]\n"
          ],
          "name": "stdout"
        }
      ]
    },
    {
      "cell_type": "code",
      "metadata": {
        "colab": {
          "base_uri": "https://localhost:8080/"
        },
        "id": "qI9J9kiQhHeY",
        "outputId": "de52daa3-94ec-4c94-8f72-b8474be79505"
      },
      "source": [
        "for h in hungarian:\n",
        "    if(iou_matrix[h[0],h[1]]<0.3):\n",
        "        unmatched_trackers.append(old[h[0]])\n",
        "        unmatched_detections.append(new[h[1]])\n",
        "    else:\n",
        "        matches.append(h.reshape(1,2))\n",
        "    \n",
        "if(len(matches)==0):\n",
        "\tmatches = np.empty((0,2),dtype=int)\n",
        "else:\n",
        "\tmatches = np.concatenate(matches,axis=0)\n",
        "\n",
        "print(\"Matches \")\n",
        "print( matches)\n",
        "print(\"Unmatched det\")\n",
        "print(unmatched_detections)\n",
        "print(\"Unmatched Trackers\")\n",
        "print(unmatched_trackers)"
      ],
      "execution_count": 10,
      "outputs": [
        {
          "output_type": "stream",
          "text": [
            "Matches \n",
            "[[0 1]\n",
            " [1 2]]\n",
            "Unmatched det\n",
            "[[50, 400, 100, 550]]\n",
            "Unmatched Trackers\n",
            "[[577, 138, 709, 244]]\n"
          ],
          "name": "stdout"
        }
      ]
    },
    {
      "cell_type": "code",
      "metadata": {
        "id": "Hnirn7gLhK0v"
      },
      "source": [
        "for t,trk in enumerate(old):\n",
        "\tif(t not in hungarian[:,0]):\n",
        "\t\tunmatched_trackers.append(t)\n",
        "\n",
        "for d, det in enumerate(new):\n",
        "\tif(d not in hungarian[:,1]):\n",
        "    \t\tunmatched_detections.append(d)"
      ],
      "execution_count": 11,
      "outputs": []
    },
    {
      "cell_type": "code",
      "metadata": {
        "colab": {
          "base_uri": "https://localhost:8080/"
        },
        "id": "Fo01KsaDhM9e",
        "outputId": "2e2259a1-9675-4cff-c549-315bedc34806"
      },
      "source": [
        "# Now, we want to display the matched bounding boxes\n",
        "display_match = []\n",
        "for matching in matches:\n",
        "    display_match.append((new[matching[1]],old[matching[0]]))\n",
        "\n",
        "print(\"Matched Detections\")\n",
        "print(display_match)\n",
        "print(\"Unmatched Detections \")\n",
        "print(np.array(unmatched_detections))\n",
        "print(\"Unmatched trackers \")\n",
        "print(np.array(unmatched_trackers))       "
      ],
      "execution_count": 12,
      "outputs": [
        {
          "output_type": "stream",
          "text": [
            "Matched Detections\n",
            "[([99, 120, 132, 333], [100, 120, 130, 330]), ([302, 352, 406, 400], [300, 350, 400, 400])]\n",
            "Unmatched Detections \n",
            "[[ 50 400 100 550]]\n",
            "Unmatched trackers \n",
            "[[577 138 709 244]]\n"
          ],
          "name": "stdout"
        }
      ]
    }
  ]
}