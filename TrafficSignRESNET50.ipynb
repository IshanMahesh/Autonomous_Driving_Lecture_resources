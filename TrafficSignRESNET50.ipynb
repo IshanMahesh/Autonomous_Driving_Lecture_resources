{
  "nbformat": 4,
  "nbformat_minor": 0,
  "metadata": {
    "colab": {
      "name": "TrafficSignRESNET50.ipynb",
      "provenance": [],
      "collapsed_sections": [],
      "authorship_tag": "ABX9TyOLvie5FsPc4s07JhlkCZz2",
      "include_colab_link": true
    },
    "kernelspec": {
      "display_name": "Python 3",
      "name": "python3"
    }
  },
  "cells": [
    {
      "cell_type": "markdown",
      "metadata": {
        "id": "view-in-github",
        "colab_type": "text"
      },
      "source": [
        "<a href=\"https://colab.research.google.com/github/Mayakshanesht/Autonomous_Driving_Lecture_resources/blob/main/TrafficSignRESNET50.ipynb\" target=\"_parent\"><img src=\"https://colab.research.google.com/assets/colab-badge.svg\" alt=\"Open In Colab\"/></a>"
      ]
    },
    {
      "cell_type": "code",
      "metadata": {
        "id": "sGo_fBCS2fBf"
      },
      "source": [
        "#import libraries require for traffic sign classification problem\r\n",
        "import math\r\n",
        "import numpy as np\r\n",
        "import matplotlib.pyplot as plt\r\n",
        "import pandas as pd\r\n",
        "import tensorflow as tf\r\n",
        "import keras\r\n",
        "from glob import glob"
      ],
      "execution_count": 1,
      "outputs": []
    },
    {
      "cell_type": "code",
      "metadata": {
        "id": "fPH8QhP12iwx",
        "colab": {
          "base_uri": "https://localhost:8080/"
        },
        "outputId": "e3c409c0-b668-46e3-8a45-2567b9a55113"
      },
      "source": [
        "from google.colab import drive\r\n",
        "drive.mount('/content/drive')"
      ],
      "execution_count": 6,
      "outputs": [
        {
          "output_type": "stream",
          "text": [
            "Drive already mounted at /content/drive; to attempt to forcibly remount, call drive.mount(\"/content/drive\", force_remount=True).\n"
          ],
          "name": "stdout"
        }
      ]
    },
    {
      "cell_type": "code",
      "metadata": {
        "id": "BSxVVKNO2mBq"
      },
      "source": [
        "#load dataset\r\n",
        "#!unzip \"/content/drive/My Drive/Traffic sign classification GTSRB/archive.zip\" -d \"/content/drive/My Drive/Traffic sign classification GTSRB/Data/\""
      ],
      "execution_count": null,
      "outputs": []
    },
    {
      "cell_type": "code",
      "metadata": {
        "id": "4D7kLl522oek"
      },
      "source": [
        "#Use Image Generators\r\n",
        "#1. Initialize\r\n",
        "#For Training Data\r\n",
        "train_generator = tf.keras.preprocessing.image.ImageDataGenerator(rescale= 1.0/255.,\r\n",
        "                                                                  rotation_range=30,\r\n",
        "                                                              \r\n",
        "                                                                  zoom_range=0.2,\r\n",
        "                                                                  horizontal_flip=True,\r\n",
        "                                                                  \r\n",
        "                                                                  fill_mode='nearest',\r\n",
        "                                                                  preprocessing_function=tf.keras.applications.resnet50.preprocess_input)\r\n",
        "\r\n",
        "#For Validation Data\r\n",
        "valid_generator = tf.keras.preprocessing.image.ImageDataGenerator(rescale= 1.0/255., preprocessing_function=tf.keras.applications.resnet50.preprocess_input)"
      ],
      "execution_count": 7,
      "outputs": []
    },
    {
      "cell_type": "code",
      "metadata": {
        "colab": {
          "base_uri": "https://localhost:8080/"
        },
        "id": "xMX1VkKQ2sul",
        "outputId": "7d219497-acfa-4f44-b3b8-1c2710edafcc"
      },
      "source": [
        "#Pass set of images to the generator to generate compatible images for CNN\r\n",
        "trainImageData = train_generator.flow_from_directory(\"/content/drive/My Drive/Traffic sign classification GTSRB/Data/Train/\",\r\n",
        "                                                     batch_size=32,\r\n",
        "                                                     class_mode='categorical',\r\n",
        "                                                     target_size=(224,224))\r\n",
        "\r\n"
      ],
      "execution_count": 8,
      "outputs": [
        {
          "output_type": "stream",
          "text": [
            "Found 39209 images belonging to 43 classes.\n"
          ],
          "name": "stdout"
        }
      ]
    },
    {
      "cell_type": "code",
      "metadata": {
        "id": "j_wKyc1T25w6"
      },
      "source": [
        "Test_Data=pd.read_csv(\"/content/drive/My Drive/Traffic sign classification GTSRB/Data/Test.csv\")"
      ],
      "execution_count": 9,
      "outputs": []
    },
    {
      "cell_type": "code",
      "metadata": {
        "colab": {
          "base_uri": "https://localhost:8080/"
        },
        "id": "LHXKNxB726f6",
        "outputId": "f180041b-f51f-4331-d32e-dce1dcb9de1c"
      },
      "source": [
        "Test_Data.head"
      ],
      "execution_count": 10,
      "outputs": [
        {
          "output_type": "execute_result",
          "data": {
            "text/plain": [
              "<bound method NDFrame.head of        Width  Height  Roi.X1  Roi.Y1  Roi.X2  Roi.Y2  ClassId            Path\n",
              "0         53      54       6       5      48      49       16  Test/00000.png\n",
              "1         42      45       5       5      36      40        1  Test/00001.png\n",
              "2         48      52       6       6      43      47       38  Test/00002.png\n",
              "3         27      29       5       5      22      24       33  Test/00003.png\n",
              "4         60      57       5       5      55      52       11  Test/00004.png\n",
              "...      ...     ...     ...     ...     ...     ...      ...             ...\n",
              "12625     42      41       5       6      37      36       12  Test/12625.png\n",
              "12626     50      51       6       5      45      46       33  Test/12626.png\n",
              "12627     29      29       6       6      24      24        6  Test/12627.png\n",
              "12628     48      49       5       6      43      44        7  Test/12628.png\n",
              "12629     32      31       6       5      27      26       10  Test/12629.png\n",
              "\n",
              "[12630 rows x 8 columns]>"
            ]
          },
          "metadata": {
            "tags": []
          },
          "execution_count": 10
        }
      ]
    },
    {
      "cell_type": "code",
      "metadata": {
        "colab": {
          "base_uri": "https://localhost:8080/"
        },
        "id": "ccH4e19l28jU",
        "outputId": "feb42cfc-972f-435a-f233-2a8b2db3c536"
      },
      "source": [
        "Test_labels1=Test_Data['ClassId'].values\r\n",
        "#Test_labels=np.array(Test_labels1)\r\n",
        "#from sklearn.preprocessing import LabelBinarizer\r\n",
        "#Label_binarizer=LabelBinarizer()\r\n",
        "#Test_labels_transfromed=Label_binarizer.fit_transform(Test_labels)\r\n",
        "Test_labels_transfromed=np.array(tf.keras.utils.to_categorical(Test_labels1,num_classes=43,dtype=\"float32\"))\r\n",
        "#print(Test_labels_transfromed)\r\n",
        "Test_labels_transfromed.shape"
      ],
      "execution_count": 11,
      "outputs": [
        {
          "output_type": "execute_result",
          "data": {
            "text/plain": [
              "(12630, 43)"
            ]
          },
          "metadata": {
            "tags": []
          },
          "execution_count": 11
        }
      ]
    },
    {
      "cell_type": "code",
      "metadata": {
        "id": "9-AMAUit2-yE"
      },
      "source": [
        "valid_path = \"/content/drive/My Drive/Traffic sign classification GTSRB/Data/Test/\"\r\n",
        "#Test_images=np.load(\"/content/drive/My Drive/Traffic sign classification GTSRB/Data/Test/\")\r\n",
        "#Test_images = glob(valid_path + '/*/*.png')\r\n",
        "#Test_images4=Test_Data['Path'].values\r\n",
        "Test_images2 = glob(valid_path + '/*.png')\r\n",
        "Test_images5=[]\r\n",
        "import cv2\r\n",
        "for image in Test_images2:\r\n",
        "  #img=cv2.imread(image)\r\n",
        "  img=tf.keras.preprocessing.image.load_img(image, target_size=(224,224))\r\n",
        "  imgArray=tf.keras.preprocessing.image.img_to_array(img)\r\n",
        "  #img2=np.expand_dims(imgArray,axis=0)\r\n",
        "  \r\n",
        "  #img2=cv2.resize(imgArray,dsize=(32,32))\r\n",
        "  \r\n",
        "  Test_images5.append(imgArray)"
      ],
      "execution_count": 12,
      "outputs": []
    },
    {
      "cell_type": "code",
      "metadata": {
        "id": "-gfFdaxL3C91"
      },
      "source": [
        "Test_images3=np.array(Test_images5)\r\n",
        "Test_images3.shape\r\n",
        "plt.imshow(Test_images3[0])"
      ],
      "execution_count": null,
      "outputs": []
    },
    {
      "cell_type": "code",
      "metadata": {
        "id": "CkJR9_QH3FuF"
      },
      "source": [
        "validation_data=valid_generator.flow(Test_images3,Test_labels_transfromed, batch_size=32)"
      ],
      "execution_count": null,
      "outputs": []
    },
    {
      "cell_type": "code",
      "metadata": {
        "id": "EWbUYohK3KRb"
      },
      "source": [
        "# Follow the following order when planning to use Transfer Learning with existing CNN architectures\r\n",
        "# 1. VGG16\r\n",
        "# 2. Inceptionv3\r\n",
        "# 3. Resnet50\r\n",
        "# 4. Xception\r\n",
        "# 5. Nasnet --\r\n",
        "# Only applicable if you are not planning to train entire model"
      ],
      "execution_count": null,
      "outputs": []
    },
    {
      "cell_type": "code",
      "metadata": {
        "id": "bY7ZJEKm3LFN",
        "colab": {
          "base_uri": "https://localhost:8080/"
        },
        "outputId": "ec459b45-c001-488d-b0ac-a78ee967c534"
      },
      "source": [
        "resnet = tf.keras.applications.resnet50.ResNet50(input_shape=[224,224,3],\r\n",
        "                                        weights=\"imagenet\",\r\n",
        "                                        include_top=False)\r\n",
        "\r\n",
        "\r\n",
        "#To use the existing weights and disable training on VGG object.\r\n",
        "# Ensure all weights are immutable\r\n",
        "\r\n",
        "for layer in resnet.layers:\r\n",
        "  layer.trainable = False"
      ],
      "execution_count": 3,
      "outputs": [
        {
          "output_type": "stream",
          "text": [
            "Downloading data from https://storage.googleapis.com/tensorflow/keras-applications/resnet/resnet50_weights_tf_dim_ordering_tf_kernels_notop.h5\n",
            "94773248/94765736 [==============================] - 1s 0us/step\n"
          ],
          "name": "stdout"
        }
      ]
    },
    {
      "cell_type": "code",
      "metadata": {
        "id": "N4b8JSyd3NjG"
      },
      "source": [
        "#Create our FC layer as per our spec\r\n",
        "#Flatten\r\n",
        "flatten = tf.keras.layers.Flatten()\r\n",
        "#we should add few more layers\r\n",
        "#FC layer\r\n",
        "finalLayer1=tf.keras.layers.Dense(1024,activation='relu')\r\n",
        "finalLayer2=tf.keras.layers.Dropout(0.4)\r\n",
        "finalLayer3=tf.keras.layers.Dense(256,activation='relu')\r\n",
        "finalLayer4=tf.keras.layers.Dropout(0.3)\r\n",
        "finalLayer5 = tf.keras.layers.Dense(43,activation=\"softmax\")"
      ],
      "execution_count": 4,
      "outputs": []
    },
    {
      "cell_type": "code",
      "metadata": {
        "id": "TKydFTHw3PoC",
        "colab": {
          "base_uri": "https://localhost:8080/"
        },
        "outputId": "43c628c1-8e63-4419-90a7-f465a92ff3bf"
      },
      "source": [
        "model=tf.keras.models.Sequential([resnet,flatten,finalLayer1,finalLayer2,finalLayer3,finalLayer4,finalLayer5])\r\n",
        "model.summary()"
      ],
      "execution_count": 5,
      "outputs": [
        {
          "output_type": "stream",
          "text": [
            "Model: \"sequential\"\n",
            "_________________________________________________________________\n",
            "Layer (type)                 Output Shape              Param #   \n",
            "=================================================================\n",
            "resnet50 (Functional)        (None, 7, 7, 2048)        23587712  \n",
            "_________________________________________________________________\n",
            "flatten (Flatten)            (None, 100352)            0         \n",
            "_________________________________________________________________\n",
            "dense (Dense)                (None, 1024)              102761472 \n",
            "_________________________________________________________________\n",
            "dropout (Dropout)            (None, 1024)              0         \n",
            "_________________________________________________________________\n",
            "dense_1 (Dense)              (None, 256)               262400    \n",
            "_________________________________________________________________\n",
            "dropout_1 (Dropout)          (None, 256)               0         \n",
            "_________________________________________________________________\n",
            "dense_2 (Dense)              (None, 43)                11051     \n",
            "=================================================================\n",
            "Total params: 126,622,635\n",
            "Trainable params: 103,034,923\n",
            "Non-trainable params: 23,587,712\n",
            "_________________________________________________________________\n"
          ],
          "name": "stdout"
        }
      ]
    },
    {
      "cell_type": "code",
      "metadata": {
        "id": "4f6mOZ8_3RkB"
      },
      "source": [
        "model.compile(optimizer='adam',\r\n",
        "            \r\n",
        "              loss='categorical_crossentropy',\r\n",
        "              metrics=['accuracy'])"
      ],
      "execution_count": null,
      "outputs": []
    },
    {
      "cell_type": "code",
      "metadata": {
        "id": "Z5alUh_l3Tg5"
      },
      "source": [
        "batch_size=32\r\n",
        "history = model.fit(trainImageData,\r\n",
        "                    validation_data=validation_data,\r\n",
        "                    epochs=100)"
      ],
      "execution_count": null,
      "outputs": []
    },
    {
      "cell_type": "code",
      "metadata": {
        "id": "5-FoOLD03WJl"
      },
      "source": [
        "# Save the entire model as a SavedModel.\r\n",
        "!mkdir -p saved_model\r\n",
        "model.save('saved_model/my_model_resnet50.h5') "
      ],
      "execution_count": null,
      "outputs": []
    },
    {
      "cell_type": "code",
      "metadata": {
        "id": "bqm4xYe_3YRz",
        "colab": {
          "base_uri": "https://localhost:8080/",
          "height": 286
        },
        "outputId": "ffb8d006-0c3b-4705-bcdc-b5e4ead77046"
      },
      "source": [
        "#deployement\r\n",
        "img=tf.keras.preprocessing.image.load_img(\"/content/drive/My Drive/Traffic sign classification GTSRB/Data/Train/17/00017_00005_00029.png\", target_size=(224,224))\r\n",
        "imgArray=tf.keras.preprocessing.image.img_to_array(img)\r\n",
        "#import numpy as np\r\n",
        "img2=np.expand_dims(imgArray,axis=0)\r\n",
        "img_final=tf.keras.applications.resnet50.preprocess_input(img2)\r\n",
        "import matplotlib.pyplot as plt\r\n",
        "plt.imshow(img)\r\n",
        "preds=model.predict(img_final)\r\n",
        "print('Predicted:', tf.keras.applications.resnet50.decode_predictions(preds, top=3)[0])"
      ],
      "execution_count": 2,
      "outputs": [
        {
          "output_type": "execute_result",
          "data": {
            "text/plain": [
              "<matplotlib.image.AxesImage at 0x7f3acecf1490>"
            ]
          },
          "metadata": {
            "tags": []
          },
          "execution_count": 2
        },
        {
          "output_type": "display_data",
          "data": {
            "image/png": "[encoded data removed]",
            "text/plain": [
              "<Figure size 432x288 with 1 Axes>"
            ]
          },
          "metadata": {
            "tags": [],
            "needs_background": "light"
          }
        }
      ]
    }
  ]
}