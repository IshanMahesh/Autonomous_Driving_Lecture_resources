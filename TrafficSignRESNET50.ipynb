{
  "nbformat": 4,
  "nbformat_minor": 0,
  "metadata": {
    "colab": {
      "name": "TrafficSignRESNET50.ipynb",
      "provenance": [],
      "authorship_tag": "ABX9TyNyy2ZRic/TqK3EMmHSs1lD",
      "include_colab_link": true
    },
    "kernelspec": {
      "name": "python3",
      "display_name": "Python 3"
    }
  },
  "cells": [
    {
      "cell_type": "markdown",
      "metadata": {
        "id": "view-in-github",
        "colab_type": "text"
      },
      "source": [
        "<a href=\"https://colab.research.google.com/github/Mayakshanesht/Autonomous_Driving_Lecture_resources/blob/Perception/TrafficSignRESNET50.ipynb\" target=\"_parent\"><img src=\"https://colab.research.google.com/assets/colab-badge.svg\" alt=\"Open In Colab\"/></a>"
      ]
    },
    {
      "cell_type": "code",
      "metadata": {
        "id": "sGo_fBCS2fBf"
      },
      "source": [
        "#import libraries require for traffic sign classification problem\r\n",
        "import math\r\n",
        "import numpy as np\r\n",
        "import matplotlib.pyplot as plt\r\n",
        "import pandas as pd\r\n",
        "import tensorflow as tf\r\n",
        "import keras\r\n",
        "from glob import glob"
      ],
      "execution_count": 1,
      "outputs": []
    },
    {
      "cell_type": "code",
      "metadata": {
        "colab": {
          "base_uri": "https://localhost:8080/"
        },
        "id": "fPH8QhP12iwx",
        "outputId": "f89b6bf7-9154-4d87-8354-b5c5b1d7491f"
      },
      "source": [
        "from google.colab import drive\r\n",
        "drive.mount('/content/drive')"
      ],
      "execution_count": 2,
      "outputs": [
        {
          "output_type": "stream",
          "text": [
            "Mounted at /content/drive\n"
          ],
          "name": "stdout"
        }
      ]
    },
    {
      "cell_type": "code",
      "metadata": {
        "id": "BSxVVKNO2mBq"
      },
      "source": [
        "#load dataset\r\n",
        "#!unzip \"/content/drive/My Drive/Traffic sign classification GTSRB/archive.zip\" -d \"/content/drive/My Drive/Traffic sign classification GTSRB/Data/\""
      ],
      "execution_count": null,
      "outputs": []
    },
    {
      "cell_type": "code",
      "metadata": {
        "id": "4D7kLl522oek"
      },
      "source": [
        "#Use Image Generators\r\n",
        "#1. Initialize\r\n",
        "#For Training Data\r\n",
        "train_generator = tf.keras.preprocessing.image.ImageDataGenerator(rescale= 1.0/255.,\r\n",
        "                                                                  rotation_range=30,\r\n",
        "                                                              \r\n",
        "                                                                  zoom_range=0.2,\r\n",
        "                                                                  horizontal_flip=True,\r\n",
        "                                                                  \r\n",
        "                                                                  fill_mode='nearest',\r\n",
        "                                                                  preprocessing_function=tf.keras.applications.resnet50.preprocess_input)\r\n",
        "\r\n",
        "#For Validation Data\r\n",
        "valid_generator = tf.keras.preprocessing.image.ImageDataGenerator(rescale= 1.0/255., preprocessing_function=tf.keras.applications.resnet50.preprocess_input)"
      ],
      "execution_count": 5,
      "outputs": []
    },
    {
      "cell_type": "code",
      "metadata": {
        "colab": {
          "base_uri": "https://localhost:8080/"
        },
        "id": "xMX1VkKQ2sul",
        "outputId": "4a767e45-4652-4fb3-ecae-35c1212a834b"
      },
      "source": [
        "#Pass set of images to the generator to generate compatible images for CNN\r\n",
        "trainImageData = train_generator.flow_from_directory(\"/content/drive/My Drive/Traffic sign classification GTSRB/Data/Train/\",\r\n",
        "                                                     batch_size=32,\r\n",
        "                                                     class_mode='categorical',\r\n",
        "                                                     target_size=(224,224))\r\n",
        "\r\n"
      ],
      "execution_count": 6,
      "outputs": [
        {
          "output_type": "stream",
          "text": [
            "Found 39209 images belonging to 43 classes.\n"
          ],
          "name": "stdout"
        }
      ]
    },
    {
      "cell_type": "code",
      "metadata": {
        "id": "j_wKyc1T25w6"
      },
      "source": [
        "Test_Data=pd.read_csv(\"/content/drive/My Drive/Traffic sign classification GTSRB/Data/Test.csv\")"
      ],
      "execution_count": 7,
      "outputs": []
    },
    {
      "cell_type": "code",
      "metadata": {
        "colab": {
          "base_uri": "https://localhost:8080/"
        },
        "id": "LHXKNxB726f6",
        "outputId": "afd24d49-07ee-43a4-e574-2553e6d87be3"
      },
      "source": [
        "Test_Data.head"
      ],
      "execution_count": 8,
      "outputs": [
        {
          "output_type": "execute_result",
          "data": {
            "text/plain": [
              "<bound method NDFrame.head of        Width  Height  Roi.X1  Roi.Y1  Roi.X2  Roi.Y2  ClassId            Path\n",
              "0         53      54       6       5      48      49       16  Test/00000.png\n",
              "1         42      45       5       5      36      40        1  Test/00001.png\n",
              "2         48      52       6       6      43      47       38  Test/00002.png\n",
              "3         27      29       5       5      22      24       33  Test/00003.png\n",
              "4         60      57       5       5      55      52       11  Test/00004.png\n",
              "...      ...     ...     ...     ...     ...     ...      ...             ...\n",
              "12625     42      41       5       6      37      36       12  Test/12625.png\n",
              "12626     50      51       6       5      45      46       33  Test/12626.png\n",
              "12627     29      29       6       6      24      24        6  Test/12627.png\n",
              "12628     48      49       5       6      43      44        7  Test/12628.png\n",
              "12629     32      31       6       5      27      26       10  Test/12629.png\n",
              "\n",
              "[12630 rows x 8 columns]>"
            ]
          },
          "metadata": {
            "tags": []
          },
          "execution_count": 8
        }
      ]
    },
    {
      "cell_type": "code",
      "metadata": {
        "colab": {
          "base_uri": "https://localhost:8080/"
        },
        "id": "ccH4e19l28jU",
        "outputId": "f2fb0512-af2b-4b31-e272-c59c240ef6e5"
      },
      "source": [
        "Test_labels1=Test_Data['ClassId'].values\r\n",
        "#Test_labels=np.array(Test_labels1)\r\n",
        "#from sklearn.preprocessing import LabelBinarizer\r\n",
        "#Label_binarizer=LabelBinarizer()\r\n",
        "#Test_labels_transfromed=Label_binarizer.fit_transform(Test_labels)\r\n",
        "Test_labels_transfromed=np.array(tf.keras.utils.to_categorical(Test_labels1,num_classes=43,dtype=\"float32\"))\r\n",
        "#print(Test_labels_transfromed)\r\n",
        "Test_labels_transfromed.shape"
      ],
      "execution_count": 9,
      "outputs": [
        {
          "output_type": "execute_result",
          "data": {
            "text/plain": [
              "(12630, 43)"
            ]
          },
          "metadata": {
            "tags": []
          },
          "execution_count": 9
        }
      ]
    },
    {
      "cell_type": "code",
      "metadata": {
        "id": "9-AMAUit2-yE"
      },
      "source": [
        "valid_path = \"/content/drive/My Drive/Traffic sign classification GTSRB/Data/Test/\"\r\n",
        "#Test_images=np.load(\"/content/drive/My Drive/Traffic sign classification GTSRB/Data/Test/\")\r\n",
        "#Test_images = glob(valid_path + '/*/*.png')\r\n",
        "#Test_images4=Test_Data['Path'].values\r\n",
        "Test_images2 = glob(valid_path + '/*.png')\r\n",
        "Test_images5=[]\r\n",
        "import cv2\r\n",
        "for image in Test_images2:\r\n",
        "  #img=cv2.imread(image)\r\n",
        "  img=tf.keras.preprocessing.image.load_img(image, target_size=(224,224))\r\n",
        "  imgArray=tf.keras.preprocessing.image.img_to_array(img)\r\n",
        "  #img2=np.expand_dims(imgArray,axis=0)\r\n",
        "  \r\n",
        "  #img2=cv2.resize(imgArray,dsize=(32,32))\r\n",
        "  \r\n",
        "  Test_images5.append(imgArray)"
      ],
      "execution_count": null,
      "outputs": []
    },
    {
      "cell_type": "code",
      "metadata": {
        "id": "-gfFdaxL3C91"
      },
      "source": [
        "Test_images3=np.array(Test_images5)\r\n",
        "Test_images3.shape\r\n",
        "plt.imshow(Test_images3[0])"
      ],
      "execution_count": null,
      "outputs": []
    },
    {
      "cell_type": "code",
      "metadata": {
        "id": "CkJR9_QH3FuF"
      },
      "source": [
        "validation_data=valid_generator.flow(Test_images3,Test_labels_transfromed, batch_size=32)"
      ],
      "execution_count": null,
      "outputs": []
    },
    {
      "cell_type": "code",
      "metadata": {
        "id": "EWbUYohK3KRb"
      },
      "source": [
        "# Follow the following order when planning to use Transfer Learning with existing CNN architectures\r\n",
        "# 1. VGG16\r\n",
        "# 2. Inceptionv3\r\n",
        "# 3. Resnet50\r\n",
        "# 4. Xception\r\n",
        "# 5. Nasnet --\r\n",
        "# Only applicable if you are not planning to train entire model"
      ],
      "execution_count": null,
      "outputs": []
    },
    {
      "cell_type": "code",
      "metadata": {
        "id": "bY7ZJEKm3LFN"
      },
      "source": [
        "resnet = tf.keras.applications.resnet50.RESNET50(input_shape=[224,224,3],\r\n",
        "                                        weights=\"imagenet\",\r\n",
        "                                        include_top=False)\r\n",
        "\r\n",
        "\r\n",
        "#To use the existing weights and disable training on VGG object.\r\n",
        "# Ensure all weights are immutable\r\n",
        "\r\n",
        "for layer in resnet.layers:\r\n",
        "  layer.trainable = False"
      ],
      "execution_count": null,
      "outputs": []
    },
    {
      "cell_type": "code",
      "metadata": {
        "id": "N4b8JSyd3NjG"
      },
      "source": [
        "#Create our FC layer as per our spec\r\n",
        "#Flatten\r\n",
        "flatten = tf.keras.layers.Flatten()\r\n",
        "#we should add few more layers\r\n",
        "#FC layer\r\n",
        "finalLayer1=tf.keras.layers.Dense(256,activation='relu')\r\n",
        "finalLayer2=tf.keras.layers.Dropout(0.4)\r\n",
        "finalLayer3=tf.keras.layers.Dense(128,activation='relu')\r\n",
        "finalLayer4=tf.keras.layers.Dropout(0.3)\r\n",
        "finalLayer5 = tf.keras.layers.Dense(43,activation=\"softmax\")"
      ],
      "execution_count": null,
      "outputs": []
    },
    {
      "cell_type": "code",
      "metadata": {
        "id": "TKydFTHw3PoC"
      },
      "source": [
        "model=tf.keras.models.Sequential([resnet,flatten,finalLayer1,finalLayer2,finalLayer3,finalLayer4,finalLayer5])\r\n",
        "model.summary()"
      ],
      "execution_count": null,
      "outputs": []
    },
    {
      "cell_type": "code",
      "metadata": {
        "id": "4f6mOZ8_3RkB"
      },
      "source": [
        "model.compile(optimizer='adam',\r\n",
        "            \r\n",
        "              loss='categorical_crossentropy',\r\n",
        "              metrics=['accuracy'])"
      ],
      "execution_count": null,
      "outputs": []
    },
    {
      "cell_type": "code",
      "metadata": {
        "id": "Z5alUh_l3Tg5"
      },
      "source": [
        "batch_size=32\r\n",
        "history = model.fit(trainImageData,\r\n",
        "                    validation_data=validation_data,\r\n",
        "                    epochs=100)"
      ],
      "execution_count": null,
      "outputs": []
    },
    {
      "cell_type": "code",
      "metadata": {
        "id": "5-FoOLD03WJl"
      },
      "source": [
        "# Save the entire model as a SavedModel.\r\n",
        "!mkdir -p saved_model\r\n",
        "model.save('saved_model/my_model_resnet50.h5') "
      ],
      "execution_count": null,
      "outputs": []
    },
    {
      "cell_type": "code",
      "metadata": {
        "id": "bqm4xYe_3YRz"
      },
      "source": [
        "#deployement\r\n",
        "img=tf.keras.preprocessing.image.load_img(\"/content/drive/My Drive/Traffic sign classification GTSRB/Data/Train/17/00017_00005_00029.png\", target_size=(224,224))\r\n",
        "imgArray=tf.keras.preprocessing.image.img_to_array(img)\r\n",
        "#import numpy as np\r\n",
        "img2=np.expand_dims(imgArray,axis=0)\r\n",
        "import matplotlib.pyplot as plt\r\n",
        "plt.imshow(img)\r\n",
        "model.predict(img2)"
      ],
      "execution_count": null,
      "outputs": []
    }
  ]
}