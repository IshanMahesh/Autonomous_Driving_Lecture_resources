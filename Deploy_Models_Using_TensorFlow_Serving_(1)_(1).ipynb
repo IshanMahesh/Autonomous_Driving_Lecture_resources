{
  "nbformat": 4,
  "nbformat_minor": 0,
  "metadata": {
    "colab": {
      "name": "Deploy_Models_Using_TensorFlow_Serving (1) (1).ipynb",
      "provenance": [],
      "collapsed_sections": [],
      "include_colab_link": true
    },
    "kernelspec": {
      "name": "python3",
      "display_name": "Python 3"
    }
  },
  "cells": [
    {
      "cell_type": "markdown",
      "metadata": {
        "id": "view-in-github",
        "colab_type": "text"
      },
      "source": [
        "<a href=\"https://colab.research.google.com/github/Mayakshanesht/Autonomous_Driving_Lecture_resources/blob/Perception/Deploy_Models_Using_TensorFlow_Serving_(1)_(1).ipynb\" target=\"_parent\"><img src=\"https://colab.research.google.com/assets/colab-badge.svg\" alt=\"Open In Colab\"/></a>"
      ]
    },
    {
      "cell_type": "markdown",
      "metadata": {
        "id": "o6kbTEHsgaRb"
      },
      "source": [
        "# STEP #0: PROBLEM STATEMENT"
      ]
    },
    {
      "cell_type": "markdown",
      "metadata": {
        "id": "o74UO-LQgeIj"
      },
      "source": [
        "- In this project, we will build, train and test a model to classify fashion items using TensorFlow 2.0 similar to what we have already done in the past\n",
        "- What's new is that we are going to deploy the model in practice using Tensorflow Serving.\n",
        "- Fashion training set consists of 70,000 images divided into 60,000 training and 10,000 testing samples. Dataset sample consists of 28x28 grayscale image, associated with a label from 10 classes. \n",
        "\n",
        "- The 10 classes are as follows:  \n",
        "  - 0 => T-shirt/top\n",
        "  - 1 => Trouser\n",
        "  - 2 => Pullover\n",
        "  - 3 => Dress\n",
        "  - 4 => Coat\n",
        "  - 5 => Sandal\n",
        "  - 6 => Shirt\n",
        "  - 7 => Sneaker\n",
        "  - 8 => Bag\n",
        "  - 9 => Ankle boot\n",
        "\n",
        "- Each image is 28 pixels in height and 28 pixels in width, for a total of 784 pixels in total. Each pixel has a single pixel-value associated with it, indicating the lightness or darkness of that pixel, with higher numbers meaning darker. This pixel-value is an integer between 0 and 255. \n",
        "\n",
        "- Note: TF serving code section is based upon the TensorFlow 2.0 Documentation: https://www.tensorflow.org/tfx/serving/tutorials/Serving_REST_simple "
      ]
    },
    {
      "cell_type": "markdown",
      "metadata": {
        "id": "yCrzPgLp7W1h"
      },
      "source": [
        "## STEP #1: IMPORT PACKAGES"
      ]
    },
    {
      "cell_type": "code",
      "metadata": {
        "id": "JH6B6mQBgHT1"
      },
      "source": [
        "import tensorflow as tf\n",
        "import random\n",
        "import json\n",
        "import numpy as np\n",
        "import matplotlib.pyplot as plt\n",
        "import os\n",
        "import tempfile\n"
      ],
      "execution_count": 1,
      "outputs": []
    },
    {
      "cell_type": "markdown",
      "metadata": {
        "id": "x1ly9iCehER1"
      },
      "source": [
        "# STEP #2: IMPORT DATASET"
      ]
    },
    {
      "cell_type": "code",
      "metadata": {
        "id": "FbhfksXVg44A",
        "colab": {
          "base_uri": "https://localhost:8080/"
        },
        "outputId": "b9d6dd9e-00cc-4e1c-9440-ca684ddf2159"
      },
      "source": [
        "# import Fashion MNIST Dataset using Keras \n",
        "(X_train, y_train), (X_test, y_test) = tf.keras.datasets.fashion_mnist.load_data()"
      ],
      "execution_count": 2,
      "outputs": [
        {
          "output_type": "stream",
          "text": [
            "Downloading data from https://storage.googleapis.com/tensorflow/tf-keras-datasets/train-labels-idx1-ubyte.gz\n",
            "32768/29515 [=================================] - 0s 0us/step\n",
            "Downloading data from https://storage.googleapis.com/tensorflow/tf-keras-datasets/train-images-idx3-ubyte.gz\n",
            "26427392/26421880 [==============================] - 1s 0us/step\n",
            "Downloading data from https://storage.googleapis.com/tensorflow/tf-keras-datasets/t10k-labels-idx1-ubyte.gz\n",
            "8192/5148 [===============================================] - 0s 0us/step\n",
            "Downloading data from https://storage.googleapis.com/tensorflow/tf-keras-datasets/t10k-images-idx3-ubyte.gz\n",
            "4423680/4422102 [==============================] - 0s 0us/step\n"
          ],
          "name": "stdout"
        }
      ]
    },
    {
      "cell_type": "code",
      "metadata": {
        "id": "Wiq4GQLKhLbe"
      },
      "source": [
        "# Data Normalization -> Between 0 and 1 \n",
        "X_train = X_train / 255.0\n",
        "X_test = X_test / 255.0\n"
      ],
      "execution_count": 3,
      "outputs": []
    },
    {
      "cell_type": "code",
      "metadata": {
        "id": "msBye7EfxgI1",
        "colab": {
          "base_uri": "https://localhost:8080/"
        },
        "outputId": "e9cc59ce-0944-4e37-c0b3-ebede45842a5"
      },
      "source": [
        "X_train.shape"
      ],
      "execution_count": 4,
      "outputs": [
        {
          "output_type": "execute_result",
          "data": {
            "text/plain": [
              "(60000, 28, 28)"
            ]
          },
          "metadata": {
            "tags": []
          },
          "execution_count": 4
        }
      ]
    },
    {
      "cell_type": "code",
      "metadata": {
        "id": "vVrtMMCgxnka",
        "colab": {
          "base_uri": "https://localhost:8080/"
        },
        "outputId": "0977ba7f-b369-41a4-8842-6e089dd38000"
      },
      "source": [
        "X_test.shape"
      ],
      "execution_count": 5,
      "outputs": [
        {
          "output_type": "execute_result",
          "data": {
            "text/plain": [
              "(10000, 28, 28)"
            ]
          },
          "metadata": {
            "tags": []
          },
          "execution_count": 5
        }
      ]
    },
    {
      "cell_type": "code",
      "metadata": {
        "id": "P1HUwLz3hMak"
      },
      "source": [
        "# Reshape training data to be = (60000, 28, 28, 1) instead of (60000, 28,28)\n",
        "X_train = X_train.reshape(X_train.shape[0], 28, 28, 1)\n"
      ],
      "execution_count": 6,
      "outputs": []
    },
    {
      "cell_type": "code",
      "metadata": {
        "id": "p9c_5Z2SyBuJ",
        "colab": {
          "base_uri": "https://localhost:8080/"
        },
        "outputId": "5968335a-b9e5-4e91-f57a-0274fa20d55a"
      },
      "source": [
        "X_train.shape"
      ],
      "execution_count": 7,
      "outputs": [
        {
          "output_type": "execute_result",
          "data": {
            "text/plain": [
              "(60000, 28, 28, 1)"
            ]
          },
          "metadata": {
            "tags": []
          },
          "execution_count": 7
        }
      ]
    },
    {
      "cell_type": "code",
      "metadata": {
        "id": "3Lh3TY_Jx6tt"
      },
      "source": [
        "# Do the same for the testing dataset\n",
        "X_test = X_test.reshape(X_test.shape[0], 28, 28, 1)"
      ],
      "execution_count": 8,
      "outputs": []
    },
    {
      "cell_type": "code",
      "metadata": {
        "id": "-UUp6ROshioF",
        "colab": {
          "base_uri": "https://localhost:8080/"
        },
        "outputId": "eeb0f2bc-e8eb-4efd-f58e-c7ba1fadd684"
      },
      "source": [
        "X_test.shape"
      ],
      "execution_count": 9,
      "outputs": [
        {
          "output_type": "execute_result",
          "data": {
            "text/plain": [
              "(10000, 28, 28, 1)"
            ]
          },
          "metadata": {
            "tags": []
          },
          "execution_count": 9
        }
      ]
    },
    {
      "cell_type": "code",
      "metadata": {
        "id": "dvS-P-24hh8X"
      },
      "source": [
        "\n",
        "class_names = ['T-shirt/top', 'Trouser', 'Pullover', 'Dress', 'Coat',\n",
        "               'Sandal', 'Shirt', 'Sneaker', 'Bag', 'Ankle boot']\n"
      ],
      "execution_count": 10,
      "outputs": []
    },
    {
      "cell_type": "code",
      "metadata": {
        "id": "fi5_V_ZKzrSx",
        "colab": {
          "base_uri": "https://localhost:8080/"
        },
        "outputId": "ccf8f1fe-3543-4cab-a910-1f2cc2418dce"
      },
      "source": [
        "len(X_train)"
      ],
      "execution_count": 11,
      "outputs": [
        {
          "output_type": "execute_result",
          "data": {
            "text/plain": [
              "60000"
            ]
          },
          "metadata": {
            "tags": []
          },
          "execution_count": 11
        }
      ]
    },
    {
      "cell_type": "code",
      "metadata": {
        "id": "vdOwUT2cy5cX",
        "colab": {
          "base_uri": "https://localhost:8080/",
          "height": 862
        },
        "outputId": "023418f7-55dd-4871-8bcd-b68945301b30"
      },
      "source": [
        "W_grid = 4\n",
        "L_grid = 4\n",
        "\n",
        "fig, axes = plt.subplots(L_grid, W_grid, figsize = (15, 15))\n",
        "axes = axes.ravel()\n",
        "\n",
        "n_training = len(X_train)\n",
        "\n",
        "for i in np.arange(0, L_grid * W_grid):\n",
        "    index = np.random.randint(0, n_training) # pick a random number\n",
        "    axes[i].imshow(X_train[index].reshape(28,28))\n",
        "    axes[i].set_title(y_train[index])\n",
        "    axes[i].axis('off')\n",
        "    \n",
        "plt.subplots_adjust(hspace = 0.4)"
      ],
      "execution_count": 13,
      "outputs": [
        {
          "output_type": "display_data",
          "data": {
            "image/png": "[encoded data removed]",
            "text/plain": [
              "<Figure size 1080x1080 with 16 Axes>"
            ]
          },
          "metadata": {
            "tags": [],
            "needs_background": "light"
          }
        }
      ]
    },
    {
      "cell_type": "markdown",
      "metadata": {
        "id": "iU01OdjbhoKJ"
      },
      "source": [
        "# STEP #3: BUILD, TRAIN AND TEST THE MODEL"
      ]
    },
    {
      "cell_type": "code",
      "metadata": {
        "id": "7Sx9lFlIht6W",
        "colab": {
          "base_uri": "https://localhost:8080/"
        },
        "outputId": "b3d440b1-d30f-4f42-9dea-b4e142c9b384"
      },
      "source": [
        "cnn = tf.keras.models.Sequential()\n",
        "\n",
        "cnn.add(tf.keras.layers.Conv2D(32, (3,3), activation = 'relu', input_shape = (28,28,1)))\n",
        "cnn.add(tf.keras.layers.MaxPooling2D(2,2))\n",
        "\n",
        "cnn.add(tf.keras.layers.Conv2D(64, (3, 3), activation='relu'))\n",
        "\n",
        "cnn.add(tf.keras.layers.Flatten())\n",
        "\n",
        "cnn.add(tf.keras.layers.Dense(64, activation = 'relu'))\n",
        "\n",
        "cnn.add(tf.keras.layers.Dense(10, activation = 'softmax'))\n",
        "cnn.summary()"
      ],
      "execution_count": 14,
      "outputs": [
        {
          "output_type": "stream",
          "text": [
            "Model: \"sequential\"\n",
            "_________________________________________________________________\n",
            "Layer (type)                 Output Shape              Param #   \n",
            "=================================================================\n",
            "conv2d (Conv2D)              (None, 26, 26, 32)        320       \n",
            "_________________________________________________________________\n",
            "max_pooling2d (MaxPooling2D) (None, 13, 13, 32)        0         \n",
            "_________________________________________________________________\n",
            "conv2d_1 (Conv2D)            (None, 11, 11, 64)        18496     \n",
            "_________________________________________________________________\n",
            "flatten (Flatten)            (None, 7744)              0         \n",
            "_________________________________________________________________\n",
            "dense (Dense)                (None, 64)                495680    \n",
            "_________________________________________________________________\n",
            "dense_1 (Dense)              (None, 10)                650       \n",
            "=================================================================\n",
            "Total params: 515,146\n",
            "Trainable params: 515,146\n",
            "Non-trainable params: 0\n",
            "_________________________________________________________________\n"
          ],
          "name": "stdout"
        }
      ]
    },
    {
      "cell_type": "code",
      "metadata": {
        "id": "TeRGYB-khwFA"
      },
      "source": [
        "epochs = 5\n",
        "\n",
        "cnn.compile(optimizer=tf.keras.optimizers.Adam(), \n",
        "              loss='sparse_categorical_crossentropy',\n",
        "              metrics=['accuracy'])\n"
      ],
      "execution_count": 16,
      "outputs": []
    },
    {
      "cell_type": "code",
      "metadata": {
        "id": "m1eDzfqih2FY",
        "colab": {
          "base_uri": "https://localhost:8080/"
        },
        "outputId": "1a561f74-d04b-45bc-e02e-8ef67c53366e"
      },
      "source": [
        "cnn.fit(X_train, y_train, epochs=epochs)\n",
        "\n",
        "test_loss, test_acc = cnn.evaluate(X_test, y_test)\n",
        "print('\\nTest accuracy: {}'.format(test_acc))"
      ],
      "execution_count": 17,
      "outputs": [
        {
          "output_type": "stream",
          "text": [
            "Epoch 1/5\n",
            "1875/1875 [==============================] - 48s 25ms/step - loss: 0.5450 - accuracy: 0.8041\n",
            "Epoch 2/5\n",
            "1875/1875 [==============================] - 47s 25ms/step - loss: 0.2653 - accuracy: 0.9030\n",
            "Epoch 3/5\n",
            "1875/1875 [==============================] - 47s 25ms/step - loss: 0.2166 - accuracy: 0.9204\n",
            "Epoch 4/5\n",
            "1875/1875 [==============================] - 47s 25ms/step - loss: 0.1781 - accuracy: 0.9349\n",
            "Epoch 5/5\n",
            "1875/1875 [==============================] - 48s 25ms/step - loss: 0.1470 - accuracy: 0.9467\n",
            "313/313 [==============================] - 3s 8ms/step - loss: 0.2679 - accuracy: 0.9169\n",
            "\n",
            "Test accuracy: 0.9168999791145325\n"
          ],
          "name": "stdout"
        }
      ]
    },
    {
      "cell_type": "markdown",
      "metadata": {
        "id": "k-hlIDqfh9oX"
      },
      "source": [
        "# STEP #4: SAVE THE MODEL"
      ]
    },
    {
      "cell_type": "markdown",
      "metadata": {
        "id": "oKGNNXB1iUCB"
      },
      "source": [
        "- We now need to save our trained model and it has to be saved in a SavedModel format.\n",
        "- The model will have a version number and will be saved in a structured directory \n",
        "- tf.saved_model.simple_save is a function used to build a saved model that is suitable for serving using Tensorflow Serving. \n",
        "- After the model is saved, we can now use TensorFlow Serving to start making inference requests using a specific version of our trained model \"servable\".\n",
        "- Use SavedModel to save and load your model—variables, the graph, and the graph's metadata. \n",
        "- This is a language-neutral, recoverable, hermetic serialization format that enables higher-level systems and tools to produce, consume, and transform TensorFlow models.\n",
        "- simple_save offers a very easy way to save a model as follows: \n",
        "\n",
        "  - simple_save(session,\n",
        "            export_dir,\n",
        "            inputs={\"x\": x, \"y\": y},\n",
        "            outputs={\"z\": z})\n",
        "            \n",
        "- Check this out for more information: \n",
        "https://www.tensorflow.org/guide/saved_model"
      ]
    },
    {
      "cell_type": "code",
      "metadata": {
        "id": "wgTRGCqSh9az"
      },
      "source": [
        "# Let's obtain a temporary storage directory\n",
        "MODEL_DIR = tempfile.gettempdir()"
      ],
      "execution_count": 18,
      "outputs": []
    },
    {
      "cell_type": "code",
      "metadata": {
        "id": "J7mLmAw3jfNX",
        "colab": {
          "base_uri": "https://localhost:8080/",
          "height": 35
        },
        "outputId": "7120ed89-fe1c-4637-9a3d-6be2f66d0bda"
      },
      "source": [
        "MODEL_DIR"
      ],
      "execution_count": 19,
      "outputs": [
        {
          "output_type": "execute_result",
          "data": {
            "application/vnd.google.colaboratory.intrinsic+json": {
              "type": "string"
            },
            "text/plain": [
              "'/tmp'"
            ]
          },
          "metadata": {
            "tags": []
          },
          "execution_count": 19
        }
      ]
    },
    {
      "cell_type": "code",
      "metadata": {
        "id": "lOkq8bMejgHX"
      },
      "source": [
        "# Let's specify the model version, choose #1 for now \n",
        "version = 1 "
      ],
      "execution_count": 20,
      "outputs": []
    },
    {
      "cell_type": "code",
      "metadata": {
        "id": "JCyIxt7Xj43C",
        "colab": {
          "base_uri": "https://localhost:8080/"
        },
        "outputId": "d3977f28-69d6-4e89-c400-b4eac12613ec"
      },
      "source": [
        "# Let's join the temp model directory with our chosen version number \n",
        "# The expected result will be = '\\tmp\\version number'\n",
        "export_path = os.path.join(MODEL_DIR, str(version))\n",
        "print('export_path = {}\\n'.format(export_path))"
      ],
      "execution_count": 22,
      "outputs": [
        {
          "output_type": "stream",
          "text": [
            "export_path = /tmp/1\n",
            "\n"
          ],
          "name": "stdout"
        }
      ]
    },
    {
      "cell_type": "code",
      "metadata": {
        "id": "raMbK1M7j8Yh",
        "colab": {
          "base_uri": "https://localhost:8080/"
        },
        "outputId": "75fd2102-c90a-448b-9a9d-b66e1aa280e6"
      },
      "source": [
        "# Let's save the model using simple_save\n",
        "# If the directory already exists, we will remove it using '!rm' \n",
        "# rm removes each file specified on the command line. \n",
        "\n",
        "if os.path.isdir(export_path):\n",
        "  print('\\nAlready saved a model, cleaning up\\n')\n",
        "  !rm -r {export_path}\n",
        "\n",
        "tf.saved_model.save(cnn, \"/tmp/1\")\n",
        "\n",
        "#tf.saved_model.save(\n",
        "#    tf.keras.backend.get_session(),\n",
        "#    export_path,\n",
        "#    inputs={'input_image': cnn.input},\n",
        "#   outputs={t.name:t for t in cnn.outputs})\n"
      ],
      "execution_count": 24,
      "outputs": [
        {
          "output_type": "stream",
          "text": [
            "\n",
            "Already saved a model, cleaning up\n",
            "\n",
            "INFO:tensorflow:Assets written to: /tmp/1/assets\n"
          ],
          "name": "stdout"
        }
      ]
    },
    {
      "cell_type": "code",
      "metadata": {
        "id": "OUnZKrFUqGel",
        "colab": {
          "base_uri": "https://localhost:8080/"
        },
        "outputId": "3a7d1d85-3759-4f5a-822e-6205bde53947"
      },
      "source": [
        "!ls -l {export_path}"
      ],
      "execution_count": 25,
      "outputs": [
        {
          "output_type": "stream",
          "text": [
            "total 136\n",
            "drwxr-xr-x 2 root root   4096 Feb 21 15:02 assets\n",
            "-rw-r--r-- 1 root root 129380 Feb 21 15:02 saved_model.pb\n",
            "drwxr-xr-x 2 root root   4096 Feb 21 15:02 variables\n"
          ],
          "name": "stdout"
        }
      ]
    },
    {
      "cell_type": "markdown",
      "metadata": {
        "id": "29Pe_MdvosVq"
      },
      "source": [
        "# STEP #5: EXPLORE OUR SAVED MODEL"
      ]
    },
    {
      "cell_type": "markdown",
      "metadata": {
        "id": "2VcYU9ZlowoB"
      },
      "source": [
        "- saved_model_cli will be used to explore MetaGraphDefs (the models) and SignatureDefs (the methods you can call) in our SavedModel. \n",
        "- A MetaGraph is a dataflow graph, plus its associated variables, assets, and signatures. \n",
        "- A signature is the set of inputs to and outputs from a graph."
      ]
    },
    {
      "cell_type": "code",
      "metadata": {
        "id": "SEHscgCMkovz",
        "colab": {
          "base_uri": "https://localhost:8080/"
        },
        "outputId": "a1512879-7f98-4e7e-9eff-0d217f700181"
      },
      "source": [
        "# Now we can view our saved model\n",
        "!saved_model_cli show --dir {export_path} --all"
      ],
      "execution_count": 28,
      "outputs": [
        {
          "output_type": "stream",
          "text": [
            "\n",
            "MetaGraphDef with tag-set: 'serve' contains the following SignatureDefs:\n",
            "\n",
            "signature_def['__saved_model_init_op']:\n",
            "  The given SavedModel SignatureDef contains the following input(s):\n",
            "  The given SavedModel SignatureDef contains the following output(s):\n",
            "    outputs['__saved_model_init_op'] tensor_info:\n",
            "        dtype: DT_INVALID\n",
            "        shape: unknown_rank\n",
            "        name: NoOp\n",
            "  Method name is: \n",
            "\n",
            "signature_def['serving_default']:\n",
            "  The given SavedModel SignatureDef contains the following input(s):\n",
            "    inputs['conv2d_input'] tensor_info:\n",
            "        dtype: DT_FLOAT\n",
            "        shape: (-1, 28, 28, 1)\n",
            "        name: serving_default_conv2d_input:0\n",
            "  The given SavedModel SignatureDef contains the following output(s):\n",
            "    outputs['dense_1'] tensor_info:\n",
            "        dtype: DT_FLOAT\n",
            "        shape: (-1, 10)\n",
            "        name: StatefulPartitionedCall:0\n",
            "  Method name is: tensorflow/serving/predict\n",
            "WARNING: Logging before flag parsing goes to stderr.\n",
            "W0221 15:04:50.092327 140055632156544 deprecation.py:506] From /usr/local/lib/python2.7/dist-packages/tensorflow_core/python/ops/resource_variable_ops.py:1786: calling __init__ (from tensorflow.python.ops.resource_variable_ops) with constraint is deprecated and will be removed in a future version.\n",
            "Instructions for updating:\n",
            "If using Keras pass *_constraint arguments to layers.\n",
            "\n",
            "Defined Functions:\n",
            "  Function Name: '__call__'\n",
            "    Option #1\n",
            "      Callable with:\n",
            "        Argument #1\n",
            "          conv2d_input: TensorSpec(shape=(None, 28, 28, 1), dtype=tf.float32, name=u'conv2d_input')\n",
            "        Argument #2\n",
            "          DType: bool\n",
            "          Value: True\n",
            "        Argument #3\n",
            "          DType: NoneType\n",
            "          Value: None\n",
            "    Option #2\n",
            "      Callable with:\n",
            "        Argument #1\n",
            "          inputs: TensorSpec(shape=(None, 28, 28, 1), dtype=tf.float32, name=u'inputs')\n",
            "        Argument #2\n",
            "          DType: bool\n",
            "          Value: True\n",
            "        Argument #3\n",
            "          DType: NoneType\n",
            "          Value: None\n",
            "    Option #3\n",
            "      Callable with:\n",
            "        Argument #1\n",
            "          conv2d_input: TensorSpec(shape=(None, 28, 28, 1), dtype=tf.float32, name=u'conv2d_input')\n",
            "        Argument #2\n",
            "          DType: bool\n",
            "          Value: False\n",
            "        Argument #3\n",
            "          DType: NoneType\n",
            "          Value: None\n",
            "    Option #4\n",
            "      Callable with:\n",
            "        Argument #1\n",
            "          inputs: TensorSpec(shape=(None, 28, 28, 1), dtype=tf.float32, name=u'inputs')\n",
            "        Argument #2\n",
            "          DType: bool\n",
            "          Value: False\n",
            "        Argument #3\n",
            "          DType: NoneType\n",
            "          Value: None\n",
            "\n",
            "  Function Name: '_default_save_signature'\n",
            "    Option #1\n",
            "      Callable with:\n",
            "        Argument #1\n",
            "          conv2d_input: TensorSpec(shape=(None, 28, 28, 1), dtype=tf.float32, name=u'conv2d_input')\n",
            "\n",
            "  Function Name: 'call_and_return_all_conditional_losses'\n",
            "    Option #1\n",
            "      Callable with:\n",
            "        Argument #1\n",
            "          inputs: TensorSpec(shape=(None, 28, 28, 1), dtype=tf.float32, name=u'inputs')\n",
            "        Argument #2\n",
            "          DType: bool\n",
            "          Value: True\n",
            "        Argument #3\n",
            "          DType: NoneType\n",
            "          Value: None\n",
            "    Option #2\n",
            "      Callable with:\n",
            "        Argument #1\n",
            "          inputs: TensorSpec(shape=(None, 28, 28, 1), dtype=tf.float32, name=u'inputs')\n",
            "        Argument #2\n",
            "          DType: bool\n",
            "          Value: False\n",
            "        Argument #3\n",
            "          DType: NoneType\n",
            "          Value: None\n",
            "    Option #3\n",
            "      Callable with:\n",
            "        Argument #1\n",
            "          conv2d_input: TensorSpec(shape=(None, 28, 28, 1), dtype=tf.float32, name=u'conv2d_input')\n",
            "        Argument #2\n",
            "          DType: bool\n",
            "          Value: False\n",
            "        Argument #3\n",
            "          DType: NoneType\n",
            "          Value: None\n",
            "    Option #4\n",
            "      Callable with:\n",
            "        Argument #1\n",
            "          conv2d_input: TensorSpec(shape=(None, 28, 28, 1), dtype=tf.float32, name=u'conv2d_input')\n",
            "        Argument #2\n",
            "          DType: bool\n",
            "          Value: True\n",
            "        Argument #3\n",
            "          DType: NoneType\n",
            "          Value: None\n"
          ],
          "name": "stdout"
        }
      ]
    },
    {
      "cell_type": "markdown",
      "metadata": {
        "id": "dcgj7TWAlkIA"
      },
      "source": [
        "# STEP #6: SERVE THE MODEL USING TENSORFLOW SERVING"
      ]
    },
    {
      "cell_type": "markdown",
      "metadata": {
        "id": "xCEZ9lvgln3X"
      },
      "source": [
        "  # STEP 6.1: Let's add tensorflow-model-server package to our list of packages "
      ]
    },
    {
      "cell_type": "code",
      "metadata": {
        "id": "AwjH17Tal2jv",
        "colab": {
          "base_uri": "https://localhost:8080/"
        },
        "outputId": "49e86d94-5765-4a92-f927-889c475c2290"
      },
      "source": [
        "!echo \"deb http://storage.googleapis.com/tensorflow-serving-apt stable tensorflow-model-server tensorflow-model-server-universal\" | tee /etc/apt/sources.list.d/tensorflow-serving.list && \\\n",
        "curl https://storage.googleapis.com/tensorflow-serving-apt/tensorflow-serving.release.pub.gpg | apt-key add -\n",
        "!apt update"
      ],
      "execution_count": 29,
      "outputs": [
        {
          "output_type": "stream",
          "text": [
            "deb http://storage.googleapis.com/tensorflow-serving-apt stable tensorflow-model-server tensorflow-model-server-universal\n",
            "  % Total    % Received % Xferd  Average Speed   Time    Time     Time  Current\n",
            "                                 Dload  Upload   Total   Spent    Left  Speed\n",
            "100  2943  100  2943    0     0   106k      0 --:--:-- --:--:-- --:--:--  106k\n",
            "OK\n",
            "Get:1 http://storage.googleapis.com/tensorflow-serving-apt stable InRelease [3,012 B]\n",
            "Get:2 http://security.ubuntu.com/ubuntu bionic-security InRelease [88.7 kB]\n",
            "Get:3 http://ppa.launchpad.net/c2d4u.team/c2d4u4.0+/ubuntu bionic InRelease [15.9 kB]\n",
            "Hit:4 http://archive.ubuntu.com/ubuntu bionic InRelease\n",
            "Get:5 http://archive.ubuntu.com/ubuntu bionic-updates InRelease [88.7 kB]\n",
            "Hit:6 http://ppa.launchpad.net/cran/libgit2/ubuntu bionic InRelease\n",
            "Get:7 https://cloud.r-project.org/bin/linux/ubuntu bionic-cran40/ InRelease [3,626 B]\n",
            "Hit:8 http://ppa.launchpad.net/graphics-drivers/ppa/ubuntu bionic InRelease\n",
            "Get:9 http://archive.ubuntu.com/ubuntu bionic-backports InRelease [74.6 kB]\n",
            "Ign:10 https://developer.download.nvidia.com/compute/cuda/repos/ubuntu1804/x86_64  InRelease\n",
            "Get:11 http://storage.googleapis.com/tensorflow-serving-apt stable/tensorflow-model-server amd64 Packages [340 B]\n",
            "Get:12 http://storage.googleapis.com/tensorflow-serving-apt stable/tensorflow-model-server-universal amd64 Packages [348 B]\n",
            "Ign:13 https://developer.download.nvidia.com/compute/machine-learning/repos/ubuntu1804/x86_64  InRelease\n",
            "Hit:14 https://developer.download.nvidia.com/compute/cuda/repos/ubuntu1804/x86_64  Release\n",
            "Hit:15 https://developer.download.nvidia.com/compute/machine-learning/repos/ubuntu1804/x86_64  Release\n",
            "Get:16 http://ppa.launchpad.net/c2d4u.team/c2d4u4.0+/ubuntu bionic/main Sources [1,732 kB]\n",
            "Get:17 http://ppa.launchpad.net/c2d4u.team/c2d4u4.0+/ubuntu bionic/main amd64 Packages [886 kB]\n",
            "Get:18 http://security.ubuntu.com/ubuntu bionic-security/main amd64 Packages [1,929 kB]\n",
            "Get:19 http://security.ubuntu.com/ubuntu bionic-security/universe amd64 Packages [1,391 kB]\n",
            "Get:20 http://archive.ubuntu.com/ubuntu bionic-updates/main amd64 Packages [2,360 kB]\n",
            "Get:21 http://archive.ubuntu.com/ubuntu bionic-updates/universe amd64 Packages [2,162 kB]\n",
            "Fetched 10.7 MB in 2s (4,435 kB/s)\n",
            "Reading package lists... Done\n",
            "Building dependency tree       \n",
            "Reading state information... Done\n",
            "19 packages can be upgraded. Run 'apt list --upgradable' to see them.\n"
          ],
          "name": "stdout"
        }
      ]
    },
    {
      "cell_type": "markdown",
      "metadata": {
        "id": "r0rJEorwuNK_"
      },
      "source": [
        "# Step 6.2: Let's install tensorflow model server:"
      ]
    },
    {
      "cell_type": "code",
      "metadata": {
        "id": "TJ3t-7_huGn0",
        "colab": {
          "base_uri": "https://localhost:8080/"
        },
        "outputId": "4dcaf233-082b-4e90-926f-a7abe0d6dfad"
      },
      "source": [
        "!apt-get install tensorflow-model-server"
      ],
      "execution_count": 30,
      "outputs": [
        {
          "output_type": "stream",
          "text": [
            "Reading package lists... Done\n",
            "Building dependency tree       \n",
            "Reading state information... Done\n",
            "The following NEW packages will be installed:\n",
            "  tensorflow-model-server\n",
            "0 upgraded, 1 newly installed, 0 to remove and 19 not upgraded.\n",
            "Need to get 223 MB of archives.\n",
            "After this operation, 0 B of additional disk space will be used.\n",
            "Get:1 http://storage.googleapis.com/tensorflow-serving-apt stable/tensorflow-model-server amd64 tensorflow-model-server all 2.4.1 [223 MB]\n",
            "Fetched 223 MB in 4s (55.0 MB/s)\n",
            "Selecting previously unselected package tensorflow-model-server.\n",
            "(Reading database ... 146442 files and directories currently installed.)\n",
            "Preparing to unpack .../tensorflow-model-server_2.4.1_all.deb ...\n",
            "Unpacking tensorflow-model-server (2.4.1) ...\n",
            "Setting up tensorflow-model-server (2.4.1) ...\n"
          ],
          "name": "stdout"
        }
      ]
    },
    {
      "cell_type": "markdown",
      "metadata": {
        "id": "YQZtl38Jy-pg"
      },
      "source": [
        "# Step 6.3: Let's run TensorFlow serving"
      ]
    },
    {
      "cell_type": "markdown",
      "metadata": {
        "id": "BR8CQlZBuacO"
      },
      "source": [
        "- We will load our model and start making inferences (predictions) based on it.\n",
        "- There are some important parameters:\n",
        "\n",
        "  - rest_api_port: The port that you'll use for REST requests.\n",
        "  - model_name: You'll use this in the URL of REST requests. You can choose any name\n",
        "  - model_base_path: This is the path to the directory where you've saved your model.\n",
        "  \n",
        "- For more information regarding REST, check this out: \n",
        "https://www.codecademy.com/articles/what-is-rest\n",
        "- REST is a revival of HTTP in which http commands have semantic meaning. "
      ]
    },
    {
      "cell_type": "code",
      "metadata": {
        "id": "nQO-ysCMuU5L"
      },
      "source": [
        "os.environ[\"MODEL_DIR\"] = MODEL_DIR"
      ],
      "execution_count": 32,
      "outputs": []
    },
    {
      "cell_type": "code",
      "metadata": {
        "id": "c_aqNwe2x4G9",
        "colab": {
          "base_uri": "https://localhost:8080/"
        },
        "outputId": "6bd5f6f1-d372-4f3f-b4fb-d02809e78fc3"
      },
      "source": [
        "%%bash --bg \n",
        "nohup tensorflow_model_server \\\n",
        "  --rest_api_port=8501 \\\n",
        "  --model_name=fashion_model \\\n",
        "  --model_base_path=\"${MODEL_DIR}\" >server.log 2>&1\n"
      ],
      "execution_count": 33,
      "outputs": [
        {
          "output_type": "stream",
          "text": [
            "Starting job # 0 in a separate thread.\n"
          ],
          "name": "stdout"
        }
      ]
    },
    {
      "cell_type": "code",
      "metadata": {
        "id": "1c9MjQK_x46N",
        "colab": {
          "base_uri": "https://localhost:8080/"
        },
        "outputId": "19809840-ec58-4747-9e93-1d9d72a588a7"
      },
      "source": [
        "!tail server.log"
      ],
      "execution_count": 35,
      "outputs": [
        {
          "output_type": "stream",
          "text": [
            "2021-02-21 15:08:34.022273: I external/org_tensorflow/tensorflow/cc/saved_model/loader.cc:206] Restoring SavedModel bundle.\n",
            "2021-02-21 15:08:34.023233: I external/org_tensorflow/tensorflow/core/platform/profile_utils/cpu_utils.cc:112] CPU Frequency: 2249995000 Hz\n",
            "2021-02-21 15:08:34.067348: I external/org_tensorflow/tensorflow/cc/saved_model/loader.cc:190] Running initialization op on SavedModel bundle at path: /tmp/1\n",
            "2021-02-21 15:08:34.073039: I external/org_tensorflow/tensorflow/cc/saved_model/loader.cc:277] SavedModel load for tags { serve }; Status: success: OK. Took 76780 microseconds.\n",
            "2021-02-21 15:08:34.074935: I tensorflow_serving/servables/tensorflow/saved_model_warmup_util.cc:59] No warmup data file found at /tmp/1/assets.extra/tf_serving_warmup_requests\n",
            "2021-02-21 15:08:34.075145: I tensorflow_serving/core/loader_harness.cc:87] Successfully loaded servable version {name: fashion_model version: 1}\n",
            "2021-02-21 15:08:34.076677: I tensorflow_serving/model_servers/server.cc:371] Running gRPC ModelServer at 0.0.0.0:8500 ...\n",
            "[warn] getaddrinfo: address family for nodename not supported\n",
            "2021-02-21 15:08:34.077235: I tensorflow_serving/model_servers/server.cc:391] Exporting HTTP/REST API at:localhost:8501 ...\n",
            "[evhttp_server.cc : 238] NET_LOG: Entering the event loop ...\n"
          ],
          "name": "stdout"
        }
      ]
    },
    {
      "cell_type": "markdown",
      "metadata": {
        "id": "Yyts_cHHzlEE"
      },
      "source": [
        "- **Congratulations! now we have successfully loaded a servable version of our model {name: fashion_model version: 1}** "
      ]
    },
    {
      "cell_type": "markdown",
      "metadata": {
        "id": "NuaqxuY8zW-X"
      },
      "source": [
        "# STEP 6.4: Let's start making requests in TensorFlow Serving"
      ]
    },
    {
      "cell_type": "code",
      "metadata": {
        "id": "Z96PlewJyI7N"
      },
      "source": [
        "def show(idx, title):\n",
        "  plt.figure()\n",
        "  plt.imshow(X_test[idx].reshape(28,28))\n",
        "  plt.title('\\n\\n{}'.format(title), fontdict={'size': 16})\n"
      ],
      "execution_count": 36,
      "outputs": []
    },
    {
      "cell_type": "code",
      "metadata": {
        "id": "BVzkMzX5zo6I",
        "colab": {
          "base_uri": "https://localhost:8080/",
          "height": 318
        },
        "outputId": "7c25a95d-d2a7-4873-cfa8-30b01be1f580"
      },
      "source": [
        "rando = random.randint(0,len(X_test)-1)\n",
        "show(rando, 'An Example Image: {}'.format(class_names[y_test[rando]]))"
      ],
      "execution_count": 37,
      "outputs": [
        {
          "output_type": "display_data",
          "data": {
            "image/png": "[encoded data removed]",
            "text/plain": [
              "<Figure size 432x288 with 1 Axes>"
            ]
          },
          "metadata": {
            "tags": [],
            "needs_background": "light"
          }
        }
      ]
    },
    {
      "cell_type": "code",
      "metadata": {
        "id": "OOANMKEPzvGj",
        "colab": {
          "base_uri": "https://localhost:8080/"
        },
        "outputId": "afac5582-8b47-4ed1-86f4-d08ca9732eac"
      },
      "source": [
        "# Let's create a JSON object and make 3 inference requests\n",
        "data = json.dumps({\"signature_name\": \"serving_default\", \"instances\": X_test[0:3].tolist()})\n",
        "print('Data: {} ... {}'.format(data[:50], data[len(data)-52:]))"
      ],
      "execution_count": 38,
      "outputs": [
        {
          "output_type": "stream",
          "text": [
            "Data: {\"signature_name\": \"serving_default\", \"instances\": ...  [0.0], [0.0], [0.0], [0.0], [0.0], [0.0], [0.0]]]]}\n"
          ],
          "name": "stdout"
        }
      ]
    },
    {
      "cell_type": "code",
      "metadata": {
        "id": "bU7MGFsd3xyf"
      },
      "source": [
        "!pip install -q requests\n"
      ],
      "execution_count": 39,
      "outputs": []
    },
    {
      "cell_type": "code",
      "metadata": {
        "id": "JC7R3Xp-3PS4"
      },
      "source": [
        "\n",
        "import requests\n"
      ],
      "execution_count": 40,
      "outputs": []
    },
    {
      "cell_type": "code",
      "metadata": {
        "id": "TABtyXff31XA"
      },
      "source": [
        "headers = {\"content-type\": \"application/json\"}\n",
        "json_response = requests.post('http://localhost:8501/v1/models/fashion_model:predict', data=data, headers=headers)\n",
        "predictions = json.loads(json_response.text)['predictions']\n"
      ],
      "execution_count": 42,
      "outputs": []
    },
    {
      "cell_type": "code",
      "metadata": {
        "id": "WMabmeBJ4AAM",
        "colab": {
          "base_uri": "https://localhost:8080/",
          "height": 318
        },
        "outputId": "7940f092-b34d-4071-e018-fd846b2d8cbc"
      },
      "source": [
        "\n",
        "show(0, 'The model thought this was a {} (class {}), and it was actually a {} (class {})'.format(\n",
        "  class_names[np.argmax(predictions[0])], y_test[0], class_names[np.argmax(predictions[0])], y_test[0]))"
      ],
      "execution_count": 43,
      "outputs": [
        {
          "output_type": "display_data",
          "data": {
            "image/png": "[encoded data removed]",
            "text/plain": [
              "<Figure size 432x288 with 1 Axes>"
            ]
          },
          "metadata": {
            "tags": [],
            "needs_background": "light"
          }
        }
      ]
    },
    {
      "cell_type": "code",
      "metadata": {
        "id": "5kCu7cnB4Az6",
        "colab": {
          "base_uri": "https://localhost:8080/",
          "height": 920
        },
        "outputId": "8cf29e19-2d82-47c4-fd2c-5af293abd646"
      },
      "source": [
        "headers = {\"content-type\": \"application/json\"}\n",
        "json_response = requests.post('http://localhost:8501/v1/models/fashion_model/versions/1:predict', data=data, headers=headers)\n",
        "predictions = json.loads(json_response.text)['predictions']\n",
        "\n",
        "for i in range(0,3):\n",
        "  show(i, 'The model thought this was a {} (class {}), and it was actually a {} (class {})'.format(\n",
        "    class_names[np.argmax(predictions[i])], y_test[i], class_names[np.argmax(predictions[i])], y_test[i]))"
      ],
      "execution_count": 45,
      "outputs": [
        {
          "output_type": "display_data",
          "data": {
            "image/png": "[encoded data removed]",
            "text/plain": [
              "<Figure size 432x288 with 1 Axes>"
            ]
          },
          "metadata": {
            "tags": [],
            "needs_background": "light"
          }
        },
        {
          "output_type": "display_data",
          "data": {
            "image/png": "[encoded data removed]",
            "text/plain": [
              "<Figure size 432x288 with 1 Axes>"
            ]
          },
          "metadata": {
            "tags": [],
            "needs_background": "light"
          }
        },
        {
          "output_type": "display_data",
          "data": {
            "image/png": "[encoded data removed]",
            "text/plain": [
              "<Figure size 432x288 with 1 Axes>"
            ]
          },
          "metadata": {
            "tags": [],
            "needs_background": "light"
          }
        }
      ]
    },
    {
      "cell_type": "code",
      "metadata": {
        "id": "BYyQnvahWTWW"
      },
      "source": [
        ""
      ],
      "execution_count": null,
      "outputs": []
    }
  ]
}