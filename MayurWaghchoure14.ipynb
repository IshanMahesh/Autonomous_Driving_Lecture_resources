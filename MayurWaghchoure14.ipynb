{
  "nbformat": 4,
  "nbformat_minor": 0,
  "metadata": {
    "accelerator": "GPU",
    "colab": {
      "name": "MayurWaghchoure14.ipynb",
      "provenance": [],
      "collapsed_sections": [],
      "authorship_tag": "ABX9TyNQEQUjLcww6b0nlbnlEKjF",
      "include_colab_link": true
    },
    "kernelspec": {
      "display_name": "Python 3",
      "name": "python3"
    }
  },
  "cells": [
    {
      "cell_type": "markdown",
      "metadata": {
        "id": "view-in-github",
        "colab_type": "text"
      },
      "source": [
        "<a href=\"https://colab.research.google.com/github/Mayakshanesht/Autonomous_Driving_Lecture_resources/blob/Perception/MayurWaghchoure14.ipynb\" target=\"_parent\"><img src=\"https://colab.research.google.com/assets/colab-badge.svg\" alt=\"Open In Colab\"/></a>"
      ]
    },
    {
      "cell_type": "code",
      "metadata": {
        "colab": {
          "base_uri": "https://localhost:8080/"
        },
        "id": "91DhAf8lmJ4N",
        "outputId": "47086bce-4722-4d5a-c728-06161565005c"
      },
      "source": [
        "!nvidia-smi"
      ],
      "execution_count": null,
      "outputs": [
        {
          "output_type": "stream",
          "text": [
            "Sun Feb  7 03:49:38 2021       \n",
            "+-----------------------------------------------------------------------------+\n",
            "| NVIDIA-SMI 460.39       Driver Version: 418.67       CUDA Version: 10.1     |\n",
            "|-------------------------------+----------------------+----------------------+\n",
            "| GPU  Name        Persistence-M| Bus-Id        Disp.A | Volatile Uncorr. ECC |\n",
            "| Fan  Temp  Perf  Pwr:Usage/Cap|         Memory-Usage | GPU-Util  Compute M. |\n",
            "|                               |                      |               MIG M. |\n",
            "|===============================+======================+======================|\n",
            "|   0  Tesla T4            Off  | 00000000:00:04.0 Off |                    0 |\n",
            "| N/A   51C    P8    10W /  70W |      0MiB / 15079MiB |      0%      Default |\n",
            "|                               |                      |                 ERR! |\n",
            "+-------------------------------+----------------------+----------------------+\n",
            "                                                                               \n",
            "+-----------------------------------------------------------------------------+\n",
            "| Processes:                                                                  |\n",
            "|  GPU   GI   CI        PID   Type   Process name                  GPU Memory |\n",
            "|        ID   ID                                                   Usage      |\n",
            "|=============================================================================|\n",
            "|  No running processes found                                                 |\n",
            "+-----------------------------------------------------------------------------+\n"
          ],
          "name": "stdout"
        }
      ]
    },
    {
      "cell_type": "code",
      "metadata": {
        "colab": {
          "base_uri": "https://localhost:8080/"
        },
        "id": "OW6N4kj9nAHD",
        "outputId": "27bf3612-3266-43f4-8d81-883eb6b030d8"
      },
      "source": [
        "from google.colab import drive\r\n",
        "drive.mount('/content/drive')"
      ],
      "execution_count": 2,
      "outputs": [
        {
          "output_type": "stream",
          "text": [
            "Mounted at /content/drive\n"
          ],
          "name": "stdout"
        }
      ]
    },
    {
      "cell_type": "code",
      "metadata": {
        "colab": {
          "base_uri": "https://localhost:8080/"
        },
        "id": "UNVMR-CMnJhJ",
        "outputId": "a6d068f8-debf-45c1-f676-f165e5564016"
      },
      "source": [
        "!unzip \"/content/drive/My Drive/ADLCV/Day_2/cats_and_dogs.zip\" -d \"/content/drive/My Drive/ADLCV/Day_2/\""
      ],
      "execution_count": null,
      "outputs": [
        {
          "output_type": "stream",
          "text": [
            "Archive:  /content/drive/My Drive/ADLCV/Day_2/cats_and_dogs.zip\n",
            "replace /content/drive/My Drive/ADLCV/Day_2/cats_and_dogs_filtered/vectorize.py? [y]es, [n]o, [A]ll, [N]one, [r]ename: n\n",
            "replace /content/drive/My Drive/ADLCV/Day_2/cats_and_dogs_filtered/validation/dogs/dog.2127.jpg? [y]es, [n]o, [A]ll, [N]one, [r]ename: n\n",
            "replace /content/drive/My Drive/ADLCV/Day_2/cats_and_dogs_filtered/validation/dogs/dog.2126.jpg? [y]es, [n]o, [A]ll, [N]one, [r]ename: n\n",
            "replace /content/drive/My Drive/ADLCV/Day_2/cats_and_dogs_filtered/validation/dogs/dog.2125.jpg? [y]es, [n]o, [A]ll, [N]one, [r]ename: n\n",
            "replace /content/drive/My Drive/ADLCV/Day_2/cats_and_dogs_filtered/validation/dogs/dog.2124.jpg? [y]es, [n]o, [A]ll, [N]one, [r]ename: N\n",
            "N\n"
          ],
          "name": "stdout"
        }
      ]
    },
    {
      "cell_type": "code",
      "metadata": {
        "id": "KP3Y7xbKnbcL"
      },
      "source": [
        "import tensorflow as tf\r\n",
        "#Use Image Generators\r\n",
        "#1. Initialize\r\n",
        "#For Training Data\r\n",
        "train_generator = tf.keras.preprocessing.image.ImageDataGenerator(rescale= 1.0/255.,\r\n",
        "                                                                  rotation_range=30,\r\n",
        "                                                              \r\n",
        "                                                                  zoom_range=0.2,\r\n",
        "                                                                  horizontal_flip=True,\r\n",
        "                                                                  \r\n",
        "                                                                  fill_mode='nearest',\r\n",
        "                                                                  )\r\n",
        "\r\n",
        "#For Validation Data\r\n",
        "validation_generator = tf.keras.preprocessing.image.ImageDataGenerator(rescale= 1.0/255.)"
      ],
      "execution_count": 3,
      "outputs": []
    },
    {
      "cell_type": "code",
      "metadata": {
        "colab": {
          "base_uri": "https://localhost:8080/"
        },
        "id": "mOVjpdYinlyh",
        "outputId": "70302a67-1f90-4489-ba0c-d5c6280921ac"
      },
      "source": [
        "#Pass set of images to the generator to generate compatible images for CNN\r\n",
        "trainImageData = train_generator.flow_from_directory(\"/content/drive/MyDrive/ADLCV/Day_2/cats_and_dogs_filtered/train/\",\r\n",
        "                                                     batch_size=32,\r\n",
        "                                                     class_mode='binary',\r\n",
        "                                                     target_size=(128,128))\r\n",
        "\r\n",
        "validationImageData = train_generator.flow_from_directory(\"/content/drive/MyDrive/ADLCV/Day_2/cats_and_dogs_filtered/validation/\",\r\n",
        "                                                          batch_size=32,\r\n",
        "                                                     class_mode='binary',\r\n",
        "                                                     target_size=(128,128))"
      ],
      "execution_count": 4,
      "outputs": [
        {
          "output_type": "stream",
          "text": [
            "Found 2000 images belonging to 2 classes.\n",
            "Found 1000 images belonging to 2 classes.\n"
          ],
          "name": "stdout"
        }
      ]
    },
    {
      "cell_type": "code",
      "metadata": {
        "id": "gQaVeTphnqoJ"
      },
      "source": [
        "#Architect your CNN Model\r\n",
        "\r\n",
        "model = tf.keras.models.Sequential()\r\n",
        "\r\n",
        "#Step1: Create  First Convolution Layer\r\n",
        "# Conv1D --- Sound/Mp3/Text\r\n",
        "# Conv2D --- Image/Image Set\r\n",
        "# Conv3D --- Movies/Mp4\r\n",
        "\r\n",
        "#Create Convolve Layer\r\n",
        "# Conv2D(No_Of_filters,Size_of_Filter, input_shape)\r\n",
        "# Suggestions/Best Practices by Prashant Nair\r\n",
        "# 1. Filters ----> Choose Boolean Algebra Compatible Values like 1,2,4,8,16,32,64,128,256,512\r\n",
        "# 2. Size_of_Filter ---> If Data Size below 10GB --> (3,3) If betn 10GB - 100G --> (4,4) , Above 100G --> (5,5)\r\n",
        "# 3. Input Shape ---> Suggested go 64,64 ; 128,128 ; 256,256 ; 512,512\r\n",
        "\r\n",
        "model.add(tf.keras.layers.Conv2D(32, (3,3) , input_shape=(128,128,3) ,activation='relu', padding='same', strides=(1,1)))\r\n",
        "model.add(tf.keras.layers.MaxPooling2D(pool_size=(2,2)))\r\n",
        "model.add(tf.keras.layers.Dropout(0.2))\r\n",
        "#model.add(tf.keras.layers.AveragePooling2D(pool_size=(2,2)))\r\n",
        "\r\n",
        "#Step2: Create  Second Convolution Layer\r\n",
        "model.add(tf.keras.layers.Conv2D(16, (3,3) , input_shape=(128,128,3) ,activation='relu', padding='same', strides=(1,1)))\r\n",
        "model.add(tf.keras.layers.MaxPooling2D(pool_size=(2,2)))\r\n",
        "model.add(tf.keras.layers.Dropout(0.2))\r\n",
        "\r\n",
        "#Step2: Create  Third Convolution Layer\r\n",
        "model.add(tf.keras.layers.Conv2D(8, (3,3) , input_shape=(128,128,3) ,activation='relu', padding='same', strides=(1,1)))\r\n",
        "model.add(tf.keras.layers.MaxPooling2D(pool_size=(2,2)))\r\n",
        "model.add(tf.keras.layers.Dropout(0.2))\r\n",
        "\r\n",
        "#Step2: Create fourth Convolution Layer\r\n",
        "model.add(tf.keras.layers.Conv2D(4, (3,3) , input_shape=(128,128,3) ,activation='relu', padding='same', strides=(1,1)))\r\n",
        "model.add(tf.keras.layers.MaxPooling2D(pool_size=(2,2)))\r\n",
        "model.add(tf.keras.layers.Dropout(0.2))\r\n",
        "#Step3: Flatten\r\n",
        "model.add(tf.keras.layers.Flatten())\r\n",
        "\r\n",
        "#Step4: FC Layer/ANN\r\n",
        "model.add(tf.keras.layers.Dense(units=512, activation='relu'))\r\n",
        "model.add(tf.keras.layers.Dropout(0.2))\r\n",
        "model.add(tf.keras.layers.Dense(units=256, activation='relu'))\r\n",
        "model.add(tf.keras.layers.Dropout(0.2))\r\n",
        "model.add(tf.keras.layers.Dense(units=64, activation='relu'))\r\n",
        "model.add(tf.keras.layers.Dropout(0.2))\r\n",
        "\r\n",
        "model.add(tf.keras.layers.Dense(units=1, activation='sigmoid'))\r\n",
        "\r\n"
      ],
      "execution_count": 5,
      "outputs": []
    },
    {
      "cell_type": "code",
      "metadata": {
        "colab": {
          "base_uri": "https://localhost:8080/"
        },
        "id": "Ca7T2ExNnwm5",
        "outputId": "40409ac1-2e06-4a0c-b7c2-f767c15a39cf"
      },
      "source": [
        "model.summary()"
      ],
      "execution_count": null,
      "outputs": [
        {
          "output_type": "stream",
          "text": [
            "Model: \"sequential\"\n",
            "_________________________________________________________________\n",
            "Layer (type)                 Output Shape              Param #   \n",
            "=================================================================\n",
            "conv2d (Conv2D)              (None, 128, 128, 32)      896       \n",
            "_________________________________________________________________\n",
            "max_pooling2d (MaxPooling2D) (None, 64, 64, 32)        0         \n",
            "_________________________________________________________________\n",
            "dropout (Dropout)            (None, 64, 64, 32)        0         \n",
            "_________________________________________________________________\n",
            "conv2d_1 (Conv2D)            (None, 64, 64, 16)        4624      \n",
            "_________________________________________________________________\n",
            "max_pooling2d_1 (MaxPooling2 (None, 32, 32, 16)        0         \n",
            "_________________________________________________________________\n",
            "dropout_1 (Dropout)          (None, 32, 32, 16)        0         \n",
            "_________________________________________________________________\n",
            "conv2d_2 (Conv2D)            (None, 32, 32, 8)         1160      \n",
            "_________________________________________________________________\n",
            "max_pooling2d_2 (MaxPooling2 (None, 16, 16, 8)         0         \n",
            "_________________________________________________________________\n",
            "dropout_2 (Dropout)          (None, 16, 16, 8)         0         \n",
            "_________________________________________________________________\n",
            "conv2d_3 (Conv2D)            (None, 16, 16, 4)         292       \n",
            "_________________________________________________________________\n",
            "max_pooling2d_3 (MaxPooling2 (None, 8, 8, 4)           0         \n",
            "_________________________________________________________________\n",
            "dropout_3 (Dropout)          (None, 8, 8, 4)           0         \n",
            "_________________________________________________________________\n",
            "flatten (Flatten)            (None, 256)               0         \n",
            "_________________________________________________________________\n",
            "dense (Dense)                (None, 512)               131584    \n",
            "_________________________________________________________________\n",
            "dropout_4 (Dropout)          (None, 512)               0         \n",
            "_________________________________________________________________\n",
            "dense_1 (Dense)              (None, 256)               131328    \n",
            "_________________________________________________________________\n",
            "dropout_5 (Dropout)          (None, 256)               0         \n",
            "_________________________________________________________________\n",
            "dense_2 (Dense)              (None, 64)                16448     \n",
            "_________________________________________________________________\n",
            "dropout_6 (Dropout)          (None, 64)                0         \n",
            "_________________________________________________________________\n",
            "dense_3 (Dense)              (None, 1)                 65        \n",
            "=================================================================\n",
            "Total params: 286,397\n",
            "Trainable params: 286,397\n",
            "Non-trainable params: 0\n",
            "_________________________________________________________________\n"
          ],
          "name": "stdout"
        }
      ]
    },
    {
      "cell_type": "code",
      "metadata": {
        "id": "pcA7ml0In0Jy"
      },
      "source": [
        "#Compile\r\n",
        "\r\n",
        "model.compile(optimizer='adam',\r\n",
        "            \r\n",
        "              loss='binary_crossentropy',\r\n",
        "              metrics=['accuracy'])"
      ],
      "execution_count": 6,
      "outputs": []
    },
    {
      "cell_type": "code",
      "metadata": {
        "colab": {
          "base_uri": "https://localhost:8080/"
        },
        "id": "pMhEvqOun6Fi",
        "outputId": "1d9513de-6601-4356-e624-77ec6425dcd0"
      },
      "source": [
        "#Fit\r\n",
        "history = model.fit(x = trainImageData,\r\n",
        "                    validation_data=validationImageData,\r\n",
        "                    epochs = 100,\r\n",
        "                    steps_per_epoch= len(trainImageData.filenames)/trainImageData.batch_size, #No_Of_Images/batch_size)\r\n",
        "                    validation_steps =len(validationImageData.filenames)/validationImageData.batch_size )"
      ],
      "execution_count": 8,
      "outputs": [
        {
          "output_type": "stream",
          "text": [
            "Epoch 1/100\n",
            "62/62 [==============================] - 19s 306ms/step - loss: 0.4238 - accuracy: 0.8110 - val_loss: 0.5529 - val_accuracy: 0.7360\n",
            "Epoch 2/100\n",
            "62/62 [==============================] - 19s 307ms/step - loss: 0.4418 - accuracy: 0.7990 - val_loss: 0.5569 - val_accuracy: 0.7230\n",
            "Epoch 3/100\n",
            "62/62 [==============================] - 19s 306ms/step - loss: 0.4471 - accuracy: 0.7925 - val_loss: 0.5457 - val_accuracy: 0.7350\n",
            "Epoch 4/100\n",
            "62/62 [==============================] - 19s 307ms/step - loss: 0.4403 - accuracy: 0.7970 - val_loss: 0.5705 - val_accuracy: 0.7130\n",
            "Epoch 5/100\n",
            "62/62 [==============================] - 19s 306ms/step - loss: 0.4347 - accuracy: 0.7990 - val_loss: 0.6096 - val_accuracy: 0.6890\n",
            "Epoch 6/100\n",
            "62/62 [==============================] - 19s 309ms/step - loss: 0.4266 - accuracy: 0.8090 - val_loss: 0.5982 - val_accuracy: 0.7040\n",
            "Epoch 7/100\n",
            "62/62 [==============================] - 19s 311ms/step - loss: 0.4276 - accuracy: 0.8040 - val_loss: 0.5321 - val_accuracy: 0.7240\n",
            "Epoch 8/100\n",
            "62/62 [==============================] - 19s 309ms/step - loss: 0.4357 - accuracy: 0.7945 - val_loss: 0.5325 - val_accuracy: 0.7340\n",
            "Epoch 9/100\n",
            "62/62 [==============================] - 20s 315ms/step - loss: 0.4346 - accuracy: 0.7895 - val_loss: 0.5739 - val_accuracy: 0.7150\n",
            "Epoch 10/100\n",
            "62/62 [==============================] - 19s 308ms/step - loss: 0.4352 - accuracy: 0.7975 - val_loss: 0.5435 - val_accuracy: 0.7400\n",
            "Epoch 11/100\n",
            "62/62 [==============================] - 19s 307ms/step - loss: 0.4364 - accuracy: 0.7970 - val_loss: 0.5779 - val_accuracy: 0.6970\n",
            "Epoch 12/100\n",
            "62/62 [==============================] - 19s 302ms/step - loss: 0.4179 - accuracy: 0.8100 - val_loss: 0.5830 - val_accuracy: 0.7300\n",
            "Epoch 13/100\n",
            "62/62 [==============================] - 19s 302ms/step - loss: 0.4238 - accuracy: 0.8055 - val_loss: 0.6702 - val_accuracy: 0.6720\n",
            "Epoch 14/100\n",
            "62/62 [==============================] - 19s 305ms/step - loss: 0.4320 - accuracy: 0.8005 - val_loss: 0.5685 - val_accuracy: 0.7230\n",
            "Epoch 15/100\n",
            "62/62 [==============================] - 19s 304ms/step - loss: 0.4339 - accuracy: 0.7965 - val_loss: 0.5932 - val_accuracy: 0.6950\n",
            "Epoch 16/100\n",
            "62/62 [==============================] - 19s 303ms/step - loss: 0.4148 - accuracy: 0.8100 - val_loss: 0.6239 - val_accuracy: 0.7120\n",
            "Epoch 17/100\n",
            "62/62 [==============================] - 19s 304ms/step - loss: 0.4282 - accuracy: 0.8050 - val_loss: 0.5428 - val_accuracy: 0.7380\n",
            "Epoch 18/100\n",
            "62/62 [==============================] - 19s 303ms/step - loss: 0.4276 - accuracy: 0.7930 - val_loss: 0.6291 - val_accuracy: 0.7040\n",
            "Epoch 19/100\n",
            "62/62 [==============================] - 19s 303ms/step - loss: 0.4223 - accuracy: 0.8025 - val_loss: 0.5336 - val_accuracy: 0.7370\n",
            "Epoch 20/100\n",
            "62/62 [==============================] - 19s 304ms/step - loss: 0.4232 - accuracy: 0.8115 - val_loss: 0.6177 - val_accuracy: 0.7130\n",
            "Epoch 21/100\n",
            "62/62 [==============================] - 19s 302ms/step - loss: 0.4343 - accuracy: 0.8050 - val_loss: 0.5484 - val_accuracy: 0.7240\n",
            "Epoch 22/100\n",
            "62/62 [==============================] - 19s 300ms/step - loss: 0.4190 - accuracy: 0.8040 - val_loss: 0.6036 - val_accuracy: 0.7160\n",
            "Epoch 23/100\n",
            "62/62 [==============================] - 19s 304ms/step - loss: 0.4103 - accuracy: 0.8060 - val_loss: 0.6070 - val_accuracy: 0.7280\n",
            "Epoch 24/100\n",
            "62/62 [==============================] - 19s 301ms/step - loss: 0.4236 - accuracy: 0.7985 - val_loss: 0.6032 - val_accuracy: 0.7000\n",
            "Epoch 25/100\n",
            "62/62 [==============================] - 19s 300ms/step - loss: 0.4235 - accuracy: 0.8025 - val_loss: 0.5972 - val_accuracy: 0.7180\n",
            "Epoch 26/100\n",
            "62/62 [==============================] - 19s 307ms/step - loss: 0.4136 - accuracy: 0.7995 - val_loss: 0.6524 - val_accuracy: 0.6810\n",
            "Epoch 27/100\n",
            "62/62 [==============================] - 19s 301ms/step - loss: 0.4034 - accuracy: 0.8135 - val_loss: 0.5426 - val_accuracy: 0.7450\n",
            "Epoch 28/100\n",
            "62/62 [==============================] - 19s 301ms/step - loss: 0.4135 - accuracy: 0.8100 - val_loss: 0.5500 - val_accuracy: 0.7390\n",
            "Epoch 29/100\n",
            "62/62 [==============================] - 19s 300ms/step - loss: 0.4090 - accuracy: 0.8055 - val_loss: 0.6150 - val_accuracy: 0.7260\n",
            "Epoch 30/100\n",
            "62/62 [==============================] - 19s 302ms/step - loss: 0.4248 - accuracy: 0.8015 - val_loss: 0.5562 - val_accuracy: 0.7510\n",
            "Epoch 31/100\n",
            "62/62 [==============================] - 19s 300ms/step - loss: 0.4023 - accuracy: 0.8200 - val_loss: 0.5066 - val_accuracy: 0.7700\n",
            "Epoch 32/100\n",
            "62/62 [==============================] - 19s 301ms/step - loss: 0.4224 - accuracy: 0.8085 - val_loss: 0.5407 - val_accuracy: 0.7300\n",
            "Epoch 33/100\n",
            "62/62 [==============================] - 19s 301ms/step - loss: 0.4107 - accuracy: 0.8110 - val_loss: 0.6157 - val_accuracy: 0.7150\n",
            "Epoch 34/100\n",
            "62/62 [==============================] - 19s 301ms/step - loss: 0.4187 - accuracy: 0.7990 - val_loss: 0.5795 - val_accuracy: 0.7050\n",
            "Epoch 35/100\n",
            "62/62 [==============================] - 19s 300ms/step - loss: 0.4131 - accuracy: 0.8135 - val_loss: 0.5190 - val_accuracy: 0.7370\n",
            "Epoch 36/100\n",
            "62/62 [==============================] - 19s 302ms/step - loss: 0.4124 - accuracy: 0.8165 - val_loss: 0.5552 - val_accuracy: 0.7440\n",
            "Epoch 37/100\n",
            "62/62 [==============================] - 19s 303ms/step - loss: 0.4010 - accuracy: 0.8045 - val_loss: 0.5997 - val_accuracy: 0.7200\n",
            "Epoch 38/100\n",
            "62/62 [==============================] - 19s 299ms/step - loss: 0.4082 - accuracy: 0.8035 - val_loss: 0.5821 - val_accuracy: 0.7280\n",
            "Epoch 39/100\n",
            "62/62 [==============================] - 19s 303ms/step - loss: 0.3995 - accuracy: 0.8135 - val_loss: 0.5239 - val_accuracy: 0.7500\n",
            "Epoch 40/100\n",
            "62/62 [==============================] - 19s 300ms/step - loss: 0.4165 - accuracy: 0.8135 - val_loss: 0.5774 - val_accuracy: 0.7230\n",
            "Epoch 41/100\n",
            "62/62 [==============================] - 19s 301ms/step - loss: 0.3955 - accuracy: 0.8230 - val_loss: 0.6053 - val_accuracy: 0.7230\n",
            "Epoch 42/100\n",
            "62/62 [==============================] - 19s 304ms/step - loss: 0.3930 - accuracy: 0.8140 - val_loss: 0.6242 - val_accuracy: 0.7170\n",
            "Epoch 43/100\n",
            "62/62 [==============================] - 19s 302ms/step - loss: 0.4129 - accuracy: 0.8160 - val_loss: 0.6230 - val_accuracy: 0.7040\n",
            "Epoch 44/100\n",
            "62/62 [==============================] - 19s 301ms/step - loss: 0.3979 - accuracy: 0.8235 - val_loss: 0.5481 - val_accuracy: 0.7480\n",
            "Epoch 45/100\n",
            "62/62 [==============================] - 19s 301ms/step - loss: 0.4134 - accuracy: 0.8125 - val_loss: 0.5425 - val_accuracy: 0.7430\n",
            "Epoch 46/100\n",
            "62/62 [==============================] - 19s 301ms/step - loss: 0.3862 - accuracy: 0.8240 - val_loss: 0.6320 - val_accuracy: 0.6990\n",
            "Epoch 47/100\n",
            "62/62 [==============================] - 19s 301ms/step - loss: 0.3967 - accuracy: 0.8250 - val_loss: 0.5854 - val_accuracy: 0.7270\n",
            "Epoch 48/100\n",
            "62/62 [==============================] - 19s 299ms/step - loss: 0.3973 - accuracy: 0.8210 - val_loss: 0.5860 - val_accuracy: 0.7030\n",
            "Epoch 49/100\n",
            "62/62 [==============================] - 19s 302ms/step - loss: 0.4133 - accuracy: 0.8130 - val_loss: 0.6835 - val_accuracy: 0.6920\n",
            "Epoch 50/100\n",
            "62/62 [==============================] - 19s 302ms/step - loss: 0.4081 - accuracy: 0.8130 - val_loss: 0.5847 - val_accuracy: 0.7120\n",
            "Epoch 51/100\n",
            "62/62 [==============================] - 19s 300ms/step - loss: 0.3976 - accuracy: 0.8195 - val_loss: 0.5758 - val_accuracy: 0.7380\n",
            "Epoch 52/100\n",
            "62/62 [==============================] - 19s 301ms/step - loss: 0.4110 - accuracy: 0.8110 - val_loss: 0.5992 - val_accuracy: 0.7420\n",
            "Epoch 53/100\n",
            "62/62 [==============================] - 19s 301ms/step - loss: 0.4015 - accuracy: 0.8275 - val_loss: 0.6043 - val_accuracy: 0.7000\n",
            "Epoch 54/100\n",
            "62/62 [==============================] - 19s 301ms/step - loss: 0.3935 - accuracy: 0.8175 - val_loss: 0.6672 - val_accuracy: 0.6770\n",
            "Epoch 55/100\n",
            "62/62 [==============================] - 19s 300ms/step - loss: 0.3848 - accuracy: 0.8275 - val_loss: 0.6120 - val_accuracy: 0.7310\n",
            "Epoch 56/100\n",
            "62/62 [==============================] - 19s 302ms/step - loss: 0.4134 - accuracy: 0.8050 - val_loss: 0.5895 - val_accuracy: 0.7050\n",
            "Epoch 57/100\n",
            "62/62 [==============================] - 19s 301ms/step - loss: 0.3908 - accuracy: 0.8185 - val_loss: 0.5537 - val_accuracy: 0.7660\n",
            "Epoch 58/100\n",
            "62/62 [==============================] - 19s 301ms/step - loss: 0.4000 - accuracy: 0.8160 - val_loss: 0.6521 - val_accuracy: 0.6990\n",
            "Epoch 59/100\n",
            "62/62 [==============================] - 19s 309ms/step - loss: 0.3930 - accuracy: 0.8315 - val_loss: 0.6642 - val_accuracy: 0.6880\n",
            "Epoch 60/100\n",
            "62/62 [==============================] - 19s 300ms/step - loss: 0.4027 - accuracy: 0.8205 - val_loss: 0.5825 - val_accuracy: 0.7450\n",
            "Epoch 61/100\n",
            "62/62 [==============================] - 19s 300ms/step - loss: 0.4038 - accuracy: 0.8135 - val_loss: 0.5702 - val_accuracy: 0.7340\n",
            "Epoch 62/100\n",
            "62/62 [==============================] - 19s 302ms/step - loss: 0.3962 - accuracy: 0.8275 - val_loss: 0.5766 - val_accuracy: 0.7300\n",
            "Epoch 63/100\n",
            "62/62 [==============================] - 19s 300ms/step - loss: 0.3842 - accuracy: 0.8220 - val_loss: 0.6151 - val_accuracy: 0.7290\n",
            "Epoch 64/100\n",
            "62/62 [==============================] - 19s 300ms/step - loss: 0.4029 - accuracy: 0.8160 - val_loss: 0.5833 - val_accuracy: 0.7200\n",
            "Epoch 65/100\n",
            "62/62 [==============================] - 19s 301ms/step - loss: 0.3987 - accuracy: 0.8245 - val_loss: 0.5253 - val_accuracy: 0.7680\n",
            "Epoch 66/100\n",
            "62/62 [==============================] - 19s 301ms/step - loss: 0.4157 - accuracy: 0.8060 - val_loss: 0.6200 - val_accuracy: 0.6990\n",
            "Epoch 67/100\n",
            "62/62 [==============================] - 19s 302ms/step - loss: 0.3888 - accuracy: 0.8160 - val_loss: 0.5527 - val_accuracy: 0.7460\n",
            "Epoch 68/100\n",
            "62/62 [==============================] - 19s 301ms/step - loss: 0.3853 - accuracy: 0.8220 - val_loss: 0.7121 - val_accuracy: 0.6740\n",
            "Epoch 69/100\n",
            "62/62 [==============================] - 19s 304ms/step - loss: 0.3835 - accuracy: 0.8320 - val_loss: 0.5951 - val_accuracy: 0.7160\n",
            "Epoch 70/100\n",
            "62/62 [==============================] - 19s 300ms/step - loss: 0.4021 - accuracy: 0.8140 - val_loss: 0.5425 - val_accuracy: 0.7620\n",
            "Epoch 71/100\n",
            "62/62 [==============================] - 19s 303ms/step - loss: 0.3785 - accuracy: 0.8365 - val_loss: 0.6856 - val_accuracy: 0.6740\n",
            "Epoch 72/100\n",
            "62/62 [==============================] - 19s 304ms/step - loss: 0.3998 - accuracy: 0.8085 - val_loss: 0.5532 - val_accuracy: 0.7480\n",
            "Epoch 73/100\n",
            "62/62 [==============================] - 19s 299ms/step - loss: 0.4010 - accuracy: 0.8120 - val_loss: 0.6657 - val_accuracy: 0.6950\n",
            "Epoch 74/100\n",
            "62/62 [==============================] - 19s 302ms/step - loss: 0.4047 - accuracy: 0.8060 - val_loss: 0.6638 - val_accuracy: 0.7010\n",
            "Epoch 75/100\n",
            "62/62 [==============================] - 19s 305ms/step - loss: 0.3657 - accuracy: 0.8425 - val_loss: 0.6606 - val_accuracy: 0.7100\n",
            "Epoch 76/100\n",
            "62/62 [==============================] - 19s 303ms/step - loss: 0.3834 - accuracy: 0.8310 - val_loss: 0.6805 - val_accuracy: 0.6960\n",
            "Epoch 77/100\n",
            "62/62 [==============================] - 19s 300ms/step - loss: 0.3683 - accuracy: 0.8340 - val_loss: 0.5878 - val_accuracy: 0.7190\n",
            "Epoch 78/100\n",
            "62/62 [==============================] - 19s 301ms/step - loss: 0.3851 - accuracy: 0.8260 - val_loss: 0.5261 - val_accuracy: 0.7530\n",
            "Epoch 79/100\n",
            "62/62 [==============================] - 19s 302ms/step - loss: 0.3966 - accuracy: 0.8210 - val_loss: 0.5623 - val_accuracy: 0.7260\n",
            "Epoch 80/100\n",
            "62/62 [==============================] - 19s 302ms/step - loss: 0.3840 - accuracy: 0.8340 - val_loss: 0.5505 - val_accuracy: 0.7310\n",
            "Epoch 81/100\n",
            "62/62 [==============================] - 19s 302ms/step - loss: 0.3797 - accuracy: 0.8235 - val_loss: 0.6092 - val_accuracy: 0.7060\n",
            "Epoch 82/100\n",
            "62/62 [==============================] - 19s 301ms/step - loss: 0.3768 - accuracy: 0.8245 - val_loss: 0.5354 - val_accuracy: 0.7440\n",
            "Epoch 83/100\n",
            "62/62 [==============================] - 19s 300ms/step - loss: 0.3715 - accuracy: 0.8325 - val_loss: 0.6264 - val_accuracy: 0.7150\n",
            "Epoch 84/100\n",
            "62/62 [==============================] - 19s 304ms/step - loss: 0.3917 - accuracy: 0.8155 - val_loss: 0.5583 - val_accuracy: 0.7400\n",
            "Epoch 85/100\n",
            "62/62 [==============================] - 19s 301ms/step - loss: 0.3741 - accuracy: 0.8390 - val_loss: 0.5536 - val_accuracy: 0.7540\n",
            "Epoch 86/100\n",
            "62/62 [==============================] - 19s 300ms/step - loss: 0.3564 - accuracy: 0.8410 - val_loss: 0.5612 - val_accuracy: 0.7420\n",
            "Epoch 87/100\n",
            "62/62 [==============================] - 19s 300ms/step - loss: 0.3735 - accuracy: 0.8315 - val_loss: 0.5427 - val_accuracy: 0.7570\n",
            "Epoch 88/100\n",
            "62/62 [==============================] - 19s 304ms/step - loss: 0.3647 - accuracy: 0.8425 - val_loss: 0.5352 - val_accuracy: 0.7550\n",
            "Epoch 89/100\n",
            "62/62 [==============================] - 19s 301ms/step - loss: 0.3771 - accuracy: 0.8300 - val_loss: 0.5883 - val_accuracy: 0.7310\n",
            "Epoch 90/100\n",
            "62/62 [==============================] - 19s 299ms/step - loss: 0.3712 - accuracy: 0.8255 - val_loss: 0.5715 - val_accuracy: 0.7350\n",
            "Epoch 91/100\n",
            "62/62 [==============================] - 19s 302ms/step - loss: 0.3714 - accuracy: 0.8320 - val_loss: 0.6105 - val_accuracy: 0.7350\n",
            "Epoch 92/100\n",
            "62/62 [==============================] - 19s 308ms/step - loss: 0.3784 - accuracy: 0.8290 - val_loss: 0.6177 - val_accuracy: 0.7260\n",
            "Epoch 93/100\n",
            "62/62 [==============================] - 19s 301ms/step - loss: 0.3550 - accuracy: 0.8430 - val_loss: 0.5678 - val_accuracy: 0.7310\n",
            "Epoch 94/100\n",
            "62/62 [==============================] - 19s 302ms/step - loss: 0.3627 - accuracy: 0.8345 - val_loss: 0.5762 - val_accuracy: 0.7410\n",
            "Epoch 95/100\n",
            "62/62 [==============================] - 19s 299ms/step - loss: 0.3670 - accuracy: 0.8410 - val_loss: 0.5521 - val_accuracy: 0.7390\n",
            "Epoch 96/100\n",
            "62/62 [==============================] - 19s 301ms/step - loss: 0.3806 - accuracy: 0.8250 - val_loss: 0.6100 - val_accuracy: 0.7120\n",
            "Epoch 97/100\n",
            "62/62 [==============================] - 19s 302ms/step - loss: 0.3591 - accuracy: 0.8390 - val_loss: 0.6661 - val_accuracy: 0.7160\n",
            "Epoch 98/100\n",
            "62/62 [==============================] - 19s 301ms/step - loss: 0.3763 - accuracy: 0.8295 - val_loss: 0.5587 - val_accuracy: 0.7500\n",
            "Epoch 99/100\n",
            "62/62 [==============================] - 19s 300ms/step - loss: 0.3760 - accuracy: 0.8280 - val_loss: 0.5984 - val_accuracy: 0.7300\n",
            "Epoch 100/100\n",
            "62/62 [==============================] - 19s 302ms/step - loss: 0.3654 - accuracy: 0.8325 - val_loss: 0.5860 - val_accuracy: 0.7470\n"
          ],
          "name": "stdout"
        }
      ]
    },
    {
      "cell_type": "code",
      "metadata": {
        "colab": {
          "base_uri": "https://localhost:8080/"
        },
        "id": "NpaoU2EutjM0",
        "outputId": "294ea095-7cce-4235-d780-fb27c5edb7ed"
      },
      "source": [
        "history_2=model.save(\"/content/drive/My Drive/ADLCV/Day_2/\")"
      ],
      "execution_count": 9,
      "outputs": [
        {
          "output_type": "stream",
          "text": [
            "INFO:tensorflow:Assets written to: /content/drive/My Drive/ADLCV/Day_2/assets\n"
          ],
          "name": "stdout"
        }
      ]
    },
    {
      "cell_type": "code",
      "metadata": {
        "id": "327j7cSiXdvs"
      },
      "source": [
        "img=tf.keras.preprocessing.image.load_img(\"/content/drive/MyDrive/ADLCV/Day_2/cats_and_dogs_filtered/train/dogs/dog.107.jpg\", target_size=(128,128))"
      ],
      "execution_count": 19,
      "outputs": []
    },
    {
      "cell_type": "code",
      "metadata": {
        "id": "szBIYTWaapqJ"
      },
      "source": [
        "img_array=tf.keras.preprocessing.image.img_to_array(img)\r\n",
        "import numpy as np\r\n",
        "imgexpanded=np.expand_dims(img_array,axis=0)"
      ],
      "execution_count": 20,
      "outputs": []
    },
    {
      "cell_type": "code",
      "metadata": {
        "colab": {
          "base_uri": "https://localhost:8080/"
        },
        "id": "TjBZqsjBbEKc",
        "outputId": "c112fef5-9117-476f-f12f-d19f371be212"
      },
      "source": [
        "if (model.predict_classes(imgexpanded))==0:\r\n",
        "  print(\"it's cat\")\r\n",
        "else:\r\n",
        "  print(\"it's dog\")"
      ],
      "execution_count": 22,
      "outputs": [
        {
          "output_type": "stream",
          "text": [
            "it's dog\n"
          ],
          "name": "stdout"
        },
        {
          "output_type": "stream",
          "text": [
            "/usr/local/lib/python3.6/dist-packages/tensorflow/python/keras/engine/sequential.py:450: UserWarning: `model.predict_classes()` is deprecated and will be removed after 2021-01-01. Please use instead:* `np.argmax(model.predict(x), axis=-1)`,   if your model does multi-class classification   (e.g. if it uses a `softmax` last-layer activation).* `(model.predict(x) > 0.5).astype(\"int32\")`,   if your model does binary classification   (e.g. if it uses a `sigmoid` last-layer activation).\n",
            "  warnings.warn('`model.predict_classes()` is deprecated and '\n"
          ],
          "name": "stderr"
        }
      ]
    }
  ]
}