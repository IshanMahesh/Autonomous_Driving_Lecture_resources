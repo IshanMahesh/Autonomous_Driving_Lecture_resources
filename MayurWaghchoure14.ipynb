{
  "nbformat": 4,
  "nbformat_minor": 0,
  "metadata": {
    "accelerator": "GPU",
    "colab": {
      "name": "MayurWaghchoure14.ipynb",
      "provenance": [],
      "collapsed_sections": [],
      "authorship_tag": "ABX9TyPfE6Qu8blej6qjI2sVc6+r",
      "include_colab_link": true
    },
    "kernelspec": {
      "display_name": "Python 3",
      "name": "python3"
    }
  },
  "cells": [
    {
      "cell_type": "markdown",
      "metadata": {
        "id": "view-in-github",
        "colab_type": "text"
      },
      "source": [
        "<a href=\"https://colab.research.google.com/github/Mayakshanesht/Autonomous_Driving_Lecture_resources/blob/Perception/MayurWaghchoure14.ipynb\" target=\"_parent\"><img src=\"https://colab.research.google.com/assets/colab-badge.svg\" alt=\"Open In Colab\"/></a>"
      ]
    },
    {
      "cell_type": "code",
      "metadata": {
        "colab": {
          "base_uri": "https://localhost:8080/"
        },
        "id": "91DhAf8lmJ4N",
        "outputId": "47086bce-4722-4d5a-c728-06161565005c"
      },
      "source": [
        "!nvidia-smi"
      ],
      "execution_count": null,
      "outputs": [
        {
          "output_type": "stream",
          "text": [
            "Sun Feb  7 03:49:38 2021       \n",
            "+-----------------------------------------------------------------------------+\n",
            "| NVIDIA-SMI 460.39       Driver Version: 418.67       CUDA Version: 10.1     |\n",
            "|-------------------------------+----------------------+----------------------+\n",
            "| GPU  Name        Persistence-M| Bus-Id        Disp.A | Volatile Uncorr. ECC |\n",
            "| Fan  Temp  Perf  Pwr:Usage/Cap|         Memory-Usage | GPU-Util  Compute M. |\n",
            "|                               |                      |               MIG M. |\n",
            "|===============================+======================+======================|\n",
            "|   0  Tesla T4            Off  | 00000000:00:04.0 Off |                    0 |\n",
            "| N/A   51C    P8    10W /  70W |      0MiB / 15079MiB |      0%      Default |\n",
            "|                               |                      |                 ERR! |\n",
            "+-------------------------------+----------------------+----------------------+\n",
            "                                                                               \n",
            "+-----------------------------------------------------------------------------+\n",
            "| Processes:                                                                  |\n",
            "|  GPU   GI   CI        PID   Type   Process name                  GPU Memory |\n",
            "|        ID   ID                                                   Usage      |\n",
            "|=============================================================================|\n",
            "|  No running processes found                                                 |\n",
            "+-----------------------------------------------------------------------------+\n"
          ],
          "name": "stdout"
        }
      ]
    },
    {
      "cell_type": "code",
      "metadata": {
        "colab": {
          "base_uri": "https://localhost:8080/"
        },
        "id": "OW6N4kj9nAHD",
        "outputId": "27bf3612-3266-43f4-8d81-883eb6b030d8"
      },
      "source": [
        "from google.colab import drive\r\n",
        "drive.mount('/content/drive')"
      ],
      "execution_count": 2,
      "outputs": [
        {
          "output_type": "stream",
          "text": [
            "Mounted at /content/drive\n"
          ],
          "name": "stdout"
        }
      ]
    },
    {
      "cell_type": "code",
      "metadata": {
        "colab": {
          "base_uri": "https://localhost:8080/"
        },
        "id": "UNVMR-CMnJhJ",
        "outputId": "a6d068f8-debf-45c1-f676-f165e5564016"
      },
      "source": [
        "!unzip \"/content/drive/My Drive/ADLCV/Day_2/cats_and_dogs.zip\" -d \"/content/drive/My Drive/ADLCV/Day_2/\""
      ],
      "execution_count": null,
      "outputs": [
        {
          "output_type": "stream",
          "text": [
            "Archive:  /content/drive/My Drive/ADLCV/Day_2/cats_and_dogs.zip\n",
            "replace /content/drive/My Drive/ADLCV/Day_2/cats_and_dogs_filtered/vectorize.py? [y]es, [n]o, [A]ll, [N]one, [r]ename: n\n",
            "replace /content/drive/My Drive/ADLCV/Day_2/cats_and_dogs_filtered/validation/dogs/dog.2127.jpg? [y]es, [n]o, [A]ll, [N]one, [r]ename: n\n",
            "replace /content/drive/My Drive/ADLCV/Day_2/cats_and_dogs_filtered/validation/dogs/dog.2126.jpg? [y]es, [n]o, [A]ll, [N]one, [r]ename: n\n",
            "replace /content/drive/My Drive/ADLCV/Day_2/cats_and_dogs_filtered/validation/dogs/dog.2125.jpg? [y]es, [n]o, [A]ll, [N]one, [r]ename: n\n",
            "replace /content/drive/My Drive/ADLCV/Day_2/cats_and_dogs_filtered/validation/dogs/dog.2124.jpg? [y]es, [n]o, [A]ll, [N]one, [r]ename: N\n",
            "N\n"
          ],
          "name": "stdout"
        }
      ]
    },
    {
      "cell_type": "code",
      "metadata": {
        "id": "KP3Y7xbKnbcL"
      },
      "source": [
        "import tensorflow as tf\r\n",
        "#Use Image Generators\r\n",
        "#1. Initialize\r\n",
        "#For Training Data\r\n",
        "train_generator = tf.keras.preprocessing.image.ImageDataGenerator(rescale= 1.0/255.,\r\n",
        "                                                                  rotation_range=30,\r\n",
        "                                                              \r\n",
        "                                                                  zoom_range=0.2,\r\n",
        "                                                                  horizontal_flip=True,\r\n",
        "                                                                  \r\n",
        "                                                                  fill_mode='nearest',\r\n",
        "                                                                  )\r\n",
        "\r\n",
        "#For Validation Data\r\n",
        "validation_generator = tf.keras.preprocessing.image.ImageDataGenerator(rescale= 1.0/255.)"
      ],
      "execution_count": 3,
      "outputs": []
    },
    {
      "cell_type": "code",
      "metadata": {
        "colab": {
          "base_uri": "https://localhost:8080/"
        },
        "id": "mOVjpdYinlyh",
        "outputId": "70302a67-1f90-4489-ba0c-d5c6280921ac"
      },
      "source": [
        "#Pass set of images to the generator to generate compatible images for CNN\r\n",
        "trainImageData = train_generator.flow_from_directory(\"/content/drive/MyDrive/ADLCV/Day_2/cats_and_dogs_filtered/train/\",\r\n",
        "                                                     batch_size=32,\r\n",
        "                                                     class_mode='binary',\r\n",
        "                                                     target_size=(128,128))\r\n",
        "\r\n",
        "validationImageData = train_generator.flow_from_directory(\"/content/drive/MyDrive/ADLCV/Day_2/cats_and_dogs_filtered/validation/\",\r\n",
        "                                                          batch_size=32,\r\n",
        "                                                     class_mode='binary',\r\n",
        "                                                     target_size=(128,128))"
      ],
      "execution_count": 4,
      "outputs": [
        {
          "output_type": "stream",
          "text": [
            "Found 2000 images belonging to 2 classes.\n",
            "Found 1000 images belonging to 2 classes.\n"
          ],
          "name": "stdout"
        }
      ]
    },
    {
      "cell_type": "code",
      "metadata": {
        "id": "gQaVeTphnqoJ"
      },
      "source": [
        "#Architect your CNN Model\r\n",
        "\r\n",
        "model = tf.keras.models.Sequential()\r\n",
        "\r\n",
        "#Step1: Create  First Convolution Layer\r\n",
        "# Conv1D --- Sound/Mp3/Text\r\n",
        "# Conv2D --- Image/Image Set\r\n",
        "# Conv3D --- Movies/Mp4\r\n",
        "\r\n",
        "#Create Convolve Layer\r\n",
        "# Conv2D(No_Of_filters,Size_of_Filter, input_shape)\r\n",
        "# Suggestions/Best Practices by Prashant Nair\r\n",
        "# 1. Filters ----> Choose Boolean Algebra Compatible Values like 1,2,4,8,16,32,64,128,256,512\r\n",
        "# 2. Size_of_Filter ---> If Data Size below 10GB --> (3,3) If betn 10GB - 100G --> (4,4) , Above 100G --> (5,5)\r\n",
        "# 3. Input Shape ---> Suggested go 64,64 ; 128,128 ; 256,256 ; 512,512\r\n",
        "\r\n",
        "model.add(tf.keras.layers.Conv2D(128, (3,3) , input_shape=(128,128,3) ,activation='relu', padding='same', strides=(1,1)))\r\n",
        "model.add(tf.keras.layers.MaxPooling2D(pool_size=(2,2)))\r\n",
        "model.add(tf.keras.layers.Dropout(0.2))\r\n",
        "#model.add(tf.keras.layers.AveragePooling2D(pool_size=(2,2)))\r\n",
        "\r\n",
        "#Step2: Create  Second Convolution Layer\r\n",
        "model.add(tf.keras.layers.Conv2D(64, (3,3) , input_shape=(128,128,3) ,activation='relu', padding='same', strides=(1,1)))\r\n",
        "model.add(tf.keras.layers.MaxPooling2D(pool_size=(2,2)))\r\n",
        "model.add(tf.keras.layers.Dropout(0.2))\r\n",
        "\r\n",
        "#Step2: Create  Third Convolution Layer\r\n",
        "model.add(tf.keras.layers.Conv2D(32, (3,3) , input_shape=(128,128,3) ,activation='relu', padding='same', strides=(1,1)))\r\n",
        "model.add(tf.keras.layers.MaxPooling2D(pool_size=(2,2)))\r\n",
        "model.add(tf.keras.layers.Dropout(0.2))\r\n",
        "\r\n",
        "#Step2: Create fourth Convolution Layer\r\n",
        "model.add(tf.keras.layers.Conv2D(16, (3,3) , input_shape=(128,128,3) ,activation='relu', padding='same', strides=(1,1)))\r\n",
        "model.add(tf.keras.layers.MaxPooling2D(pool_size=(2,2)))\r\n",
        "model.add(tf.keras.layers.Dropout(0.2))\r\n",
        "#Step3: Flatten\r\n",
        "model.add(tf.keras.layers.Flatten())\r\n",
        "\r\n",
        "#Step4: FC Layer/ANN\r\n",
        "model.add(tf.keras.layers.Dense(units=128, activation='relu'))\r\n",
        "model.add(tf.keras.layers.Dropout(0.2))\r\n",
        "model.add(tf.keras.layers.Dense(units=64, activation='relu'))\r\n",
        "model.add(tf.keras.layers.Dropout(0.2))\r\n",
        "model.add(tf.keras.layers.Dense(units=16, activation='relu'))\r\n",
        "model.add(tf.keras.layers.Dropout(0.2))\r\n",
        "\r\n",
        "model.add(tf.keras.layers.Dense(units=1, activation='sigmoid'))\r\n",
        "\r\n"
      ],
      "execution_count": 40,
      "outputs": []
    },
    {
      "cell_type": "code",
      "metadata": {
        "colab": {
          "base_uri": "https://localhost:8080/"
        },
        "id": "Ca7T2ExNnwm5",
        "outputId": "d6bf73ea-1c21-49b1-a5cd-5f9b1e971c86"
      },
      "source": [
        "model.summary()"
      ],
      "execution_count": 41,
      "outputs": [
        {
          "output_type": "stream",
          "text": [
            "Model: \"sequential_5\"\n",
            "_________________________________________________________________\n",
            "Layer (type)                 Output Shape              Param #   \n",
            "=================================================================\n",
            "conv2d_20 (Conv2D)           (None, 128, 128, 128)     3584      \n",
            "_________________________________________________________________\n",
            "max_pooling2d_20 (MaxPooling (None, 64, 64, 128)       0         \n",
            "_________________________________________________________________\n",
            "dropout_35 (Dropout)         (None, 64, 64, 128)       0         \n",
            "_________________________________________________________________\n",
            "conv2d_21 (Conv2D)           (None, 64, 64, 64)        73792     \n",
            "_________________________________________________________________\n",
            "max_pooling2d_21 (MaxPooling (None, 32, 32, 64)        0         \n",
            "_________________________________________________________________\n",
            "dropout_36 (Dropout)         (None, 32, 32, 64)        0         \n",
            "_________________________________________________________________\n",
            "conv2d_22 (Conv2D)           (None, 32, 32, 32)        18464     \n",
            "_________________________________________________________________\n",
            "max_pooling2d_22 (MaxPooling (None, 16, 16, 32)        0         \n",
            "_________________________________________________________________\n",
            "dropout_37 (Dropout)         (None, 16, 16, 32)        0         \n",
            "_________________________________________________________________\n",
            "conv2d_23 (Conv2D)           (None, 16, 16, 16)        4624      \n",
            "_________________________________________________________________\n",
            "max_pooling2d_23 (MaxPooling (None, 8, 8, 16)          0         \n",
            "_________________________________________________________________\n",
            "dropout_38 (Dropout)         (None, 8, 8, 16)          0         \n",
            "_________________________________________________________________\n",
            "flatten_5 (Flatten)          (None, 1024)              0         \n",
            "_________________________________________________________________\n",
            "dense_20 (Dense)             (None, 128)               131200    \n",
            "_________________________________________________________________\n",
            "dropout_39 (Dropout)         (None, 128)               0         \n",
            "_________________________________________________________________\n",
            "dense_21 (Dense)             (None, 64)                8256      \n",
            "_________________________________________________________________\n",
            "dropout_40 (Dropout)         (None, 64)                0         \n",
            "_________________________________________________________________\n",
            "dense_22 (Dense)             (None, 16)                1040      \n",
            "_________________________________________________________________\n",
            "dropout_41 (Dropout)         (None, 16)                0         \n",
            "_________________________________________________________________\n",
            "dense_23 (Dense)             (None, 1)                 17        \n",
            "=================================================================\n",
            "Total params: 240,977\n",
            "Trainable params: 240,977\n",
            "Non-trainable params: 0\n",
            "_________________________________________________________________\n"
          ],
          "name": "stdout"
        }
      ]
    },
    {
      "cell_type": "code",
      "metadata": {
        "id": "pcA7ml0In0Jy"
      },
      "source": [
        "#Compile\r\n",
        "\r\n",
        "model.compile(optimizer='adam',\r\n",
        "            \r\n",
        "              loss='binary_crossentropy',\r\n",
        "              metrics=['accuracy'])"
      ],
      "execution_count": 42,
      "outputs": []
    },
    {
      "cell_type": "code",
      "metadata": {
        "colab": {
          "base_uri": "https://localhost:8080/"
        },
        "id": "pMhEvqOun6Fi",
        "outputId": "76d71d20-89ea-46b0-c4e6-a9bbd19460fa"
      },
      "source": [
        "#Fit\r\n",
        "history = model.fit(x = trainImageData,\r\n",
        "                    validation_data=validationImageData,\r\n",
        "                    epochs = 10,\r\n",
        "                    steps_per_epoch= len(trainImageData.filenames)/trainImageData.batch_size, #No_Of_Images/batch_size)\r\n",
        "                    validation_steps =len(validationImageData.filenames)/validationImageData.batch_size )"
      ],
      "execution_count": 47,
      "outputs": [
        {
          "output_type": "stream",
          "text": [
            "Epoch 1/10\n",
            "62/62 [==============================] - 20s 317ms/step - loss: 0.3810 - accuracy: 0.8265 - val_loss: 0.5338 - val_accuracy: 0.7600\n",
            "Epoch 2/10\n",
            "62/62 [==============================] - 20s 317ms/step - loss: 0.3666 - accuracy: 0.8350 - val_loss: 0.5063 - val_accuracy: 0.7740\n",
            "Epoch 3/10\n",
            "62/62 [==============================] - 19s 311ms/step - loss: 0.3729 - accuracy: 0.8400 - val_loss: 0.4985 - val_accuracy: 0.7630\n",
            "Epoch 4/10\n",
            "62/62 [==============================] - 19s 313ms/step - loss: 0.3803 - accuracy: 0.8365 - val_loss: 0.5500 - val_accuracy: 0.7560\n",
            "Epoch 5/10\n",
            "62/62 [==============================] - 20s 315ms/step - loss: 0.3961 - accuracy: 0.8190 - val_loss: 0.5042 - val_accuracy: 0.7700\n",
            "Epoch 6/10\n",
            "62/62 [==============================] - 19s 312ms/step - loss: 0.3748 - accuracy: 0.8320 - val_loss: 0.5314 - val_accuracy: 0.7550\n",
            "Epoch 7/10\n",
            "62/62 [==============================] - 20s 313ms/step - loss: 0.3859 - accuracy: 0.8320 - val_loss: 0.4981 - val_accuracy: 0.7640\n",
            "Epoch 8/10\n",
            "62/62 [==============================] - 19s 313ms/step - loss: 0.3573 - accuracy: 0.8470 - val_loss: 0.5406 - val_accuracy: 0.7410\n",
            "Epoch 9/10\n",
            "62/62 [==============================] - 20s 314ms/step - loss: 0.3689 - accuracy: 0.8440 - val_loss: 0.5212 - val_accuracy: 0.7740\n",
            "Epoch 10/10\n",
            "62/62 [==============================] - 19s 311ms/step - loss: 0.3516 - accuracy: 0.8415 - val_loss: 0.4895 - val_accuracy: 0.7830\n"
          ],
          "name": "stdout"
        }
      ]
    },
    {
      "cell_type": "code",
      "metadata": {
        "colab": {
          "base_uri": "https://localhost:8080/"
        },
        "id": "NpaoU2EutjM0",
        "outputId": "a529007d-9982-41b0-a94e-d216239feb43"
      },
      "source": [
        "history_2=model.save(\"/content/drive/My Drive/ADLCV/Day_2/\")"
      ],
      "execution_count": 48,
      "outputs": [
        {
          "output_type": "stream",
          "text": [
            "INFO:tensorflow:Assets written to: /content/drive/My Drive/ADLCV/Day_2/assets\n"
          ],
          "name": "stdout"
        }
      ]
    },
    {
      "cell_type": "code",
      "metadata": {
        "id": "327j7cSiXdvs"
      },
      "source": [
        "img=tf.keras.preprocessing.image.load_img(\"/content/drive/MyDrive/ADLCV/Day_2/cats_and_dogs_filtered/train/dogs/dog.107.jpg\", target_size=(128,128))"
      ],
      "execution_count": 19,
      "outputs": []
    },
    {
      "cell_type": "code",
      "metadata": {
        "id": "szBIYTWaapqJ"
      },
      "source": [
        "img_array=tf.keras.preprocessing.image.img_to_array(img)\r\n",
        "import numpy as np\r\n",
        "imgexpanded=np.expand_dims(img_array,axis=0)"
      ],
      "execution_count": 20,
      "outputs": []
    },
    {
      "cell_type": "code",
      "metadata": {
        "colab": {
          "base_uri": "https://localhost:8080/"
        },
        "id": "TjBZqsjBbEKc",
        "outputId": "c112fef5-9117-476f-f12f-d19f371be212"
      },
      "source": [
        "if (model.predict_classes(imgexpanded))==0:\r\n",
        "  print(\"it's cat\")\r\n",
        "else:\r\n",
        "  print(\"it's dog\")"
      ],
      "execution_count": 22,
      "outputs": [
        {
          "output_type": "stream",
          "text": [
            "it's dog\n"
          ],
          "name": "stdout"
        },
        {
          "output_type": "stream",
          "text": [
            "/usr/local/lib/python3.6/dist-packages/tensorflow/python/keras/engine/sequential.py:450: UserWarning: `model.predict_classes()` is deprecated and will be removed after 2021-01-01. Please use instead:* `np.argmax(model.predict(x), axis=-1)`,   if your model does multi-class classification   (e.g. if it uses a `softmax` last-layer activation).* `(model.predict(x) > 0.5).astype(\"int32\")`,   if your model does binary classification   (e.g. if it uses a `sigmoid` last-layer activation).\n",
            "  warnings.warn('`model.predict_classes()` is deprecated and '\n"
          ],
          "name": "stderr"
        }
      ]
    }
  ]
}