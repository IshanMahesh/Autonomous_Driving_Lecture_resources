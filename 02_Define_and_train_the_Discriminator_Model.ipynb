{
  "nbformat": 4,
  "nbformat_minor": 0,
  "metadata": {
    "kernelspec": {
      "display_name": "Python 3",
      "language": "python",
      "name": "python3"
    },
    "language_info": {
      "codemirror_mode": {
        "name": "ipython",
        "version": 3
      },
      "file_extension": ".py",
      "mimetype": "text/x-python",
      "name": "python",
      "nbconvert_exporter": "python",
      "pygments_lexer": "ipython3",
      "version": "3.7.0"
    },
    "colab": {
      "name": "02 - Define and train the Discriminator Model.ipynb",
      "provenance": [],
      "include_colab_link": true
    }
  },
  "cells": [
    {
      "cell_type": "markdown",
      "metadata": {
        "id": "view-in-github",
        "colab_type": "text"
      },
      "source": [
        "<a href=\"https://colab.research.google.com/github/Mayakshanesht/Autonomous_Driving_Lecture_resources/blob/Perception/02_Define_and_train_the_Discriminator_Model.ipynb\" target=\"_parent\"><img src=\"https://colab.research.google.com/assets/colab-badge.svg\" alt=\"Open In Colab\"/></a>"
      ]
    },
    {
      "cell_type": "markdown",
      "metadata": {
        "id": "SF5ECYn_VDJj"
      },
      "source": [
        "# Importing the libraries"
      ]
    },
    {
      "cell_type": "code",
      "metadata": {
        "id": "tbaeb1B6VDJl"
      },
      "source": [
        "import tensorflow as tf\n",
        "import keras\n",
        "import numpy as np"
      ],
      "execution_count": 9,
      "outputs": []
    },
    {
      "cell_type": "markdown",
      "metadata": {
        "id": "PTnpMbncVDJm"
      },
      "source": [
        "# Defining the discriminator"
      ]
    },
    {
      "cell_type": "code",
      "metadata": {
        "id": "fo_yxN65VDJn"
      },
      "source": [
        "def define_discriminator(in_shape= (28, 28, 1)):\n",
        "    model = keras.models.Sequential()\n",
        "    model.add(keras.layers.Conv2D(filters= 64,\n",
        "                                  input_shape= in_shape,\n",
        "                                  kernel_size= (3, 3),\n",
        "                                  strides= (2, 2),\n",
        "                                  kernel_initializer= 'he_uniform',\n",
        "                                  padding= 'same'))\n",
        "    model.add(keras.layers.LeakyReLU())\n",
        "    model.add(keras.layers.Dropout(0.5))\n",
        "    model.add(keras.layers.Conv2D(filters= 64,\n",
        "                                  kernel_size= (3, 3),\n",
        "                                  strides= (2, 2),\n",
        "                                  kernel_initializer= 'he_uniform',\n",
        "                                  padding= 'same'))\n",
        "    model.add(keras.layers.LeakyReLU())\n",
        "    model.add(keras.layers.Dropout(0.4))\n",
        "    model.add(keras.layers.Flatten())\n",
        "    model.add(keras.layers.Dense(1, activation= 'sigmoid'))\n",
        "    \n",
        "    #opt = keras.optimizers.adam(learning_rate= 0.0002, beta_1= 0.5)\n",
        "    model.compile(loss= 'binary_crossentropy',\n",
        "                  optimizer= 'adam',\n",
        "                  metrics= ['accuracy'])\n",
        "    \n",
        "    return model"
      ],
      "execution_count": 18,
      "outputs": []
    },
    {
      "cell_type": "code",
      "metadata": {
        "id": "PrQNPuI1VDJn",
        "outputId": "978e53c8-e186-46f2-cd61-19510320f3da",
        "colab": {
          "base_uri": "https://localhost:8080/"
        }
      },
      "source": [
        "model = define_discriminator()\n",
        "model.summary()"
      ],
      "execution_count": 19,
      "outputs": [
        {
          "output_type": "stream",
          "text": [
            "Model: \"sequential_6\"\n",
            "_________________________________________________________________\n",
            "Layer (type)                 Output Shape              Param #   \n",
            "=================================================================\n",
            "conv2d_12 (Conv2D)           (None, 14, 14, 64)        640       \n",
            "_________________________________________________________________\n",
            "leaky_re_lu_12 (LeakyReLU)   (None, 14, 14, 64)        0         \n",
            "_________________________________________________________________\n",
            "dropout_12 (Dropout)         (None, 14, 14, 64)        0         \n",
            "_________________________________________________________________\n",
            "conv2d_13 (Conv2D)           (None, 7, 7, 64)          36928     \n",
            "_________________________________________________________________\n",
            "leaky_re_lu_13 (LeakyReLU)   (None, 7, 7, 64)          0         \n",
            "_________________________________________________________________\n",
            "dropout_13 (Dropout)         (None, 7, 7, 64)          0         \n",
            "_________________________________________________________________\n",
            "flatten_6 (Flatten)          (None, 3136)              0         \n",
            "_________________________________________________________________\n",
            "dense_6 (Dense)              (None, 1)                 3137      \n",
            "=================================================================\n",
            "Total params: 40,705\n",
            "Trainable params: 40,705\n",
            "Non-trainable params: 0\n",
            "_________________________________________________________________\n"
          ],
          "name": "stdout"
        }
      ]
    },
    {
      "cell_type": "markdown",
      "metadata": {
        "id": "OG0c8cKZVDJo"
      },
      "source": [
        "# Generating the data"
      ]
    },
    {
      "cell_type": "code",
      "metadata": {
        "id": "c0-jvzCjVDJo"
      },
      "source": [
        "def load_data():\n",
        "    (X_train, y_train), (X_test, y_test) = keras.datasets.mnist.load_data()\n",
        "    X_train = np.expand_dims(X_train, axis= -1).astype('float32') / 255.0\n",
        "    return X_train"
      ],
      "execution_count": 20,
      "outputs": []
    },
    {
      "cell_type": "code",
      "metadata": {
        "id": "CJkqv36tVDJp"
      },
      "source": [
        "def generate_real_example(n_samples):\n",
        "    dataset = load_data()\n",
        "    ix = np.random.randint(0, dataset.shape[0], n_samples)\n",
        "    X = dataset[ix]\n",
        "    y = np.ones((n_samples, 1))\n",
        "    return X, y"
      ],
      "execution_count": 21,
      "outputs": []
    },
    {
      "cell_type": "code",
      "metadata": {
        "id": "gDwcDisvVDJp"
      },
      "source": [
        "def generate_fake_examples(n_samples):\n",
        "    X = np.random.rand(28 * 28 * n_samples)\n",
        "    X = X.reshape((n_samples, 28, 28, 1))\n",
        "    y = np.zeros((n_samples, 1))\n",
        "    return X, y"
      ],
      "execution_count": 23,
      "outputs": []
    },
    {
      "cell_type": "markdown",
      "metadata": {
        "id": "nbms5TWQVDJq"
      },
      "source": [
        "## Train Synthesizer"
      ]
    },
    {
      "cell_type": "code",
      "metadata": {
        "id": "9H8fRi3_VDJq"
      },
      "source": [
        "def train_dis(model, batch_size= 128, n_iter= 100):\n",
        "    half_batch = int(batch_size / 2)\n",
        "    \n",
        "    for i in range(n_iter):\n",
        "        X_real, y_real = generate_real_example(half_batch)\n",
        "        X_fake, y_fake = generate_fake_examples(half_batch)\n",
        "        \n",
        "        model.train_on_batch(X_real, y_real)\n",
        "        model.train_on_batch(X_fake, y_fake)"
      ],
      "execution_count": 25,
      "outputs": []
    },
    {
      "cell_type": "markdown",
      "metadata": {
        "id": "S5FhSxNhVDJr"
      },
      "source": [
        "## Training the model"
      ]
    },
    {
      "cell_type": "code",
      "metadata": {
        "id": "044e3nuzVDJr",
        "outputId": "a1ab4359-bf3b-4918-d384-96e124b38042",
        "colab": {
          "base_uri": "https://localhost:8080/"
        }
      },
      "source": [
        "model = define_discriminator()\n",
        "train_dis(model= model)"
      ],
      "execution_count": 26,
      "outputs": [
        {
          "output_type": "stream",
          "text": [
            "Downloading data from https://storage.googleapis.com/tensorflow/tf-keras-datasets/mnist.npz\n",
            "11493376/11490434 [==============================] - 0s 0us/step\n"
          ],
          "name": "stdout"
        }
      ]
    },
    {
      "cell_type": "markdown",
      "metadata": {
        "id": "VcVfRkDsVDJs"
      },
      "source": [
        "# Evaluating the model"
      ]
    },
    {
      "cell_type": "code",
      "metadata": {
        "id": "lH6DZ7izVDJs",
        "outputId": "db981f7b-d04d-497f-aba4-4174283e5e7a",
        "colab": {
          "base_uri": "https://localhost:8080/"
        }
      },
      "source": [
        "X_real, y_real = generate_real_example(64)\n",
        "X_fake, y_fake = generate_fake_examples(64)\n",
        "\n",
        "print('Fake data', model.evaluate(X_fake, y_fake, verbose= 0))\n",
        "print('Real Data', model.evaluate(X_real, y_real, verbose= 0))"
      ],
      "execution_count": 27,
      "outputs": [
        {
          "output_type": "stream",
          "text": [
            "Fake data [1.4666251445305534e-05, 1.0]\n",
            "Real Data [0.00040300076943822205, 1.0]\n"
          ],
          "name": "stdout"
        }
      ]
    }
  ]
}