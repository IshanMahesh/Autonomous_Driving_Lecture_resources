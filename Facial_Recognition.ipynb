{
  "nbformat": 4,
  "nbformat_minor": 0,
  "metadata": {
    "colab": {
      "name": "Facial_Recognition.ipynb",
      "provenance": [],
      "authorship_tag": "ABX9TyPmWsAQ4FQ3KcP538CJVDBJ",
      "include_colab_link": true
    },
    "kernelspec": {
      "name": "python3",
      "display_name": "Python 3"
    },
    "accelerator": "GPU"
  },
  "cells": [
    {
      "cell_type": "markdown",
      "metadata": {
        "id": "view-in-github",
        "colab_type": "text"
      },
      "source": [
        "<a href=\"https://colab.research.google.com/github/Mayakshanesht/Autonomous_Driving_Lecture_resources/blob/Perception/Facial_Recognition.ipynb\" target=\"_parent\"><img src=\"https://colab.research.google.com/assets/colab-badge.svg\" alt=\"Open In Colab\"/></a>"
      ]
    },
    {
      "cell_type": "code",
      "metadata": {
        "id": "zBkS3wWzYo3p"
      },
      "source": [
        "#Import relevant libraries\r\n",
        "import numpy as np\r\n",
        "import tensorflow as tf"
      ],
      "execution_count": 23,
      "outputs": []
    },
    {
      "cell_type": "code",
      "metadata": {
        "colab": {
          "base_uri": "https://localhost:8080/"
        },
        "id": "mweQwsT5ZI0o",
        "outputId": "63cada26-a742-4a20-c372-3d35a22506bc"
      },
      "source": [
        "# load data\r\n",
        "data=np.load(\"ORL_faces.npz\")\r\n",
        "data.files\r\n",
        "  "
      ],
      "execution_count": 24,
      "outputs": [
        {
          "output_type": "execute_result",
          "data": {
            "text/plain": [
              "['testY', 'testX', 'trainX', 'trainY']"
            ]
          },
          "metadata": {
            "tags": []
          },
          "execution_count": 24
        }
      ]
    },
    {
      "cell_type": "code",
      "metadata": {
        "id": "kruHw4AQeBYc"
      },
      "source": [
        "# Split the dataset\r\n",
        "train_examples = data['trainX']\r\n",
        "train_labels = data['trainY']\r\n",
        "test_examples = data['testX']\r\n",
        "test_labels = data['testY']\r\n"
      ],
      "execution_count": 25,
      "outputs": []
    },
    {
      "cell_type": "code",
      "metadata": {
        "id": "NvQF2mctjuTu"
      },
      "source": [
        "# Normaliza Training and testing data\r\n",
        "train_examples.shape\r\n",
        "train_examples_reshaped=train_examples.reshape(240,112,92)\r\n",
        "train_examples_normalized=np.array(train_examples_reshaped/255)\r\n",
        "train_examples_reshaped1=np.expand_dims(train_examples_normalized,axis=0)\r\n",
        "train_examples_normalized1=train_examples_reshaped1.reshape(240,112,92,1)\r\n",
        "\r\n"
      ],
      "execution_count": 26,
      "outputs": []
    },
    {
      "cell_type": "code",
      "metadata": {
        "id": "dtAPfVzMlFiM"
      },
      "source": [
        "test_examples.shape\r\n",
        "test_examples_reshaped=test_examples.reshape(160,112,92)\r\n",
        "test_examples_normalized=np.array(test_examples_reshaped/255)\r\n",
        "test_examples_reshaped1=np.expand_dims(test_examples_normalized,axis=0)\r\n",
        "test_examples_normalized1=test_examples_reshaped1.reshape(160,112,92,1)"
      ],
      "execution_count": 27,
      "outputs": []
    },
    {
      "cell_type": "code",
      "metadata": {
        "id": "HygGjkuGDcpk",
        "colab": {
          "base_uri": "https://localhost:8080/"
        },
        "outputId": "79c2f4bb-642d-4088-e172-4a8bd9bbd113"
      },
      "source": [
        "train_examples_normalized1.shape"
      ],
      "execution_count": 28,
      "outputs": [
        {
          "output_type": "execute_result",
          "data": {
            "text/plain": [
              "(240, 112, 92, 1)"
            ]
          },
          "metadata": {
            "tags": []
          },
          "execution_count": 28
        }
      ]
    },
    {
      "cell_type": "code",
      "metadata": {
        "id": "jguvu9jRGbOz",
        "colab": {
          "base_uri": "https://localhost:8080/"
        },
        "outputId": "db7d6da4-87d4-4999-f1fc-0e53df8f1581"
      },
      "source": [
        "train_labels"
      ],
      "execution_count": 29,
      "outputs": [
        {
          "output_type": "execute_result",
          "data": {
            "text/plain": [
              "array([ 0,  0,  0,  0,  0,  0,  0,  0,  0,  0,  0,  0,  1,  1,  1,  1,  1,\n",
              "        1,  1,  1,  1,  1,  1,  1,  2,  2,  2,  2,  2,  2,  2,  2,  2,  2,\n",
              "        2,  2,  3,  3,  3,  3,  3,  3,  3,  3,  3,  3,  3,  3,  4,  4,  4,\n",
              "        4,  4,  4,  4,  4,  4,  4,  4,  4,  5,  5,  5,  5,  5,  5,  5,  5,\n",
              "        5,  5,  5,  5,  6,  6,  6,  6,  6,  6,  6,  6,  6,  6,  6,  6,  7,\n",
              "        7,  7,  7,  7,  7,  7,  7,  7,  7,  7,  7,  8,  8,  8,  8,  8,  8,\n",
              "        8,  8,  8,  8,  8,  8,  9,  9,  9,  9,  9,  9,  9,  9,  9,  9,  9,\n",
              "        9, 10, 10, 10, 10, 10, 10, 10, 10, 10, 10, 10, 10, 11, 11, 11, 11,\n",
              "       11, 11, 11, 11, 11, 11, 11, 11, 12, 12, 12, 12, 12, 12, 12, 12, 12,\n",
              "       12, 12, 12, 13, 13, 13, 13, 13, 13, 13, 13, 13, 13, 13, 13, 14, 14,\n",
              "       14, 14, 14, 14, 14, 14, 14, 14, 14, 14, 15, 15, 15, 15, 15, 15, 15,\n",
              "       15, 15, 15, 15, 15, 16, 16, 16, 16, 16, 16, 16, 16, 16, 16, 16, 16,\n",
              "       17, 17, 17, 17, 17, 17, 17, 17, 17, 17, 17, 17, 18, 18, 18, 18, 18,\n",
              "       18, 18, 18, 18, 18, 18, 18, 19, 19, 19, 19, 19, 19, 19, 19, 19, 19,\n",
              "       19, 19], dtype=uint8)"
            ]
          },
          "metadata": {
            "tags": []
          },
          "execution_count": 29
        }
      ]
    },
    {
      "cell_type": "code",
      "metadata": {
        "id": "HrI-lAjJP6bq"
      },
      "source": [
        "# One hot coding of output labels \r\n",
        "from sklearn.preprocessing import LabelBinarizer\r\n",
        "label_binarizer=LabelBinarizer()\r\n",
        "train_labels_hotcode=label_binarizer.fit_transform(train_labels)"
      ],
      "execution_count": 30,
      "outputs": []
    },
    {
      "cell_type": "code",
      "metadata": {
        "id": "8gldPqTVY75A"
      },
      "source": [
        "test_labels_hotcode=label_binarizer.fit_transform(test_labels)"
      ],
      "execution_count": 31,
      "outputs": []
    },
    {
      "cell_type": "code",
      "metadata": {
        "id": "9awok29USv46",
        "colab": {
          "base_uri": "https://localhost:8080/"
        },
        "outputId": "c685b1a5-bde3-4bc5-ead5-4ff9c1b15cda"
      },
      "source": [
        "train_labels_hotcode.shape"
      ],
      "execution_count": 32,
      "outputs": [
        {
          "output_type": "execute_result",
          "data": {
            "text/plain": [
              "(240, 20)"
            ]
          },
          "metadata": {
            "tags": []
          },
          "execution_count": 32
        }
      ]
    },
    {
      "cell_type": "code",
      "metadata": {
        "colab": {
          "base_uri": "https://localhost:8080/",
          "height": 285
        },
        "id": "fBqa-etUnPzQ",
        "outputId": "20b62ed3-fd85-43b0-acd6-25f3e6649d52"
      },
      "source": [
        "import matplotlib.pyplot as plt\r\n",
        "plt.imshow(train_examples_normalized[0])"
      ],
      "execution_count": 33,
      "outputs": [
        {
          "output_type": "execute_result",
          "data": {
            "text/plain": [
              "<matplotlib.image.AxesImage at 0x7fa45a349e50>"
            ]
          },
          "metadata": {
            "tags": []
          },
          "execution_count": 33
        },
        {
          "output_type": "display_data",
          "data": {
            "image/png": "[encoded data removed]",
            "text/plain": [
              "<Figure size 432x288 with 1 Axes>"
            ]
          },
          "metadata": {
            "tags": [],
            "needs_background": "light"
          }
        }
      ]
    },
    {
      "cell_type": "code",
      "metadata": {
        "id": "txJKnd0WCr54"
      },
      "source": [
        "#Architect your CNN Model\r\n",
        "\r\n",
        "model = tf.keras.models.Sequential()\r\n",
        "\r\n",
        "#Step1: Create  First Convolution Layer\r\n",
        "# Conv1D --- Sound/Mp3/Text\r\n",
        "# Conv2D --- Image/Image Set\r\n",
        "# Conv3D --- Movies/Mp4\r\n",
        "\r\n",
        "#Create Convolve Layer\r\n",
        "# Conv2D(No_Of_filters,Size_of_Filter, input_shape)\r\n",
        "\r\n",
        "# 1. Filters ----> Choose Boolean Algebra Compatible Values like 1,2,4,8,16,32,64,128,256,512\r\n",
        "# 2. Size_of_Filter ---> If Data Size below 10GB --> (3,3) If betn 10GB - 100G --> (4,4) , Above 100G --> (5,5)\r\n",
        "# 3. Input Shape ---> Suggested go 64,64 ; 128,128 ; 256,256 ; 512,512\r\n",
        "\r\n",
        "model.add(tf.keras.layers.Conv2D(128, (3,3) , input_shape=(112,92,1) ,use_bias=False, padding='same', strides=(1,1)))\r\n",
        "#model.add(layers.Conv2D(64, (3, 3), use_bias=False))\r\n",
        "model.add(tf.keras.layers.BatchNormalization())\r\n",
        "model.add(tf.keras.layers.Activation(\"relu\"))\r\n",
        "model.add(tf.keras.layers.MaxPooling2D(pool_size=(2,2)))\r\n",
        "#model.add(tf.keras.layers.Dropout(0.2))\r\n",
        "#model.add(tf.keras.layers.AveragePooling2D(pool_size=(2,2)))\r\n",
        "\r\n",
        "#Step2: Create  Second Convolution Layer\r\n",
        "\r\n",
        "model.add(tf.keras.layers.Conv2D(64, (3,3) , input_shape=(112,92,1) ,use_bias=False, padding='same', strides=(1,1)))\r\n",
        "#model.add(layers.Conv2D(64, (3, 3), use_bias=False))\r\n",
        "model.add(tf.keras.layers.BatchNormalization())\r\n",
        "model.add(tf.keras.layers.Activation(\"relu\"))\r\n",
        "model.add(tf.keras.layers.MaxPooling2D(pool_size=(2,2)))\r\n",
        "#model.add(tf.keras.layers.Conv2D(64, (3,3) , input_shape=(128,128,3) ,activation='relu', padding='same', strides=(1,1)))\r\n",
        "#model.add(tf.keras.layers.MaxPooling2D(pool_size=(2,2)))\r\n",
        "#model.add(tf.keras.layers.Dropout(0.2))\r\n",
        "\r\n",
        "#Step2: Create  Third Convolution Layer\r\n",
        "\r\n",
        "model.add(tf.keras.layers.Conv2D(32, (3,3) , input_shape=(112,92,1) ,use_bias=False, padding='same', strides=(1,1)))\r\n",
        "#model.add(layers.Conv2D(64, (3, 3), use_bias=False))\r\n",
        "model.add(tf.keras.layers.BatchNormalization())\r\n",
        "model.add(tf.keras.layers.Activation(\"relu\"))\r\n",
        "model.add(tf.keras.layers.MaxPooling2D(pool_size=(2,2)))\r\n",
        "#model.add(tf.keras.layers.Conv2D(32, (3,3) , input_shape=(128,128,3) ,activation='relu', padding='same', strides=(1,1)))\r\n",
        "#model.add(tf.keras.layers.MaxPooling2D(pool_size=(2,2)))\r\n",
        "#model.add(tf.keras.layers.Dropout(0.2))\r\n",
        "\r\n",
        "#Step2: Create fourth Convolution Layer\r\n",
        "model.add(tf.keras.layers.Conv2D(16, (3,3) , input_shape=(112,92,1) ,use_bias=False, padding='same', strides=(1,1)))\r\n",
        "#model.add(layers.Conv2D(64, (3, 3), use_bias=False))\r\n",
        "model.add(tf.keras.layers.BatchNormalization())\r\n",
        "model.add(tf.keras.layers.Activation(\"relu\"))\r\n",
        "model.add(tf.keras.layers.MaxPooling2D(pool_size=(2,2)))\r\n",
        "#model.add(tf.keras.layers.Conv2D(16, (3,3) , input_shape=(128,128,3) ,activation='relu', padding='same', strides=(1,1)))\r\n",
        "#model.add(tf.keras.layers.MaxPooling2D(pool_size=(2,2)))\r\n",
        "#model.add(tf.keras.layers.Dropout(0.2))\r\n",
        "#Step3: Flatten\r\n",
        "model.add(tf.keras.layers.Flatten())\r\n",
        "\r\n",
        "#Step4: FC Layer/ANN\r\n",
        "model.add(tf.keras.layers.Dense(units=128, activation='relu'))\r\n",
        "model.add(tf.keras.layers.Dropout(0.2))\r\n",
        "model.add(tf.keras.layers.Dense(units=64, activation='relu'))\r\n",
        "model.add(tf.keras.layers.Dropout(0.2))\r\n",
        "model.add(tf.keras.layers.Dense(units=16, activation='relu'))\r\n",
        "model.add(tf.keras.layers.Dropout(0.2))\r\n",
        "\r\n",
        "model.add(tf.keras.layers.Dense(units=20, activation='softmax'))"
      ],
      "execution_count": 34,
      "outputs": []
    },
    {
      "cell_type": "code",
      "metadata": {
        "id": "VfgzCfigEtdD",
        "colab": {
          "base_uri": "https://localhost:8080/"
        },
        "outputId": "97159c3c-8cbb-47b1-9090-3b68ba131d7c"
      },
      "source": [
        "model.summary()"
      ],
      "execution_count": 35,
      "outputs": [
        {
          "output_type": "stream",
          "text": [
            "Model: \"sequential_2\"\n",
            "_________________________________________________________________\n",
            "Layer (type)                 Output Shape              Param #   \n",
            "=================================================================\n",
            "conv2d_8 (Conv2D)            (None, 112, 92, 128)      1152      \n",
            "_________________________________________________________________\n",
            "batch_normalization_8 (Batch (None, 112, 92, 128)      512       \n",
            "_________________________________________________________________\n",
            "activation_8 (Activation)    (None, 112, 92, 128)      0         \n",
            "_________________________________________________________________\n",
            "max_pooling2d_8 (MaxPooling2 (None, 56, 46, 128)       0         \n",
            "_________________________________________________________________\n",
            "conv2d_9 (Conv2D)            (None, 56, 46, 64)        73728     \n",
            "_________________________________________________________________\n",
            "batch_normalization_9 (Batch (None, 56, 46, 64)        256       \n",
            "_________________________________________________________________\n",
            "activation_9 (Activation)    (None, 56, 46, 64)        0         \n",
            "_________________________________________________________________\n",
            "max_pooling2d_9 (MaxPooling2 (None, 28, 23, 64)        0         \n",
            "_________________________________________________________________\n",
            "conv2d_10 (Conv2D)           (None, 28, 23, 32)        18432     \n",
            "_________________________________________________________________\n",
            "batch_normalization_10 (Batc (None, 28, 23, 32)        128       \n",
            "_________________________________________________________________\n",
            "activation_10 (Activation)   (None, 28, 23, 32)        0         \n",
            "_________________________________________________________________\n",
            "max_pooling2d_10 (MaxPooling (None, 14, 11, 32)        0         \n",
            "_________________________________________________________________\n",
            "conv2d_11 (Conv2D)           (None, 14, 11, 16)        4608      \n",
            "_________________________________________________________________\n",
            "batch_normalization_11 (Batc (None, 14, 11, 16)        64        \n",
            "_________________________________________________________________\n",
            "activation_11 (Activation)   (None, 14, 11, 16)        0         \n",
            "_________________________________________________________________\n",
            "max_pooling2d_11 (MaxPooling (None, 7, 5, 16)          0         \n",
            "_________________________________________________________________\n",
            "flatten_2 (Flatten)          (None, 560)               0         \n",
            "_________________________________________________________________\n",
            "dense_8 (Dense)              (None, 128)               71808     \n",
            "_________________________________________________________________\n",
            "dropout_6 (Dropout)          (None, 128)               0         \n",
            "_________________________________________________________________\n",
            "dense_9 (Dense)              (None, 64)                8256      \n",
            "_________________________________________________________________\n",
            "dropout_7 (Dropout)          (None, 64)                0         \n",
            "_________________________________________________________________\n",
            "dense_10 (Dense)             (None, 16)                1040      \n",
            "_________________________________________________________________\n",
            "dropout_8 (Dropout)          (None, 16)                0         \n",
            "_________________________________________________________________\n",
            "dense_11 (Dense)             (None, 20)                340       \n",
            "=================================================================\n",
            "Total params: 180,324\n",
            "Trainable params: 179,844\n",
            "Non-trainable params: 480\n",
            "_________________________________________________________________\n"
          ],
          "name": "stdout"
        }
      ]
    },
    {
      "cell_type": "code",
      "metadata": {
        "id": "-QRV416MFyJs"
      },
      "source": [
        "#Compile\r\n",
        "\r\n",
        "model.compile(optimizer='adam',\r\n",
        "            \r\n",
        "              loss='categorical_crossentropy',\r\n",
        "              metrics=['accuracy'])"
      ],
      "execution_count": 36,
      "outputs": []
    },
    {
      "cell_type": "code",
      "metadata": {
        "id": "FDyT5LTbF1vd",
        "colab": {
          "base_uri": "https://localhost:8080/"
        },
        "outputId": "713baba6-fdfc-4002-cdc1-769b74569ac3"
      },
      "source": [
        "#Fit\r\n",
        "history = model.fit(x=train_examples_normalized1,\r\n",
        "                    y=train_labels_hotcode,\r\n",
        "                    validation_data=(test_examples_normalized1,test_labels_hotcode),\r\n",
        "                    batch_size=20,\r\n",
        "                    validation_batch_size=32,\r\n",
        "                    epochs = 100 )"
      ],
      "execution_count": 37,
      "outputs": [
        {
          "output_type": "stream",
          "text": [
            "Epoch 1/100\n",
            "12/12 [==============================] - 1s 39ms/step - loss: 3.1288 - accuracy: 0.0679 - val_loss: 2.9939 - val_accuracy: 0.0500\n",
            "Epoch 2/100\n",
            "12/12 [==============================] - 0s 19ms/step - loss: 2.8396 - accuracy: 0.1049 - val_loss: 2.9803 - val_accuracy: 0.1125\n",
            "Epoch 3/100\n",
            "12/12 [==============================] - 0s 18ms/step - loss: 2.6718 - accuracy: 0.1274 - val_loss: 2.9623 - val_accuracy: 0.1250\n",
            "Epoch 4/100\n",
            "12/12 [==============================] - 0s 17ms/step - loss: 2.5642 - accuracy: 0.1930 - val_loss: 2.9647 - val_accuracy: 0.0938\n",
            "Epoch 5/100\n",
            "12/12 [==============================] - 0s 17ms/step - loss: 2.2433 - accuracy: 0.3030 - val_loss: 2.9330 - val_accuracy: 0.1875\n",
            "Epoch 6/100\n",
            "12/12 [==============================] - 0s 17ms/step - loss: 2.1145 - accuracy: 0.3110 - val_loss: 2.9561 - val_accuracy: 0.0625\n",
            "Epoch 7/100\n",
            "12/12 [==============================] - 0s 17ms/step - loss: 1.8935 - accuracy: 0.3834 - val_loss: 2.9487 - val_accuracy: 0.0812\n",
            "Epoch 8/100\n",
            "12/12 [==============================] - 0s 17ms/step - loss: 1.6494 - accuracy: 0.4671 - val_loss: 3.0344 - val_accuracy: 0.0500\n",
            "Epoch 9/100\n",
            "12/12 [==============================] - 0s 17ms/step - loss: 1.4496 - accuracy: 0.5840 - val_loss: 3.0613 - val_accuracy: 0.0500\n",
            "Epoch 10/100\n",
            "12/12 [==============================] - 0s 17ms/step - loss: 1.2151 - accuracy: 0.5938 - val_loss: 3.2611 - val_accuracy: 0.0500\n",
            "Epoch 11/100\n",
            "12/12 [==============================] - 0s 17ms/step - loss: 0.9499 - accuracy: 0.7618 - val_loss: 3.5835 - val_accuracy: 0.0500\n",
            "Epoch 12/100\n",
            "12/12 [==============================] - 0s 17ms/step - loss: 0.9718 - accuracy: 0.7189 - val_loss: 3.9361 - val_accuracy: 0.0500\n",
            "Epoch 13/100\n",
            "12/12 [==============================] - 0s 17ms/step - loss: 0.7968 - accuracy: 0.7535 - val_loss: 4.1686 - val_accuracy: 0.0500\n",
            "Epoch 14/100\n",
            "12/12 [==============================] - 0s 17ms/step - loss: 0.8326 - accuracy: 0.7330 - val_loss: 4.1725 - val_accuracy: 0.0500\n",
            "Epoch 15/100\n",
            "12/12 [==============================] - 0s 17ms/step - loss: 0.7434 - accuracy: 0.7851 - val_loss: 4.0769 - val_accuracy: 0.0500\n",
            "Epoch 16/100\n",
            "12/12 [==============================] - 0s 17ms/step - loss: 0.6664 - accuracy: 0.7955 - val_loss: 4.2315 - val_accuracy: 0.0500\n",
            "Epoch 17/100\n",
            "12/12 [==============================] - 0s 17ms/step - loss: 0.5912 - accuracy: 0.8067 - val_loss: 4.4462 - val_accuracy: 0.0500\n",
            "Epoch 18/100\n",
            "12/12 [==============================] - 0s 17ms/step - loss: 0.6047 - accuracy: 0.8275 - val_loss: 4.2562 - val_accuracy: 0.0500\n",
            "Epoch 19/100\n",
            "12/12 [==============================] - 0s 18ms/step - loss: 0.5903 - accuracy: 0.8151 - val_loss: 4.5057 - val_accuracy: 0.0500\n",
            "Epoch 20/100\n",
            "12/12 [==============================] - 0s 17ms/step - loss: 0.4932 - accuracy: 0.8393 - val_loss: 4.4435 - val_accuracy: 0.0500\n",
            "Epoch 21/100\n",
            "12/12 [==============================] - 0s 17ms/step - loss: 0.4261 - accuracy: 0.8691 - val_loss: 4.9560 - val_accuracy: 0.0500\n",
            "Epoch 22/100\n",
            "12/12 [==============================] - 0s 17ms/step - loss: 0.4369 - accuracy: 0.8393 - val_loss: 4.9993 - val_accuracy: 0.0500\n",
            "Epoch 23/100\n",
            "12/12 [==============================] - 0s 17ms/step - loss: 0.3597 - accuracy: 0.8992 - val_loss: 4.1594 - val_accuracy: 0.0500\n",
            "Epoch 24/100\n",
            "12/12 [==============================] - 0s 18ms/step - loss: 0.4071 - accuracy: 0.8452 - val_loss: 5.2373 - val_accuracy: 0.0500\n",
            "Epoch 25/100\n",
            "12/12 [==============================] - 0s 17ms/step - loss: 0.5163 - accuracy: 0.8290 - val_loss: 4.6895 - val_accuracy: 0.0500\n",
            "Epoch 26/100\n",
            "12/12 [==============================] - 0s 17ms/step - loss: 0.3755 - accuracy: 0.8901 - val_loss: 4.7610 - val_accuracy: 0.0500\n",
            "Epoch 27/100\n",
            "12/12 [==============================] - 0s 17ms/step - loss: 0.3367 - accuracy: 0.9046 - val_loss: 5.3552 - val_accuracy: 0.0500\n",
            "Epoch 28/100\n",
            "12/12 [==============================] - 0s 17ms/step - loss: 0.3620 - accuracy: 0.8495 - val_loss: 4.5628 - val_accuracy: 0.0500\n",
            "Epoch 29/100\n",
            "12/12 [==============================] - 0s 17ms/step - loss: 0.3066 - accuracy: 0.8962 - val_loss: 4.9429 - val_accuracy: 0.0562\n",
            "Epoch 30/100\n",
            "12/12 [==============================] - 0s 17ms/step - loss: 0.2859 - accuracy: 0.9059 - val_loss: 6.8958 - val_accuracy: 0.0500\n",
            "Epoch 31/100\n",
            "12/12 [==============================] - 0s 17ms/step - loss: 0.3419 - accuracy: 0.8660 - val_loss: 4.8790 - val_accuracy: 0.0625\n",
            "Epoch 32/100\n",
            "12/12 [==============================] - 0s 17ms/step - loss: 0.3429 - accuracy: 0.8957 - val_loss: 5.4237 - val_accuracy: 0.0562\n",
            "Epoch 33/100\n",
            "12/12 [==============================] - 0s 16ms/step - loss: 0.3705 - accuracy: 0.8917 - val_loss: 5.1661 - val_accuracy: 0.0625\n",
            "Epoch 34/100\n",
            "12/12 [==============================] - 0s 17ms/step - loss: 0.3440 - accuracy: 0.8890 - val_loss: 4.2422 - val_accuracy: 0.0812\n",
            "Epoch 35/100\n",
            "12/12 [==============================] - 0s 17ms/step - loss: 0.2433 - accuracy: 0.9334 - val_loss: 4.3122 - val_accuracy: 0.0938\n",
            "Epoch 36/100\n",
            "12/12 [==============================] - 0s 18ms/step - loss: 0.2505 - accuracy: 0.9128 - val_loss: 4.0133 - val_accuracy: 0.1375\n",
            "Epoch 37/100\n",
            "12/12 [==============================] - 0s 17ms/step - loss: 0.2596 - accuracy: 0.9238 - val_loss: 4.4704 - val_accuracy: 0.1437\n",
            "Epoch 38/100\n",
            "12/12 [==============================] - 0s 18ms/step - loss: 0.1827 - accuracy: 0.9462 - val_loss: 4.5789 - val_accuracy: 0.1500\n",
            "Epoch 39/100\n",
            "12/12 [==============================] - 0s 18ms/step - loss: 0.2838 - accuracy: 0.9013 - val_loss: 4.4309 - val_accuracy: 0.1375\n",
            "Epoch 40/100\n",
            "12/12 [==============================] - 0s 17ms/step - loss: 0.2293 - accuracy: 0.9207 - val_loss: 4.4774 - val_accuracy: 0.1250\n",
            "Epoch 41/100\n",
            "12/12 [==============================] - 0s 17ms/step - loss: 0.1999 - accuracy: 0.9363 - val_loss: 3.9435 - val_accuracy: 0.2000\n",
            "Epoch 42/100\n",
            "12/12 [==============================] - 0s 17ms/step - loss: 0.2500 - accuracy: 0.9256 - val_loss: 3.3113 - val_accuracy: 0.2625\n",
            "Epoch 43/100\n",
            "12/12 [==============================] - 0s 17ms/step - loss: 0.1514 - accuracy: 0.9570 - val_loss: 3.7078 - val_accuracy: 0.2750\n",
            "Epoch 44/100\n",
            "12/12 [==============================] - 0s 17ms/step - loss: 0.1773 - accuracy: 0.9370 - val_loss: 3.6334 - val_accuracy: 0.2125\n",
            "Epoch 45/100\n",
            "12/12 [==============================] - 0s 17ms/step - loss: 0.2013 - accuracy: 0.9348 - val_loss: 3.2708 - val_accuracy: 0.2500\n",
            "Epoch 46/100\n",
            "12/12 [==============================] - 0s 17ms/step - loss: 0.3230 - accuracy: 0.8938 - val_loss: 2.7223 - val_accuracy: 0.3938\n",
            "Epoch 47/100\n",
            "12/12 [==============================] - 0s 18ms/step - loss: 0.2243 - accuracy: 0.9293 - val_loss: 2.6288 - val_accuracy: 0.4750\n",
            "Epoch 48/100\n",
            "12/12 [==============================] - 0s 17ms/step - loss: 0.1903 - accuracy: 0.9363 - val_loss: 1.9016 - val_accuracy: 0.5125\n",
            "Epoch 49/100\n",
            "12/12 [==============================] - 0s 17ms/step - loss: 0.2097 - accuracy: 0.9296 - val_loss: 1.6221 - val_accuracy: 0.5938\n",
            "Epoch 50/100\n",
            "12/12 [==============================] - 0s 17ms/step - loss: 0.2220 - accuracy: 0.9409 - val_loss: 1.0387 - val_accuracy: 0.7375\n",
            "Epoch 51/100\n",
            "12/12 [==============================] - 0s 18ms/step - loss: 0.2367 - accuracy: 0.9225 - val_loss: 0.9698 - val_accuracy: 0.7500\n",
            "Epoch 52/100\n",
            "12/12 [==============================] - 0s 17ms/step - loss: 0.1350 - accuracy: 0.9705 - val_loss: 0.4657 - val_accuracy: 0.8875\n",
            "Epoch 53/100\n",
            "12/12 [==============================] - 0s 18ms/step - loss: 0.1546 - accuracy: 0.9404 - val_loss: 1.1938 - val_accuracy: 0.6687\n",
            "Epoch 54/100\n",
            "12/12 [==============================] - 0s 17ms/step - loss: 0.1875 - accuracy: 0.9256 - val_loss: 0.7093 - val_accuracy: 0.8125\n",
            "Epoch 55/100\n",
            "12/12 [==============================] - 0s 17ms/step - loss: 0.1948 - accuracy: 0.9326 - val_loss: 0.2466 - val_accuracy: 0.9187\n",
            "Epoch 56/100\n",
            "12/12 [==============================] - 0s 18ms/step - loss: 0.2271 - accuracy: 0.9431 - val_loss: 0.3193 - val_accuracy: 0.9187\n",
            "Epoch 57/100\n",
            "12/12 [==============================] - 0s 17ms/step - loss: 0.1905 - accuracy: 0.9293 - val_loss: 0.1639 - val_accuracy: 0.9500\n",
            "Epoch 58/100\n",
            "12/12 [==============================] - 0s 17ms/step - loss: 0.2169 - accuracy: 0.9299 - val_loss: 0.1590 - val_accuracy: 0.9563\n",
            "Epoch 59/100\n",
            "12/12 [==============================] - 0s 17ms/step - loss: 0.2012 - accuracy: 0.9362 - val_loss: 0.1783 - val_accuracy: 0.9438\n",
            "Epoch 60/100\n",
            "12/12 [==============================] - 0s 17ms/step - loss: 0.1848 - accuracy: 0.9359 - val_loss: 0.3882 - val_accuracy: 0.9125\n",
            "Epoch 61/100\n",
            "12/12 [==============================] - 0s 18ms/step - loss: 0.1957 - accuracy: 0.9367 - val_loss: 0.2191 - val_accuracy: 0.9500\n",
            "Epoch 62/100\n",
            "12/12 [==============================] - 0s 17ms/step - loss: 0.1167 - accuracy: 0.9631 - val_loss: 0.3156 - val_accuracy: 0.9438\n",
            "Epoch 63/100\n",
            "12/12 [==============================] - 0s 17ms/step - loss: 0.1659 - accuracy: 0.9469 - val_loss: 0.4352 - val_accuracy: 0.9062\n",
            "Epoch 64/100\n",
            "12/12 [==============================] - 0s 17ms/step - loss: 0.2247 - accuracy: 0.9433 - val_loss: 0.2451 - val_accuracy: 0.9500\n",
            "Epoch 65/100\n",
            "12/12 [==============================] - 0s 17ms/step - loss: 0.1783 - accuracy: 0.9234 - val_loss: 0.3605 - val_accuracy: 0.9125\n",
            "Epoch 66/100\n",
            "12/12 [==============================] - 0s 18ms/step - loss: 0.1452 - accuracy: 0.9594 - val_loss: 0.1232 - val_accuracy: 0.9688\n",
            "Epoch 67/100\n",
            "12/12 [==============================] - 0s 18ms/step - loss: 0.1258 - accuracy: 0.9478 - val_loss: 0.0817 - val_accuracy: 0.9750\n",
            "Epoch 68/100\n",
            "12/12 [==============================] - 0s 18ms/step - loss: 0.1115 - accuracy: 0.9598 - val_loss: 0.0664 - val_accuracy: 0.9688\n",
            "Epoch 69/100\n",
            "12/12 [==============================] - 0s 17ms/step - loss: 0.2418 - accuracy: 0.9186 - val_loss: 0.1903 - val_accuracy: 0.9500\n",
            "Epoch 70/100\n",
            "12/12 [==============================] - 0s 18ms/step - loss: 0.1946 - accuracy: 0.9299 - val_loss: 0.1332 - val_accuracy: 0.9625\n",
            "Epoch 71/100\n",
            "12/12 [==============================] - 0s 17ms/step - loss: 0.1730 - accuracy: 0.9498 - val_loss: 0.1907 - val_accuracy: 0.9563\n",
            "Epoch 72/100\n",
            "12/12 [==============================] - 0s 17ms/step - loss: 0.2080 - accuracy: 0.9165 - val_loss: 0.1287 - val_accuracy: 0.9688\n",
            "Epoch 73/100\n",
            "12/12 [==============================] - 0s 17ms/step - loss: 0.1962 - accuracy: 0.9285 - val_loss: 0.1622 - val_accuracy: 0.9500\n",
            "Epoch 74/100\n",
            "12/12 [==============================] - 0s 17ms/step - loss: 0.1053 - accuracy: 0.9583 - val_loss: 0.1837 - val_accuracy: 0.9500\n",
            "Epoch 75/100\n",
            "12/12 [==============================] - 0s 17ms/step - loss: 0.0878 - accuracy: 0.9728 - val_loss: 0.1482 - val_accuracy: 0.9688\n",
            "Epoch 76/100\n",
            "12/12 [==============================] - 0s 18ms/step - loss: 0.1771 - accuracy: 0.9317 - val_loss: 0.1118 - val_accuracy: 0.9875\n",
            "Epoch 77/100\n",
            "12/12 [==============================] - 0s 17ms/step - loss: 0.1058 - accuracy: 0.9550 - val_loss: 0.0773 - val_accuracy: 0.9750\n",
            "Epoch 78/100\n",
            "12/12 [==============================] - 0s 17ms/step - loss: 0.1091 - accuracy: 0.9575 - val_loss: 0.0725 - val_accuracy: 0.9750\n",
            "Epoch 79/100\n",
            "12/12 [==============================] - 0s 17ms/step - loss: 0.1147 - accuracy: 0.9695 - val_loss: 0.0775 - val_accuracy: 0.9750\n",
            "Epoch 80/100\n",
            "12/12 [==============================] - 0s 17ms/step - loss: 0.1557 - accuracy: 0.9443 - val_loss: 0.1251 - val_accuracy: 0.9563\n",
            "Epoch 81/100\n",
            "12/12 [==============================] - 0s 17ms/step - loss: 0.2182 - accuracy: 0.9083 - val_loss: 0.2333 - val_accuracy: 0.9625\n",
            "Epoch 82/100\n",
            "12/12 [==============================] - 0s 17ms/step - loss: 0.1398 - accuracy: 0.9565 - val_loss: 0.1779 - val_accuracy: 0.9625\n",
            "Epoch 83/100\n",
            "12/12 [==============================] - 0s 18ms/step - loss: 0.1113 - accuracy: 0.9564 - val_loss: 0.2217 - val_accuracy: 0.9500\n",
            "Epoch 84/100\n",
            "12/12 [==============================] - 0s 17ms/step - loss: 0.0780 - accuracy: 0.9664 - val_loss: 0.2312 - val_accuracy: 0.9563\n",
            "Epoch 85/100\n",
            "12/12 [==============================] - 0s 30ms/step - loss: 0.1467 - accuracy: 0.9506 - val_loss: 0.2689 - val_accuracy: 0.9125\n",
            "Epoch 86/100\n",
            "12/12 [==============================] - 0s 18ms/step - loss: 0.1376 - accuracy: 0.9454 - val_loss: 0.1066 - val_accuracy: 0.9688\n",
            "Epoch 87/100\n",
            "12/12 [==============================] - 0s 18ms/step - loss: 0.1181 - accuracy: 0.9566 - val_loss: 0.0939 - val_accuracy: 0.9688\n",
            "Epoch 88/100\n",
            "12/12 [==============================] - 0s 17ms/step - loss: 0.1592 - accuracy: 0.9401 - val_loss: 0.8251 - val_accuracy: 0.8125\n",
            "Epoch 89/100\n",
            "12/12 [==============================] - 0s 18ms/step - loss: 0.0948 - accuracy: 0.9755 - val_loss: 0.2759 - val_accuracy: 0.9125\n",
            "Epoch 90/100\n",
            "12/12 [==============================] - 0s 18ms/step - loss: 0.2019 - accuracy: 0.9125 - val_loss: 0.3220 - val_accuracy: 0.9375\n",
            "Epoch 91/100\n",
            "12/12 [==============================] - 0s 17ms/step - loss: 0.1166 - accuracy: 0.9560 - val_loss: 0.2852 - val_accuracy: 0.9375\n",
            "Epoch 92/100\n",
            "12/12 [==============================] - 0s 17ms/step - loss: 0.1195 - accuracy: 0.9576 - val_loss: 0.1661 - val_accuracy: 0.9688\n",
            "Epoch 93/100\n",
            "12/12 [==============================] - 0s 17ms/step - loss: 0.1398 - accuracy: 0.9835 - val_loss: 0.2122 - val_accuracy: 0.9375\n",
            "Epoch 94/100\n",
            "12/12 [==============================] - 0s 18ms/step - loss: 0.1124 - accuracy: 0.9604 - val_loss: 0.2632 - val_accuracy: 0.9563\n",
            "Epoch 95/100\n",
            "12/12 [==============================] - 0s 17ms/step - loss: 0.0999 - accuracy: 0.9611 - val_loss: 0.1788 - val_accuracy: 0.9375\n",
            "Epoch 96/100\n",
            "12/12 [==============================] - 0s 19ms/step - loss: 0.1108 - accuracy: 0.9595 - val_loss: 0.2482 - val_accuracy: 0.9125\n",
            "Epoch 97/100\n",
            "12/12 [==============================] - 0s 18ms/step - loss: 0.1733 - accuracy: 0.9308 - val_loss: 0.2514 - val_accuracy: 0.9500\n",
            "Epoch 98/100\n",
            "12/12 [==============================] - 0s 17ms/step - loss: 0.1155 - accuracy: 0.9787 - val_loss: 0.2798 - val_accuracy: 0.9375\n",
            "Epoch 99/100\n",
            "12/12 [==============================] - 0s 18ms/step - loss: 0.1182 - accuracy: 0.9366 - val_loss: 0.1910 - val_accuracy: 0.9625\n",
            "Epoch 100/100\n",
            "12/12 [==============================] - 0s 17ms/step - loss: 0.0794 - accuracy: 0.9681 - val_loss: 0.1485 - val_accuracy: 0.9875\n"
          ],
          "name": "stdout"
        }
      ]
    },
    {
      "cell_type": "code",
      "metadata": {
        "id": "XbVTfixCgm7e",
        "colab": {
          "base_uri": "https://localhost:8080/",
          "height": 300
        },
        "outputId": "db357336-ca16-4f20-f509-111e99af6010"
      },
      "source": [
        "plt.plot(history.history['accuracy'], label='accuracy')\r\n",
        "plt.plot(history.history['val_accuracy'], label = 'val_accuracy')\r\n",
        "plt.xlabel('Epoch')\r\n",
        "plt.ylabel('Accuracy')\r\n",
        "plt.ylim([0, 1])\r\n",
        "plt.legend(loc='lower right')\r\n",
        "\r\n",
        "test_loss, test_acc = model.evaluate(test_examples_normalized1,test_labels_hotcode, verbose=2)"
      ],
      "execution_count": 38,
      "outputs": [
        {
          "output_type": "stream",
          "text": [
            "5/5 - 0s - loss: 0.1485 - accuracy: 0.9875\n"
          ],
          "name": "stdout"
        },
        {
          "output_type": "display_data",
          "data": {
            "image/png": "[encoded data removed]",
            "text/plain": [
              "<Figure size 432x288 with 1 Axes>"
            ]
          },
          "metadata": {
            "tags": [],
            "needs_background": "light"
          }
        }
      ]
    },
    {
      "cell_type": "code",
      "metadata": {
        "id": "H3m9GQWugz_0",
        "colab": {
          "base_uri": "https://localhost:8080/"
        },
        "outputId": "e78dfa98-4b98-4799-91bd-4ffbe697c4aa"
      },
      "source": [
        "print(test_acc)"
      ],
      "execution_count": 39,
      "outputs": [
        {
          "output_type": "stream",
          "text": [
            "0.987500011920929\n"
          ],
          "name": "stdout"
        }
      ]
    },
    {
      "cell_type": "code",
      "metadata": {
        "id": "fWHENn14cUpW"
      },
      "source": [
        "model.save('/content/sample_data/my_model.h5')"
      ],
      "execution_count": 40,
      "outputs": []
    },
    {
      "cell_type": "code",
      "metadata": {
        "id": "TtXVnd2KUcku"
      },
      "source": [
        "img=tf.keras.preprocessing.image.img_to_array(train_examples_normalized1[0])"
      ],
      "execution_count": 41,
      "outputs": []
    },
    {
      "cell_type": "code",
      "metadata": {
        "id": "_BxBjjIiU8sL"
      },
      "source": [
        "imgexpanded=np.expand_dims(img,axis=0)"
      ],
      "execution_count": 42,
      "outputs": []
    },
    {
      "cell_type": "code",
      "metadata": {
        "id": "UObyI-tCVLV5",
        "colab": {
          "base_uri": "https://localhost:8080/"
        },
        "outputId": "f8398fc3-4916-4a67-feaa-cbafb14c0f71"
      },
      "source": [
        "model.predict_classes(imgexpanded)"
      ],
      "execution_count": 43,
      "outputs": [
        {
          "output_type": "stream",
          "text": [
            "/usr/local/lib/python3.7/dist-packages/tensorflow/python/keras/engine/sequential.py:450: UserWarning: `model.predict_classes()` is deprecated and will be removed after 2021-01-01. Please use instead:* `np.argmax(model.predict(x), axis=-1)`,   if your model does multi-class classification   (e.g. if it uses a `softmax` last-layer activation).* `(model.predict(x) > 0.5).astype(\"int32\")`,   if your model does binary classification   (e.g. if it uses a `sigmoid` last-layer activation).\n",
            "  warnings.warn('`model.predict_classes()` is deprecated and '\n"
          ],
          "name": "stderr"
        },
        {
          "output_type": "execute_result",
          "data": {
            "text/plain": [
              "array([0])"
            ]
          },
          "metadata": {
            "tags": []
          },
          "execution_count": 43
        }
      ]
    },
    {
      "cell_type": "code",
      "metadata": {
        "id": "oCcvtWjgN0tz",
        "colab": {
          "base_uri": "https://localhost:8080/"
        },
        "outputId": "02c40933-db27-4f4b-c97d-42a9b05951ef"
      },
      "source": [
        "if (model.predict_classes(imgexpanded))==0:\r\n",
        "  print(\"it's working\")\r\n",
        "else:\r\n",
        "  print(\"it's not\")"
      ],
      "execution_count": 44,
      "outputs": [
        {
          "output_type": "stream",
          "text": [
            "it's working\n"
          ],
          "name": "stdout"
        },
        {
          "output_type": "stream",
          "text": [
            "/usr/local/lib/python3.7/dist-packages/tensorflow/python/keras/engine/sequential.py:450: UserWarning: `model.predict_classes()` is deprecated and will be removed after 2021-01-01. Please use instead:* `np.argmax(model.predict(x), axis=-1)`,   if your model does multi-class classification   (e.g. if it uses a `softmax` last-layer activation).* `(model.predict(x) > 0.5).astype(\"int32\")`,   if your model does binary classification   (e.g. if it uses a `sigmoid` last-layer activation).\n",
            "  warnings.warn('`model.predict_classes()` is deprecated and '\n"
          ],
          "name": "stderr"
        }
      ]
    }
  ]
}