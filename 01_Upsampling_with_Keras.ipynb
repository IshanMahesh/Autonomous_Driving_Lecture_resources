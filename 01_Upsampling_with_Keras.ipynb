{
  "nbformat": 4,
  "nbformat_minor": 0,
  "metadata": {
    "kernelspec": {
      "display_name": "Python 3",
      "language": "python",
      "name": "python3"
    },
    "language_info": {
      "codemirror_mode": {
        "name": "ipython",
        "version": 3
      },
      "file_extension": ".py",
      "mimetype": "text/x-python",
      "name": "python",
      "nbconvert_exporter": "python",
      "pygments_lexer": "ipython3",
      "version": "3.7.0"
    },
    "colab": {
      "name": "01 - Upsampling with Keras.ipynb",
      "provenance": [],
      "include_colab_link": true
    }
  },
  "cells": [
    {
      "cell_type": "markdown",
      "metadata": {
        "id": "view-in-github",
        "colab_type": "text"
      },
      "source": [
        "<a href=\"https://colab.research.google.com/github/Mayakshanesht/Autonomous_Driving_Lecture_resources/blob/Perception/01_Upsampling_with_Keras.ipynb\" target=\"_parent\"><img src=\"https://colab.research.google.com/assets/colab-badge.svg\" alt=\"Open In Colab\"/></a>"
      ]
    },
    {
      "cell_type": "markdown",
      "metadata": {
        "id": "Ucw9f0McUptR"
      },
      "source": [
        "# Importing libraries"
      ]
    },
    {
      "cell_type": "code",
      "metadata": {
        "id": "5ZKXqI8nUptY"
      },
      "source": [
        "import numpy as np\n",
        "import keras"
      ],
      "execution_count": 1,
      "outputs": []
    },
    {
      "cell_type": "markdown",
      "metadata": {
        "id": "-k5CqArUUpta"
      },
      "source": [
        "# Defining the Input"
      ]
    },
    {
      "cell_type": "markdown",
      "metadata": {
        "id": "IAO8RRZ-UxaJ"
      },
      "source": [
        ""
      ]
    },
    {
      "cell_type": "code",
      "metadata": {
        "id": "iV2CPVqAUptb"
      },
      "source": [
        "X = np.array([[1,2],\n",
        "              [3,4]], dtype= np.uint8)\n",
        "X = X.reshape((1,2,2,1))"
      ],
      "execution_count": null,
      "outputs": []
    },
    {
      "cell_type": "markdown",
      "metadata": {
        "id": "HYb9remMUptb"
      },
      "source": [
        "## Configuring the layers"
      ]
    },
    {
      "cell_type": "code",
      "metadata": {
        "id": "rS_8G1WDUptb",
        "outputId": "7ab72ea7-a07a-4bd7-ad0c-e3d498abdd68"
      },
      "source": [
        "model = keras.models.Sequential()\n",
        "model.add(keras.layers.UpSampling2D(input_shape= (2,2,1)))\n",
        "model.summary()"
      ],
      "execution_count": null,
      "outputs": [
        {
          "output_type": "stream",
          "text": [
            "Model: \"sequential_4\"\n",
            "_________________________________________________________________\n",
            "Layer (type)                 Output Shape              Param #   \n",
            "=================================================================\n",
            "up_sampling2d_4 (UpSampling2 (None, 4, 4, 1)           0         \n",
            "=================================================================\n",
            "Total params: 0\n",
            "Trainable params: 0\n",
            "Non-trainable params: 0\n",
            "_________________________________________________________________\n"
          ],
          "name": "stdout"
        }
      ]
    },
    {
      "cell_type": "markdown",
      "metadata": {
        "id": "cRV6ObaAUptc"
      },
      "source": [
        "### Predicting the output"
      ]
    },
    {
      "cell_type": "code",
      "metadata": {
        "id": "hjcFHs8iUptc",
        "outputId": "c47d0d53-13c0-4235-848c-443ad2b4ffae"
      },
      "source": [
        "yhat = model.predict(X)\n",
        "yhat = yhat.reshape((4,4))\n",
        "yhat"
      ],
      "execution_count": null,
      "outputs": [
        {
          "output_type": "execute_result",
          "data": {
            "text/plain": [
              "array([[1., 1., 2., 2.],\n",
              "       [1., 1., 2., 2.],\n",
              "       [3., 3., 4., 4.],\n",
              "       [3., 3., 4., 4.]], dtype=float32)"
            ]
          },
          "metadata": {
            "tags": []
          },
          "execution_count": 14
        }
      ]
    },
    {
      "cell_type": "markdown",
      "metadata": {
        "id": "MOpwSfXsUptd"
      },
      "source": [
        "# Using different model"
      ]
    },
    {
      "cell_type": "code",
      "metadata": {
        "id": "d6A9y6mrUptd",
        "outputId": "c0f6bd5c-6c59-4c9c-9ee4-a3f8c34f4df1"
      },
      "source": [
        "model2 = keras.models.Sequential()\n",
        "model2.add(keras.layers.UpSampling2D(input_shape= (2,2,1), size= (3,3)))\n",
        "model2.summary()"
      ],
      "execution_count": null,
      "outputs": [
        {
          "output_type": "stream",
          "text": [
            "Model: \"sequential_5\"\n",
            "_________________________________________________________________\n",
            "Layer (type)                 Output Shape              Param #   \n",
            "=================================================================\n",
            "up_sampling2d_5 (UpSampling2 (None, 6, 6, 1)           0         \n",
            "=================================================================\n",
            "Total params: 0\n",
            "Trainable params: 0\n",
            "Non-trainable params: 0\n",
            "_________________________________________________________________\n"
          ],
          "name": "stdout"
        }
      ]
    },
    {
      "cell_type": "markdown",
      "metadata": {
        "id": "ixPGsA2tUptd"
      },
      "source": [
        "### Predicting the output"
      ]
    },
    {
      "cell_type": "code",
      "metadata": {
        "id": "JaW7-zr0Upte",
        "outputId": "a9737ebc-c7a3-4892-ace6-3d8dcbbd6fd5"
      },
      "source": [
        "yhat = model2.predict(X)\n",
        "yhat = yhat.reshape((6,6))\n",
        "yhat"
      ],
      "execution_count": null,
      "outputs": [
        {
          "output_type": "execute_result",
          "data": {
            "text/plain": [
              "array([[1., 1., 1., 2., 2., 2.],\n",
              "       [1., 1., 1., 2., 2., 2.],\n",
              "       [1., 1., 1., 2., 2., 2.],\n",
              "       [3., 3., 3., 4., 4., 4.],\n",
              "       [3., 3., 3., 4., 4., 4.],\n",
              "       [3., 3., 3., 4., 4., 4.]], dtype=float32)"
            ]
          },
          "metadata": {
            "tags": []
          },
          "execution_count": 18
        }
      ]
    },
    {
      "cell_type": "markdown",
      "metadata": {
        "id": "Yk7zIccsUpte"
      },
      "source": [
        "# Different Model"
      ]
    },
    {
      "cell_type": "code",
      "metadata": {
        "id": "4Tm_4Wz0Upte",
        "outputId": "a15520ab-491b-49bb-bdf0-5cc32c6e3b91"
      },
      "source": [
        "visible = keras.layers.Input(shape= (2,2,1))\n",
        "outputs = keras.layers.UpSampling2D(input_shape= (2,2,1),\n",
        "                                   size= (4,4),\n",
        "                                   interpolation= 'bilinear')(visible)\n",
        "model3 = keras.models.Model(inputs= visible, outputs= outputs)\n",
        "model3.summary()"
      ],
      "execution_count": null,
      "outputs": [
        {
          "output_type": "stream",
          "text": [
            "Model: \"model_3\"\n",
            "_________________________________________________________________\n",
            "Layer (type)                 Output Shape              Param #   \n",
            "=================================================================\n",
            "input_3 (InputLayer)         (None, 2, 2, 1)           0         \n",
            "_________________________________________________________________\n",
            "up_sampling2d_9 (UpSampling2 (None, 8, 8, 1)           0         \n",
            "=================================================================\n",
            "Total params: 0\n",
            "Trainable params: 0\n",
            "Non-trainable params: 0\n",
            "_________________________________________________________________\n"
          ],
          "name": "stdout"
        }
      ]
    },
    {
      "cell_type": "markdown",
      "metadata": {
        "id": "3EdAc9ZsUptf"
      },
      "source": [
        "### Predicting the model"
      ]
    },
    {
      "cell_type": "code",
      "metadata": {
        "id": "hlxC2MRrUptf",
        "outputId": "220df8e0-6812-46eb-90eb-eb729193da57"
      },
      "source": [
        "yhat = model3.predict(X)\n",
        "yhat = yhat.reshape((8,8))\n",
        "yhat"
      ],
      "execution_count": null,
      "outputs": [
        {
          "output_type": "execute_result",
          "data": {
            "text/plain": [
              "array([[1.  , 1.25, 1.5 , 1.75, 2.  , 2.  , 2.  , 2.  ],\n",
              "       [1.5 , 1.75, 2.  , 2.25, 2.5 , 2.5 , 2.5 , 2.5 ],\n",
              "       [2.  , 2.25, 2.5 , 2.75, 3.  , 3.  , 3.  , 3.  ],\n",
              "       [2.5 , 2.75, 3.  , 3.25, 3.5 , 3.5 , 3.5 , 3.5 ],\n",
              "       [3.  , 3.25, 3.5 , 3.75, 4.  , 4.  , 4.  , 4.  ],\n",
              "       [3.  , 3.25, 3.5 , 3.75, 4.  , 4.  , 4.  , 4.  ],\n",
              "       [3.  , 3.25, 3.5 , 3.75, 4.  , 4.  , 4.  , 4.  ],\n",
              "       [3.  , 3.25, 3.5 , 3.75, 4.  , 4.  , 4.  , 4.  ]], dtype=float32)"
            ]
          },
          "metadata": {
            "tags": []
          },
          "execution_count": 28
        }
      ]
    },
    {
      "cell_type": "markdown",
      "metadata": {
        "id": "FWo1Mrl_Uptf"
      },
      "source": [
        "# Useful Links"
      ]
    },
    {
      "cell_type": "markdown",
      "metadata": {
        "id": "QjvrE3ruUptg"
      },
      "source": [
        "### [Official Doc](https://www.tensorflow.org/api_docs/python/tf/keras/layers/UpSampling2D)"
      ]
    }
  ]
}