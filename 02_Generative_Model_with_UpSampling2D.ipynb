{
  "nbformat": 4,
  "nbformat_minor": 0,
  "metadata": {
    "kernelspec": {
      "display_name": "Python 3",
      "language": "python",
      "name": "python3"
    },
    "language_info": {
      "codemirror_mode": {
        "name": "ipython",
        "version": 3
      },
      "file_extension": ".py",
      "mimetype": "text/x-python",
      "name": "python",
      "nbconvert_exporter": "python",
      "pygments_lexer": "ipython3",
      "version": "3.7.0"
    },
    "colab": {
      "name": "02 - Generative Model with UpSampling2D.ipynb",
      "provenance": [],
      "include_colab_link": true
    }
  },
  "cells": [
    {
      "cell_type": "markdown",
      "metadata": {
        "id": "view-in-github",
        "colab_type": "text"
      },
      "source": [
        "<a href=\"https://colab.research.google.com/github/Mayakshanesht/Autonomous_Driving_Lecture_resources/blob/Perception/02_Generative_Model_with_UpSampling2D.ipynb\" target=\"_parent\"><img src=\"https://colab.research.google.com/assets/colab-badge.svg\" alt=\"Open In Colab\"/></a>"
      ]
    },
    {
      "cell_type": "markdown",
      "metadata": {
        "id": "BTXB8MaHUqrf"
      },
      "source": [
        "# Importing the libraries"
      ]
    },
    {
      "cell_type": "code",
      "metadata": {
        "id": "sBJwNcZqUqrg",
        "outputId": "76d72eac-55ea-44c9-a145-a8d7edaff6cc"
      },
      "source": [
        "import keras\n",
        "import tensorboard"
      ],
      "execution_count": null,
      "outputs": [
        {
          "output_type": "stream",
          "text": [
            "Using TensorFlow backend.\n"
          ],
          "name": "stderr"
        }
      ]
    },
    {
      "cell_type": "markdown",
      "metadata": {
        "id": "-sTPn9-iUqri"
      },
      "source": [
        "## Defining the model"
      ]
    },
    {
      "cell_type": "code",
      "metadata": {
        "id": "HLYjD667Uqri",
        "outputId": "d7ef1554-1b01-4f2c-e6fb-de3d8895f302"
      },
      "source": [
        "model = keras.models.Sequential(name= 'Upsampling')\n",
        "model.add(keras.layers.Dense(units = 128 * 5 * 5, \n",
        "                             input_dim= 100,\n",
        "                            name= 'Dense01'))\n",
        "model.add(keras.layers.Reshape((5, 5, 128), name= 'Reshape01'))\n",
        "model.add(keras.layers.UpSampling2D(name= 'UpSampling01'))\n",
        "model.add(keras.layers.Conv2D(filters= 1,\n",
        "                              kernel_size= (3,3),\n",
        "                              padding= 'same',\n",
        "                              name= 'Conv2D_01'))\n",
        "model.summary()"
      ],
      "execution_count": null,
      "outputs": [
        {
          "output_type": "stream",
          "text": [
            "Model: \"Upsampling\"\n",
            "_________________________________________________________________\n",
            "Layer (type)                 Output Shape              Param #   \n",
            "=================================================================\n",
            "Dense01 (Dense)              (None, 3200)              323200    \n",
            "_________________________________________________________________\n",
            "Reshape01 (Reshape)          (None, 5, 5, 128)         0         \n",
            "_________________________________________________________________\n",
            "UpSampling01 (UpSampling2D)  (None, 10, 10, 128)       0         \n",
            "_________________________________________________________________\n",
            "Conv2D_01 (Conv2D)           (None, 10, 10, 1)         1153      \n",
            "=================================================================\n",
            "Total params: 324,353\n",
            "Trainable params: 324,353\n",
            "Non-trainable params: 0\n",
            "_________________________________________________________________\n"
          ],
          "name": "stdout"
        }
      ]
    }
  ]
}